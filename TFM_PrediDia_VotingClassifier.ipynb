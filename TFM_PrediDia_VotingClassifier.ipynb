{
 "cells": [
  {
   "cell_type": "markdown",
   "metadata": {},
   "source": [
    "## Autor:\n",
    "Andrea Campillo Piqueras.\n",
    "## Estudios:\n",
    "Universidad Internacional de La Rioja.\n",
    "Escuela Superior de Ingeniería y Tecnología.<br>\n",
    "Trabajo Fin de Máster Universitario en Análisis y Visualización de Datos Masivos/ Visual Analytics and Big Data.\n",
    "## Título:\n",
    "PrediDia: Un Enfoque Predictivo para la Evaluación de la Diabetes.\n",
    "## Repositorio:\n",
    "https://github.com/AndreaCampillo/TFM_PrediDia\n",
    "## Licencia:\n",
    "MIT License Copyright (c) 2024 Andrea Campillo Piqueras."
   ]
  },
  {
   "cell_type": "markdown",
   "metadata": {},
   "source": [
    "## <center><H1>Voting Classifier</H1></center> "
   ]
  },
  {
   "cell_type": "code",
   "execution_count": 1,
   "metadata": {},
   "outputs": [],
   "source": [
    "# Librerías utilizadas\n",
    "import time\n",
    "import pandas as pd\n",
    "from sklearn.metrics import f1_score\n",
    "from sklearn.model_selection import train_test_split\n",
    "from imblearn.over_sampling import SMOTE\n",
    "from sklearn.metrics import precision_score\n",
    "from sklearn.metrics import accuracy_score\n",
    "from sklearn.metrics import roc_auc_score\n",
    "from imblearn.metrics import specificity_score\n",
    "from sklearn.ensemble import VotingClassifier\n",
    "from sklearn.ensemble import RandomForestClassifier\n",
    "from sklearn.naive_bayes import GaussianNB\n",
    "from sklearn.ensemble import GradientBoostingClassifier\n",
    "from sklearn.linear_model import LogisticRegression"
   ]
  },
  {
   "cell_type": "markdown",
   "metadata": {},
   "source": [
    "# Dataset 2021"
   ]
  },
  {
   "cell_type": "code",
   "execution_count": 2,
   "metadata": {},
   "outputs": [],
   "source": [
    "url = 'https://github.com/AndreaCampillo/TFM_PrediDia/raw/Datasets/2021DataSet_Diabeticos_NoDiabeticos_Depurado.csv'\n",
    "dfDiabetes_load = pd.read_csv(url, sep=';')"
   ]
  },
  {
   "cell_type": "code",
   "execution_count": 3,
   "metadata": {},
   "outputs": [
    {
     "name": "stdout",
     "output_type": "stream",
     "text": [
      "<class 'pandas.core.frame.DataFrame'>\n",
      "RangeIndex: 229655 entries, 0 to 229654\n",
      "Data columns (total 45 columns):\n",
      " #   Column              Non-Null Count   Dtype\n",
      "---  ------              --------------   -----\n",
      " 0   Year                229655 non-null  int64\n",
      " 1   CatBMI              229655 non-null  int64\n",
      " 2   Stroke              229655 non-null  int64\n",
      " 3   HeartDis            229655 non-null  int64\n",
      " 4   PhysExer            229655 non-null  int64\n",
      " 5   HealthIns           229655 non-null  int64\n",
      " 6   NoMedCost           229655 non-null  int64\n",
      " 7   GenHealth           229655 non-null  int64\n",
      " 8   CogDiff             229655 non-null  int64\n",
      " 9   Depression          229655 non-null  int64\n",
      " 10  MentalHlth          229655 non-null  int64\n",
      " 11  MentalState         229655 non-null  int64\n",
      " 12  PhysHlth            229655 non-null  int64\n",
      " 13  WalkDiff            229655 non-null  int64\n",
      " 14  Gender              229655 non-null  int64\n",
      " 15  AgeRange            229655 non-null  int64\n",
      " 16  EdLevel             229655 non-null  int64\n",
      " 17  AnnIncome           229655 non-null  int64\n",
      " 18  SocClass            229655 non-null  int64\n",
      " 19  UrologyDz           229655 non-null  int64\n",
      " 20  VisionDiff          229655 non-null  int64\n",
      " 21  Asthma              229655 non-null  int64\n",
      " 22  LungDiseases        229655 non-null  int64\n",
      " 23  Arthritis           229655 non-null  int64\n",
      " 24  SmokerTrad          229655 non-null  int64\n",
      " 25  ECigSmok            229655 non-null  int64\n",
      " 26  AlcDrinker          229655 non-null  int64\n",
      " 27  Race                229655 non-null  int64\n",
      " 28  MaritalSt           229655 non-null  int64\n",
      " 29  LastMedChk          229655 non-null  int64\n",
      " 30  Awareness           229655 non-null  int64\n",
      " 31  FootIrrita          229655 non-null  int64\n",
      " 32  FecFootIrrita       229655 non-null  int64\n",
      " 33  HighBP              229655 non-null  int64\n",
      " 34  HighChol            229655 non-null  int64\n",
      " 35  FruitCons           229655 non-null  int64\n",
      " 36  VegCons             229655 non-null  int64\n",
      " 37  FruitOrVegCon       229655 non-null  int64\n",
      " 38  FruitAndVegCon      229655 non-null  int64\n",
      " 39  MarijuanaCon        229655 non-null  int64\n",
      " 40  SleepHours          229655 non-null  int64\n",
      " 41  BrDiabetes          229655 non-null  int64\n",
      " 42  GrDiabetes          229655 non-null  int64\n",
      " 43  SupGrPreDiabetes    229655 non-null  int64\n",
      " 44  SupGrNoPreDiabetes  229655 non-null  int64\n",
      "dtypes: int64(45)\n",
      "memory usage: 78.8 MB\n"
     ]
    }
   ],
   "source": [
    "dfDiabetes_load.info()"
   ]
  },
  {
   "cell_type": "code",
   "execution_count": 4,
   "metadata": {
    "scrolled": true
   },
   "outputs": [
    {
     "data": {
      "text/html": [
       "<div>\n",
       "<style scoped>\n",
       "    .dataframe tbody tr th:only-of-type {\n",
       "        vertical-align: middle;\n",
       "    }\n",
       "\n",
       "    .dataframe tbody tr th {\n",
       "        vertical-align: top;\n",
       "    }\n",
       "\n",
       "    .dataframe thead th {\n",
       "        text-align: right;\n",
       "    }\n",
       "</style>\n",
       "<table border=\"1\" class=\"dataframe\">\n",
       "  <thead>\n",
       "    <tr style=\"text-align: right;\">\n",
       "      <th></th>\n",
       "      <th>Year</th>\n",
       "      <th>CatBMI</th>\n",
       "      <th>Stroke</th>\n",
       "      <th>HeartDis</th>\n",
       "      <th>PhysExer</th>\n",
       "      <th>HealthIns</th>\n",
       "      <th>NoMedCost</th>\n",
       "      <th>GenHealth</th>\n",
       "      <th>CogDiff</th>\n",
       "      <th>Depression</th>\n",
       "      <th>...</th>\n",
       "      <th>FruitCons</th>\n",
       "      <th>VegCons</th>\n",
       "      <th>FruitOrVegCon</th>\n",
       "      <th>FruitAndVegCon</th>\n",
       "      <th>MarijuanaCon</th>\n",
       "      <th>SleepHours</th>\n",
       "      <th>BrDiabetes</th>\n",
       "      <th>GrDiabetes</th>\n",
       "      <th>SupGrPreDiabetes</th>\n",
       "      <th>SupGrNoPreDiabetes</th>\n",
       "    </tr>\n",
       "  </thead>\n",
       "  <tbody>\n",
       "    <tr>\n",
       "      <th>0</th>\n",
       "      <td>2021</td>\n",
       "      <td>1</td>\n",
       "      <td>2</td>\n",
       "      <td>2</td>\n",
       "      <td>2</td>\n",
       "      <td>1</td>\n",
       "      <td>2</td>\n",
       "      <td>2</td>\n",
       "      <td>2</td>\n",
       "      <td>2</td>\n",
       "      <td>...</td>\n",
       "      <td>1</td>\n",
       "      <td>1</td>\n",
       "      <td>1</td>\n",
       "      <td>1</td>\n",
       "      <td>9</td>\n",
       "      <td>99</td>\n",
       "      <td>3</td>\n",
       "      <td>3</td>\n",
       "      <td>2</td>\n",
       "      <td>2</td>\n",
       "    </tr>\n",
       "    <tr>\n",
       "      <th>1</th>\n",
       "      <td>2021</td>\n",
       "      <td>3</td>\n",
       "      <td>2</td>\n",
       "      <td>1</td>\n",
       "      <td>2</td>\n",
       "      <td>1</td>\n",
       "      <td>2</td>\n",
       "      <td>1</td>\n",
       "      <td>2</td>\n",
       "      <td>2</td>\n",
       "      <td>...</td>\n",
       "      <td>1</td>\n",
       "      <td>2</td>\n",
       "      <td>1</td>\n",
       "      <td>2</td>\n",
       "      <td>9</td>\n",
       "      <td>99</td>\n",
       "      <td>1</td>\n",
       "      <td>1</td>\n",
       "      <td>1</td>\n",
       "      <td>1</td>\n",
       "    </tr>\n",
       "    <tr>\n",
       "      <th>2</th>\n",
       "      <td>2021</td>\n",
       "      <td>4</td>\n",
       "      <td>2</td>\n",
       "      <td>2</td>\n",
       "      <td>1</td>\n",
       "      <td>1</td>\n",
       "      <td>2</td>\n",
       "      <td>1</td>\n",
       "      <td>2</td>\n",
       "      <td>2</td>\n",
       "      <td>...</td>\n",
       "      <td>1</td>\n",
       "      <td>1</td>\n",
       "      <td>1</td>\n",
       "      <td>1</td>\n",
       "      <td>9</td>\n",
       "      <td>99</td>\n",
       "      <td>1</td>\n",
       "      <td>1</td>\n",
       "      <td>1</td>\n",
       "      <td>1</td>\n",
       "    </tr>\n",
       "    <tr>\n",
       "      <th>3</th>\n",
       "      <td>2021</td>\n",
       "      <td>3</td>\n",
       "      <td>1</td>\n",
       "      <td>1</td>\n",
       "      <td>1</td>\n",
       "      <td>1</td>\n",
       "      <td>2</td>\n",
       "      <td>2</td>\n",
       "      <td>2</td>\n",
       "      <td>2</td>\n",
       "      <td>...</td>\n",
       "      <td>1</td>\n",
       "      <td>1</td>\n",
       "      <td>1</td>\n",
       "      <td>1</td>\n",
       "      <td>9</td>\n",
       "      <td>99</td>\n",
       "      <td>1</td>\n",
       "      <td>1</td>\n",
       "      <td>1</td>\n",
       "      <td>1</td>\n",
       "    </tr>\n",
       "    <tr>\n",
       "      <th>4</th>\n",
       "      <td>2021</td>\n",
       "      <td>2</td>\n",
       "      <td>2</td>\n",
       "      <td>2</td>\n",
       "      <td>2</td>\n",
       "      <td>1</td>\n",
       "      <td>2</td>\n",
       "      <td>1</td>\n",
       "      <td>2</td>\n",
       "      <td>2</td>\n",
       "      <td>...</td>\n",
       "      <td>2</td>\n",
       "      <td>2</td>\n",
       "      <td>2</td>\n",
       "      <td>2</td>\n",
       "      <td>9</td>\n",
       "      <td>99</td>\n",
       "      <td>3</td>\n",
       "      <td>3</td>\n",
       "      <td>2</td>\n",
       "      <td>2</td>\n",
       "    </tr>\n",
       "  </tbody>\n",
       "</table>\n",
       "<p>5 rows × 45 columns</p>\n",
       "</div>"
      ],
      "text/plain": [
       "   Year  CatBMI  Stroke  HeartDis  PhysExer  HealthIns  NoMedCost  GenHealth  \\\n",
       "0  2021       1       2         2         2          1          2          2   \n",
       "1  2021       3       2         1         2          1          2          1   \n",
       "2  2021       4       2         2         1          1          2          1   \n",
       "3  2021       3       1         1         1          1          2          2   \n",
       "4  2021       2       2         2         2          1          2          1   \n",
       "\n",
       "   CogDiff  Depression  ...  FruitCons  VegCons  FruitOrVegCon  \\\n",
       "0        2           2  ...          1        1              1   \n",
       "1        2           2  ...          1        2              1   \n",
       "2        2           2  ...          1        1              1   \n",
       "3        2           2  ...          1        1              1   \n",
       "4        2           2  ...          2        2              2   \n",
       "\n",
       "   FruitAndVegCon  MarijuanaCon  SleepHours  BrDiabetes  GrDiabetes  \\\n",
       "0               1             9          99           3           3   \n",
       "1               2             9          99           1           1   \n",
       "2               1             9          99           1           1   \n",
       "3               1             9          99           1           1   \n",
       "4               2             9          99           3           3   \n",
       "\n",
       "   SupGrPreDiabetes  SupGrNoPreDiabetes  \n",
       "0                 2                   2  \n",
       "1                 1                   1  \n",
       "2                 1                   1  \n",
       "3                 1                   1  \n",
       "4                 2                   2  \n",
       "\n",
       "[5 rows x 45 columns]"
      ]
     },
     "execution_count": 4,
     "metadata": {},
     "output_type": "execute_result"
    }
   ],
   "source": [
    "dfDiabetes_load.head()"
   ]
  },
  {
   "cell_type": "code",
   "execution_count": 5,
   "metadata": {},
   "outputs": [],
   "source": [
    "# Se reproduce el proceso pero eliminando las caracteristcas las características LungDiseases, VisionDiff, UrologyDZ,Stroke\n",
    "columns = ['CatBMI','HeartDis','PhysExer','GenHealth','CogDiff',\n",
    "           'Depression', 'PhysHlth', 'WalkDiff','Gender','AgeRange',\n",
    "           'EdLevel', 'SocClass','Asthma', 'Arthritis', 'SmokerTrad',\n",
    "           'AlcDrinker','Race', 'LastMedChk', 'HighBP','HighChol', 'FruitAndVegCon',\n",
    "           'SupGrPreDiabetes']\n",
    "dfDiabetes = dfDiabetes_load[columns].copy()"
   ]
  },
  {
   "cell_type": "code",
   "execution_count": 6,
   "metadata": {},
   "outputs": [],
   "source": [
    "dfDiabetes['SupGrPreDiabetes'] = dfDiabetes['SupGrPreDiabetes'].replace({2: 0, 1: 1})"
   ]
  },
  {
   "cell_type": "code",
   "execution_count": 7,
   "metadata": {
    "scrolled": true
   },
   "outputs": [
    {
     "name": "stdout",
     "output_type": "stream",
     "text": [
      "<class 'pandas.core.frame.DataFrame'>\n",
      "RangeIndex: 229655 entries, 0 to 229654\n",
      "Data columns (total 22 columns):\n",
      " #   Column            Non-Null Count   Dtype\n",
      "---  ------            --------------   -----\n",
      " 0   CatBMI            229655 non-null  int64\n",
      " 1   HeartDis          229655 non-null  int64\n",
      " 2   PhysExer          229655 non-null  int64\n",
      " 3   GenHealth         229655 non-null  int64\n",
      " 4   CogDiff           229655 non-null  int64\n",
      " 5   Depression        229655 non-null  int64\n",
      " 6   PhysHlth          229655 non-null  int64\n",
      " 7   WalkDiff          229655 non-null  int64\n",
      " 8   Gender            229655 non-null  int64\n",
      " 9   AgeRange          229655 non-null  int64\n",
      " 10  EdLevel           229655 non-null  int64\n",
      " 11  SocClass          229655 non-null  int64\n",
      " 12  Asthma            229655 non-null  int64\n",
      " 13  Arthritis         229655 non-null  int64\n",
      " 14  SmokerTrad        229655 non-null  int64\n",
      " 15  AlcDrinker        229655 non-null  int64\n",
      " 16  Race              229655 non-null  int64\n",
      " 17  LastMedChk        229655 non-null  int64\n",
      " 18  HighBP            229655 non-null  int64\n",
      " 19  HighChol          229655 non-null  int64\n",
      " 20  FruitAndVegCon    229655 non-null  int64\n",
      " 21  SupGrPreDiabetes  229655 non-null  int64\n",
      "dtypes: int64(22)\n",
      "memory usage: 38.5 MB\n"
     ]
    }
   ],
   "source": [
    "dfDiabetes.info()"
   ]
  },
  {
   "cell_type": "code",
   "execution_count": 8,
   "metadata": {
    "scrolled": false
   },
   "outputs": [
    {
     "data": {
      "text/html": [
       "<div>\n",
       "<style scoped>\n",
       "    .dataframe tbody tr th:only-of-type {\n",
       "        vertical-align: middle;\n",
       "    }\n",
       "\n",
       "    .dataframe tbody tr th {\n",
       "        vertical-align: top;\n",
       "    }\n",
       "\n",
       "    .dataframe thead th {\n",
       "        text-align: right;\n",
       "    }\n",
       "</style>\n",
       "<table border=\"1\" class=\"dataframe\">\n",
       "  <thead>\n",
       "    <tr style=\"text-align: right;\">\n",
       "      <th></th>\n",
       "      <th>CatBMI</th>\n",
       "      <th>HeartDis</th>\n",
       "      <th>PhysExer</th>\n",
       "      <th>GenHealth</th>\n",
       "      <th>CogDiff</th>\n",
       "      <th>Depression</th>\n",
       "      <th>PhysHlth</th>\n",
       "      <th>WalkDiff</th>\n",
       "      <th>Gender</th>\n",
       "      <th>AgeRange</th>\n",
       "      <th>...</th>\n",
       "      <th>Asthma</th>\n",
       "      <th>Arthritis</th>\n",
       "      <th>SmokerTrad</th>\n",
       "      <th>AlcDrinker</th>\n",
       "      <th>Race</th>\n",
       "      <th>LastMedChk</th>\n",
       "      <th>HighBP</th>\n",
       "      <th>HighChol</th>\n",
       "      <th>FruitAndVegCon</th>\n",
       "      <th>SupGrPreDiabetes</th>\n",
       "    </tr>\n",
       "  </thead>\n",
       "  <tbody>\n",
       "    <tr>\n",
       "      <th>0</th>\n",
       "      <td>1</td>\n",
       "      <td>2</td>\n",
       "      <td>2</td>\n",
       "      <td>2</td>\n",
       "      <td>2</td>\n",
       "      <td>2</td>\n",
       "      <td>3</td>\n",
       "      <td>2</td>\n",
       "      <td>2</td>\n",
       "      <td>6</td>\n",
       "      <td>...</td>\n",
       "      <td>2</td>\n",
       "      <td>1</td>\n",
       "      <td>3</td>\n",
       "      <td>1</td>\n",
       "      <td>1</td>\n",
       "      <td>2</td>\n",
       "      <td>2</td>\n",
       "      <td>1</td>\n",
       "      <td>1</td>\n",
       "      <td>0</td>\n",
       "    </tr>\n",
       "    <tr>\n",
       "      <th>1</th>\n",
       "      <td>3</td>\n",
       "      <td>1</td>\n",
       "      <td>2</td>\n",
       "      <td>1</td>\n",
       "      <td>2</td>\n",
       "      <td>2</td>\n",
       "      <td>1</td>\n",
       "      <td>2</td>\n",
       "      <td>2</td>\n",
       "      <td>6</td>\n",
       "      <td>...</td>\n",
       "      <td>1</td>\n",
       "      <td>2</td>\n",
       "      <td>4</td>\n",
       "      <td>1</td>\n",
       "      <td>2</td>\n",
       "      <td>1</td>\n",
       "      <td>1</td>\n",
       "      <td>2</td>\n",
       "      <td>2</td>\n",
       "      <td>1</td>\n",
       "    </tr>\n",
       "    <tr>\n",
       "      <th>2</th>\n",
       "      <td>4</td>\n",
       "      <td>2</td>\n",
       "      <td>1</td>\n",
       "      <td>1</td>\n",
       "      <td>2</td>\n",
       "      <td>2</td>\n",
       "      <td>1</td>\n",
       "      <td>2</td>\n",
       "      <td>2</td>\n",
       "      <td>5</td>\n",
       "      <td>...</td>\n",
       "      <td>1</td>\n",
       "      <td>2</td>\n",
       "      <td>4</td>\n",
       "      <td>2</td>\n",
       "      <td>1</td>\n",
       "      <td>1</td>\n",
       "      <td>1</td>\n",
       "      <td>1</td>\n",
       "      <td>1</td>\n",
       "      <td>1</td>\n",
       "    </tr>\n",
       "    <tr>\n",
       "      <th>3</th>\n",
       "      <td>3</td>\n",
       "      <td>1</td>\n",
       "      <td>1</td>\n",
       "      <td>2</td>\n",
       "      <td>2</td>\n",
       "      <td>2</td>\n",
       "      <td>3</td>\n",
       "      <td>1</td>\n",
       "      <td>1</td>\n",
       "      <td>6</td>\n",
       "      <td>...</td>\n",
       "      <td>1</td>\n",
       "      <td>2</td>\n",
       "      <td>4</td>\n",
       "      <td>1</td>\n",
       "      <td>4</td>\n",
       "      <td>1</td>\n",
       "      <td>1</td>\n",
       "      <td>1</td>\n",
       "      <td>1</td>\n",
       "      <td>1</td>\n",
       "    </tr>\n",
       "    <tr>\n",
       "      <th>4</th>\n",
       "      <td>2</td>\n",
       "      <td>2</td>\n",
       "      <td>2</td>\n",
       "      <td>1</td>\n",
       "      <td>2</td>\n",
       "      <td>2</td>\n",
       "      <td>1</td>\n",
       "      <td>1</td>\n",
       "      <td>1</td>\n",
       "      <td>6</td>\n",
       "      <td>...</td>\n",
       "      <td>1</td>\n",
       "      <td>2</td>\n",
       "      <td>3</td>\n",
       "      <td>1</td>\n",
       "      <td>1</td>\n",
       "      <td>1</td>\n",
       "      <td>2</td>\n",
       "      <td>2</td>\n",
       "      <td>2</td>\n",
       "      <td>0</td>\n",
       "    </tr>\n",
       "  </tbody>\n",
       "</table>\n",
       "<p>5 rows × 22 columns</p>\n",
       "</div>"
      ],
      "text/plain": [
       "   CatBMI  HeartDis  PhysExer  GenHealth  CogDiff  Depression  PhysHlth  \\\n",
       "0       1         2         2          2        2           2         3   \n",
       "1       3         1         2          1        2           2         1   \n",
       "2       4         2         1          1        2           2         1   \n",
       "3       3         1         1          2        2           2         3   \n",
       "4       2         2         2          1        2           2         1   \n",
       "\n",
       "   WalkDiff  Gender  AgeRange  ...  Asthma  Arthritis  SmokerTrad  AlcDrinker  \\\n",
       "0         2       2         6  ...       2          1           3           1   \n",
       "1         2       2         6  ...       1          2           4           1   \n",
       "2         2       2         5  ...       1          2           4           2   \n",
       "3         1       1         6  ...       1          2           4           1   \n",
       "4         1       1         6  ...       1          2           3           1   \n",
       "\n",
       "   Race  LastMedChk  HighBP  HighChol  FruitAndVegCon  SupGrPreDiabetes  \n",
       "0     1           2       2         1               1                 0  \n",
       "1     2           1       1         2               2                 1  \n",
       "2     1           1       1         1               1                 1  \n",
       "3     4           1       1         1               1                 1  \n",
       "4     1           1       2         2               2                 0  \n",
       "\n",
       "[5 rows x 22 columns]"
      ]
     },
     "execution_count": 8,
     "metadata": {},
     "output_type": "execute_result"
    }
   ],
   "source": [
    "dfDiabetes.head()"
   ]
  },
  {
   "cell_type": "code",
   "execution_count": 9,
   "metadata": {},
   "outputs": [
    {
     "name": "stdout",
     "output_type": "stream",
     "text": [
      "Número de registros:  229655\n",
      "Número de dibéticos:  37793\n",
      "Número de no diabéticos:  191862\n"
     ]
    }
   ],
   "source": [
    "numClases = dfDiabetes['SupGrPreDiabetes'].value_counts()\n",
    "numDiabeticos = numClases[1]\n",
    "numNoDiabeticos = numClases[0]\n",
    "print(\"Número de registros: \", len(dfDiabetes)) \n",
    "print(\"Número de dibéticos: \", numDiabeticos)\n",
    "print(\"Número de no diabéticos: \", numNoDiabeticos)"
   ]
  },
  {
   "cell_type": "code",
   "execution_count": 10,
   "metadata": {},
   "outputs": [],
   "source": [
    "# Se obtienen los datasets de entrenamiento (train), validación (val) y pruebas (test)\n",
    "train_set, test_set = train_test_split(dfDiabetes, test_size=0.4, random_state=14, shuffle=True, stratify=dfDiabetes['SupGrPreDiabetes'])\n",
    "val_set, test_set = train_test_split(test_set, test_size=0.5, random_state=14, shuffle=True, stratify=test_set['SupGrPreDiabetes'])\n",
    "\n",
    "X_train = train_set.drop('SupGrPreDiabetes', axis=1)\n",
    "y_train = train_set['SupGrPreDiabetes'].copy()\n",
    "\n",
    "X_val = val_set.drop('SupGrPreDiabetes', axis=1)\n",
    "y_val = val_set['SupGrPreDiabetes'].copy()\n",
    "\n",
    "X_test = test_set.drop('SupGrPreDiabetes', axis=1)\n",
    "y_test = test_set['SupGrPreDiabetes'].copy()"
   ]
  },
  {
   "cell_type": "code",
   "execution_count": 11,
   "metadata": {
    "scrolled": true
   },
   "outputs": [
    {
     "name": "stdout",
     "output_type": "stream",
     "text": [
      "Logintud del Training set: 137793\n",
      "Logintud del Validation set: 45931\n",
      "Logintud del Test set: 45931\n"
     ]
    }
   ],
   "source": [
    "print(\"Logintud del Training set:\", len(train_set))\n",
    "print(\"Logintud del Validation set:\", len(val_set))\n",
    "print(\"Logintud del Test set:\", len(test_set))"
   ]
  },
  {
   "cell_type": "markdown",
   "metadata": {},
   "source": [
    "# Búsqueda de mejor combinación de algorítmos"
   ]
  },
  {
   "cell_type": "markdown",
   "metadata": {},
   "source": [
    "# Gradient Boosting Classifier + Gaussian NB + Logistic Regression + Random Forest"
   ]
  },
  {
   "cell_type": "code",
   "execution_count": 12,
   "metadata": {
    "scrolled": true
   },
   "outputs": [
    {
     "name": "stdout",
     "output_type": "stream",
     "text": [
      "Tiempo en generación del modelo: 81.222  sg.\n"
     ]
    }
   ],
   "source": [
    "# Obtención del modelo\n",
    "start_time = time.time()\n",
    "modelGbc = GradientBoostingClassifier(max_depth=5, min_samples_leaf=4, min_samples_split=10, n_estimators=200, random_state=14)\n",
    "modelGnb = GaussianNB(priors=[0.999, 0.001])\n",
    "modelLr = LogisticRegression(C=10, class_weight='balanced', random_state=14, solver='sag', tol=0.01)\n",
    "modelRf = RandomForestClassifier(class_weight='balanced', min_samples_split=5, n_jobs=-1, random_state=14)\n",
    "\n",
    "modelGbc.fit(X_train, y_train)\n",
    "modelGnb.fit(X_train, y_train)\n",
    "modelLr.fit(X_train, y_train)\n",
    "modelRf.fit(X_train, y_train)\n",
    "\n",
    "modelVoting = VotingClassifier(estimators=[('gbc',modelGbc),('gnb', modelGnb),('lr',modelLr),('rf',modelRf)], voting='hard')\n",
    "\n",
    "modelVoting.fit(X_train, y_train)\n",
    "print(\"Tiempo en generación del modelo:\", round(time.time()-start_time,3), \" sg.\")"
   ]
  },
  {
   "cell_type": "code",
   "execution_count": 13,
   "metadata": {},
   "outputs": [
    {
     "name": "stdout",
     "output_type": "stream",
     "text": [
      "F1 score: 0.818\n"
     ]
    }
   ],
   "source": [
    "# Obtención de métricas\n",
    "y_pred = modelVoting.predict(X_val)\n",
    "print(\"F1 score: {:.3f}\".format(f1_score(y_val, y_pred, average='weighted')))"
   ]
  },
  {
   "cell_type": "code",
   "execution_count": 14,
   "metadata": {},
   "outputs": [],
   "source": [
    "# Se comprueba con el dataset de prueba\n",
    "y_pred = modelVoting.predict(X_test)"
   ]
  },
  {
   "cell_type": "code",
   "execution_count": 15,
   "metadata": {},
   "outputs": [
    {
     "name": "stdout",
     "output_type": "stream",
     "text": [
      "F1 score: 0.817\n",
      "Precisión (Precision): 0.812\n",
      "Exactitud (Accuracy): 0.841\n",
      "Especificidad (Specificity): 0.956\n",
      "AUC-ROC: 0.606\n"
     ]
    }
   ],
   "source": [
    "print(\"F1 score: {:.3f}\".format(f1_score(y_test, y_pred, average='weighted')))\n",
    "print(\"Precisión (Precision): {:.3f}\".format(precision_score(y_test, y_pred, average='weighted')))\n",
    "print(\"Exactitud (Accuracy): {:.3f}\".format(accuracy_score(y_test, y_pred)))\n",
    "print(\"Especificidad (Specificity): {:.3f}\".format(specificity_score(y_test, y_pred)))\n",
    "print(\"AUC-ROC: {:.3f}\".format(roc_auc_score(y_test, y_pred)))"
   ]
  },
  {
   "cell_type": "markdown",
   "metadata": {},
   "source": [
    "# Gradient Boosting Classifier + Gaussian NB + Logistic Regression "
   ]
  },
  {
   "cell_type": "code",
   "execution_count": 16,
   "metadata": {
    "scrolled": true
   },
   "outputs": [
    {
     "name": "stdout",
     "output_type": "stream",
     "text": [
      "Tiempo en generación del modelo: 67.858  sg.\n"
     ]
    }
   ],
   "source": [
    "# Obtención del modelo\n",
    "start_time = time.time()\n",
    "modelGbc = GradientBoostingClassifier(max_depth=5, min_samples_leaf=4, min_samples_split=10, n_estimators=200, random_state=14)\n",
    "modelGnb = GaussianNB(priors=[0.999, 0.001])\n",
    "modelLr = LogisticRegression(C=10, class_weight='balanced', random_state=14, solver='sag', tol=0.01)\n",
    "\n",
    "modelGbc.fit(X_train, y_train)\n",
    "modelGnb.fit(X_train, y_train)\n",
    "modelLr.fit(X_train, y_train)\n",
    "\n",
    "modelVoting = VotingClassifier(estimators=[('gbc',modelGbc),('gnb', modelGnb),('lr',modelLr)], voting='hard')\n",
    "\n",
    "modelVoting.fit(X_train, y_train)\n",
    "print(\"Tiempo en generación del modelo:\", round(time.time()-start_time,3), \" sg.\")"
   ]
  },
  {
   "cell_type": "code",
   "execution_count": 17,
   "metadata": {},
   "outputs": [
    {
     "name": "stdout",
     "output_type": "stream",
     "text": [
      "F1 score: 0.817\n"
     ]
    }
   ],
   "source": [
    "# Obtención de métricas\n",
    "y_pred = modelVoting.predict(X_val)\n",
    "print(\"F1 score: {:.3f}\".format(f1_score(y_val, y_pred, average='weighted')))"
   ]
  },
  {
   "cell_type": "code",
   "execution_count": 18,
   "metadata": {},
   "outputs": [],
   "source": [
    "# Se comprueba con el dataset de prueba\n",
    "y_pred = modelVoting.predict(X_test)"
   ]
  },
  {
   "cell_type": "code",
   "execution_count": 19,
   "metadata": {},
   "outputs": [
    {
     "name": "stdout",
     "output_type": "stream",
     "text": [
      "F1 score: 0.816\n",
      "Precisión (Precision): 0.808\n",
      "Exactitud (Accuracy): 0.831\n",
      "Especificidad (Specificity): 0.933\n",
      "AUC-ROC: 0.622\n"
     ]
    }
   ],
   "source": [
    "print(\"F1 score: {:.3f}\".format(f1_score(y_test, y_pred, average='weighted')))\n",
    "print(\"Precisión (Precision): {:.3f}\".format(precision_score(y_test, y_pred, average='weighted')))\n",
    "print(\"Exactitud (Accuracy): {:.3f}\".format(accuracy_score(y_test, y_pred)))\n",
    "print(\"Especificidad (Specificity): {:.3f}\".format(specificity_score(y_test, y_pred)))\n",
    "print(\"AUC-ROC: {:.3f}\".format(roc_auc_score(y_test, y_pred)))"
   ]
  },
  {
   "cell_type": "markdown",
   "metadata": {},
   "source": [
    "# Gradient Boosting Classifier + Gaussian NB + Random Forest"
   ]
  },
  {
   "cell_type": "code",
   "execution_count": 20,
   "metadata": {
    "scrolled": true
   },
   "outputs": [
    {
     "name": "stdout",
     "output_type": "stream",
     "text": [
      "Tiempo en generación del modelo: 76.189  sg.\n"
     ]
    }
   ],
   "source": [
    "# Obtención del modelo\n",
    "start_time = time.time()\n",
    "modelGbc = GradientBoostingClassifier(max_depth=5, min_samples_leaf=4, min_samples_split=10, n_estimators=200, random_state=14)\n",
    "modelGnb = GaussianNB(priors=[0.999, 0.001])\n",
    "modelRf = RandomForestClassifier(class_weight='balanced', min_samples_split=5, n_jobs=-1, random_state=14)\n",
    "\n",
    "modelGbc.fit(X_train, y_train)\n",
    "modelGnb.fit(X_train, y_train)\n",
    "modelRf.fit(X_train, y_train)\n",
    "\n",
    "modelVoting = VotingClassifier(estimators=[('gbc',modelGbc),('gnb', modelGnb),('rf',modelRf)], voting='hard')\n",
    "\n",
    "modelVoting.fit(X_train, y_train)\n",
    "print(\"Tiempo en generación del modelo:\", round(time.time()-start_time,3), \" sg.\")"
   ]
  },
  {
   "cell_type": "code",
   "execution_count": 21,
   "metadata": {},
   "outputs": [
    {
     "name": "stdout",
     "output_type": "stream",
     "text": [
      "F1 score: 0.818\n"
     ]
    }
   ],
   "source": [
    "# Obtención de métricas\n",
    "y_pred = modelVoting.predict(X_val)\n",
    "print(\"F1 score: {:.3f}\".format(f1_score(y_val, y_pred, average='weighted')))"
   ]
  },
  {
   "cell_type": "code",
   "execution_count": 22,
   "metadata": {},
   "outputs": [],
   "source": [
    "# Se comprueba con el dataset de prueba\n",
    "y_pred = modelVoting.predict(X_test)"
   ]
  },
  {
   "cell_type": "code",
   "execution_count": 23,
   "metadata": {},
   "outputs": [
    {
     "name": "stdout",
     "output_type": "stream",
     "text": [
      "F1 score: 0.816\n",
      "Precisión (Precision): 0.812\n",
      "Exactitud (Accuracy): 0.841\n",
      "Especificidad (Specificity): 0.956\n",
      "AUC-ROC: 0.606\n"
     ]
    }
   ],
   "source": [
    "print(\"F1 score: {:.3f}\".format(f1_score(y_test, y_pred, average='weighted')))\n",
    "print(\"Precisión (Precision): {:.3f}\".format(precision_score(y_test, y_pred, average='weighted')))\n",
    "print(\"Exactitud (Accuracy): {:.3f}\".format(accuracy_score(y_test, y_pred)))\n",
    "print(\"Especificidad (Specificity): {:.3f}\".format(specificity_score(y_test, y_pred)))\n",
    "print(\"AUC-ROC: {:.3f}\".format(roc_auc_score(y_test, y_pred)))"
   ]
  },
  {
   "cell_type": "markdown",
   "metadata": {},
   "source": [
    "# SMOTE con Voting Classifier: Gradient Boosting Classifier + Gaussian NB + Logistic Regression"
   ]
  },
  {
   "cell_type": "code",
   "execution_count": 24,
   "metadata": {},
   "outputs": [],
   "source": [
    "url = 'https://github.com/AndreaCampillo/TFM_PrediDia/raw/Datasets/2021DataSet_Diabeticos_NoDiabeticos_Depurado.csv'\n",
    "dfDiabetes_load = pd.read_csv(url, sep=';')"
   ]
  },
  {
   "cell_type": "code",
   "execution_count": 25,
   "metadata": {},
   "outputs": [
    {
     "name": "stdout",
     "output_type": "stream",
     "text": [
      "<class 'pandas.core.frame.DataFrame'>\n",
      "RangeIndex: 229655 entries, 0 to 229654\n",
      "Data columns (total 45 columns):\n",
      " #   Column              Non-Null Count   Dtype\n",
      "---  ------              --------------   -----\n",
      " 0   Year                229655 non-null  int64\n",
      " 1   CatBMI              229655 non-null  int64\n",
      " 2   Stroke              229655 non-null  int64\n",
      " 3   HeartDis            229655 non-null  int64\n",
      " 4   PhysExer            229655 non-null  int64\n",
      " 5   HealthIns           229655 non-null  int64\n",
      " 6   NoMedCost           229655 non-null  int64\n",
      " 7   GenHealth           229655 non-null  int64\n",
      " 8   CogDiff             229655 non-null  int64\n",
      " 9   Depression          229655 non-null  int64\n",
      " 10  MentalHlth          229655 non-null  int64\n",
      " 11  MentalState         229655 non-null  int64\n",
      " 12  PhysHlth            229655 non-null  int64\n",
      " 13  WalkDiff            229655 non-null  int64\n",
      " 14  Gender              229655 non-null  int64\n",
      " 15  AgeRange            229655 non-null  int64\n",
      " 16  EdLevel             229655 non-null  int64\n",
      " 17  AnnIncome           229655 non-null  int64\n",
      " 18  SocClass            229655 non-null  int64\n",
      " 19  UrologyDz           229655 non-null  int64\n",
      " 20  VisionDiff          229655 non-null  int64\n",
      " 21  Asthma              229655 non-null  int64\n",
      " 22  LungDiseases        229655 non-null  int64\n",
      " 23  Arthritis           229655 non-null  int64\n",
      " 24  SmokerTrad          229655 non-null  int64\n",
      " 25  ECigSmok            229655 non-null  int64\n",
      " 26  AlcDrinker          229655 non-null  int64\n",
      " 27  Race                229655 non-null  int64\n",
      " 28  MaritalSt           229655 non-null  int64\n",
      " 29  LastMedChk          229655 non-null  int64\n",
      " 30  Awareness           229655 non-null  int64\n",
      " 31  FootIrrita          229655 non-null  int64\n",
      " 32  FecFootIrrita       229655 non-null  int64\n",
      " 33  HighBP              229655 non-null  int64\n",
      " 34  HighChol            229655 non-null  int64\n",
      " 35  FruitCons           229655 non-null  int64\n",
      " 36  VegCons             229655 non-null  int64\n",
      " 37  FruitOrVegCon       229655 non-null  int64\n",
      " 38  FruitAndVegCon      229655 non-null  int64\n",
      " 39  MarijuanaCon        229655 non-null  int64\n",
      " 40  SleepHours          229655 non-null  int64\n",
      " 41  BrDiabetes          229655 non-null  int64\n",
      " 42  GrDiabetes          229655 non-null  int64\n",
      " 43  SupGrPreDiabetes    229655 non-null  int64\n",
      " 44  SupGrNoPreDiabetes  229655 non-null  int64\n",
      "dtypes: int64(45)\n",
      "memory usage: 78.8 MB\n"
     ]
    }
   ],
   "source": [
    "dfDiabetes_load.info()"
   ]
  },
  {
   "cell_type": "code",
   "execution_count": 26,
   "metadata": {},
   "outputs": [
    {
     "name": "stdout",
     "output_type": "stream",
     "text": [
      "Index(['Year', 'CatBMI', 'Stroke', 'HeartDis', 'PhysExer', 'HealthIns',\n",
      "       'NoMedCost', 'GenHealth', 'CogDiff', 'Depression', 'MentalHlth',\n",
      "       'MentalState', 'PhysHlth', 'WalkDiff', 'Gender', 'AgeRange', 'EdLevel',\n",
      "       'AnnIncome', 'SocClass', 'UrologyDz', 'VisionDiff', 'Asthma',\n",
      "       'LungDiseases', 'Arthritis', 'SmokerTrad', 'ECigSmok', 'AlcDrinker',\n",
      "       'Race', 'MaritalSt', 'LastMedChk', 'Awareness', 'FootIrrita',\n",
      "       'FecFootIrrita', 'HighBP', 'HighChol', 'FruitCons', 'VegCons',\n",
      "       'FruitOrVegCon', 'FruitAndVegCon', 'MarijuanaCon', 'SleepHours',\n",
      "       'BrDiabetes', 'GrDiabetes', 'SupGrPreDiabetes', 'SupGrNoPreDiabetes'],\n",
      "      dtype='object')\n"
     ]
    }
   ],
   "source": [
    "print(dfDiabetes_load.columns)"
   ]
  },
  {
   "cell_type": "code",
   "execution_count": 27,
   "metadata": {},
   "outputs": [],
   "source": [
    "# Se seleccionan la 21 características que fueron óptimas\n",
    "# Se reproduce el proceso pero eliminando las caracteristcas las características LungDiseases, VisionDiff, UrologyDZ,Stroke\n",
    "columns = ['CatBMI','HeartDis','PhysExer','GenHealth','CogDiff',\n",
    "           'Depression', 'PhysHlth', 'WalkDiff','Gender','AgeRange',\n",
    "           'EdLevel', 'SocClass','Asthma', 'Arthritis', 'SmokerTrad',\n",
    "           'AlcDrinker','Race', 'LastMedChk', 'HighBP','HighChol', 'FruitAndVegCon',\n",
    "           'SupGrPreDiabetes']\n",
    "dfDiabetes = dfDiabetes_load[columns].copy()"
   ]
  },
  {
   "cell_type": "code",
   "execution_count": 28,
   "metadata": {},
   "outputs": [],
   "source": [
    "dfDiabetes['SupGrPreDiabetes'] = dfDiabetes['SupGrPreDiabetes'].replace({2: 0, 1: 1})"
   ]
  },
  {
   "cell_type": "code",
   "execution_count": 29,
   "metadata": {},
   "outputs": [
    {
     "name": "stdout",
     "output_type": "stream",
     "text": [
      "<class 'pandas.core.frame.DataFrame'>\n",
      "RangeIndex: 229655 entries, 0 to 229654\n",
      "Data columns (total 22 columns):\n",
      " #   Column            Non-Null Count   Dtype\n",
      "---  ------            --------------   -----\n",
      " 0   CatBMI            229655 non-null  int64\n",
      " 1   HeartDis          229655 non-null  int64\n",
      " 2   PhysExer          229655 non-null  int64\n",
      " 3   GenHealth         229655 non-null  int64\n",
      " 4   CogDiff           229655 non-null  int64\n",
      " 5   Depression        229655 non-null  int64\n",
      " 6   PhysHlth          229655 non-null  int64\n",
      " 7   WalkDiff          229655 non-null  int64\n",
      " 8   Gender            229655 non-null  int64\n",
      " 9   AgeRange          229655 non-null  int64\n",
      " 10  EdLevel           229655 non-null  int64\n",
      " 11  SocClass          229655 non-null  int64\n",
      " 12  Asthma            229655 non-null  int64\n",
      " 13  Arthritis         229655 non-null  int64\n",
      " 14  SmokerTrad        229655 non-null  int64\n",
      " 15  AlcDrinker        229655 non-null  int64\n",
      " 16  Race              229655 non-null  int64\n",
      " 17  LastMedChk        229655 non-null  int64\n",
      " 18  HighBP            229655 non-null  int64\n",
      " 19  HighChol          229655 non-null  int64\n",
      " 20  FruitAndVegCon    229655 non-null  int64\n",
      " 21  SupGrPreDiabetes  229655 non-null  int64\n",
      "dtypes: int64(22)\n",
      "memory usage: 38.5 MB\n"
     ]
    }
   ],
   "source": [
    "dfDiabetes.info()"
   ]
  },
  {
   "cell_type": "code",
   "execution_count": 30,
   "metadata": {},
   "outputs": [
    {
     "data": {
      "text/html": [
       "<div>\n",
       "<style scoped>\n",
       "    .dataframe tbody tr th:only-of-type {\n",
       "        vertical-align: middle;\n",
       "    }\n",
       "\n",
       "    .dataframe tbody tr th {\n",
       "        vertical-align: top;\n",
       "    }\n",
       "\n",
       "    .dataframe thead th {\n",
       "        text-align: right;\n",
       "    }\n",
       "</style>\n",
       "<table border=\"1\" class=\"dataframe\">\n",
       "  <thead>\n",
       "    <tr style=\"text-align: right;\">\n",
       "      <th></th>\n",
       "      <th>CatBMI</th>\n",
       "      <th>HeartDis</th>\n",
       "      <th>PhysExer</th>\n",
       "      <th>GenHealth</th>\n",
       "      <th>CogDiff</th>\n",
       "      <th>Depression</th>\n",
       "      <th>PhysHlth</th>\n",
       "      <th>WalkDiff</th>\n",
       "      <th>Gender</th>\n",
       "      <th>AgeRange</th>\n",
       "      <th>...</th>\n",
       "      <th>Asthma</th>\n",
       "      <th>Arthritis</th>\n",
       "      <th>SmokerTrad</th>\n",
       "      <th>AlcDrinker</th>\n",
       "      <th>Race</th>\n",
       "      <th>LastMedChk</th>\n",
       "      <th>HighBP</th>\n",
       "      <th>HighChol</th>\n",
       "      <th>FruitAndVegCon</th>\n",
       "      <th>SupGrPreDiabetes</th>\n",
       "    </tr>\n",
       "  </thead>\n",
       "  <tbody>\n",
       "    <tr>\n",
       "      <th>0</th>\n",
       "      <td>1</td>\n",
       "      <td>2</td>\n",
       "      <td>2</td>\n",
       "      <td>2</td>\n",
       "      <td>2</td>\n",
       "      <td>2</td>\n",
       "      <td>3</td>\n",
       "      <td>2</td>\n",
       "      <td>2</td>\n",
       "      <td>6</td>\n",
       "      <td>...</td>\n",
       "      <td>2</td>\n",
       "      <td>1</td>\n",
       "      <td>3</td>\n",
       "      <td>1</td>\n",
       "      <td>1</td>\n",
       "      <td>2</td>\n",
       "      <td>2</td>\n",
       "      <td>1</td>\n",
       "      <td>1</td>\n",
       "      <td>0</td>\n",
       "    </tr>\n",
       "    <tr>\n",
       "      <th>1</th>\n",
       "      <td>3</td>\n",
       "      <td>1</td>\n",
       "      <td>2</td>\n",
       "      <td>1</td>\n",
       "      <td>2</td>\n",
       "      <td>2</td>\n",
       "      <td>1</td>\n",
       "      <td>2</td>\n",
       "      <td>2</td>\n",
       "      <td>6</td>\n",
       "      <td>...</td>\n",
       "      <td>1</td>\n",
       "      <td>2</td>\n",
       "      <td>4</td>\n",
       "      <td>1</td>\n",
       "      <td>2</td>\n",
       "      <td>1</td>\n",
       "      <td>1</td>\n",
       "      <td>2</td>\n",
       "      <td>2</td>\n",
       "      <td>1</td>\n",
       "    </tr>\n",
       "    <tr>\n",
       "      <th>2</th>\n",
       "      <td>4</td>\n",
       "      <td>2</td>\n",
       "      <td>1</td>\n",
       "      <td>1</td>\n",
       "      <td>2</td>\n",
       "      <td>2</td>\n",
       "      <td>1</td>\n",
       "      <td>2</td>\n",
       "      <td>2</td>\n",
       "      <td>5</td>\n",
       "      <td>...</td>\n",
       "      <td>1</td>\n",
       "      <td>2</td>\n",
       "      <td>4</td>\n",
       "      <td>2</td>\n",
       "      <td>1</td>\n",
       "      <td>1</td>\n",
       "      <td>1</td>\n",
       "      <td>1</td>\n",
       "      <td>1</td>\n",
       "      <td>1</td>\n",
       "    </tr>\n",
       "    <tr>\n",
       "      <th>3</th>\n",
       "      <td>3</td>\n",
       "      <td>1</td>\n",
       "      <td>1</td>\n",
       "      <td>2</td>\n",
       "      <td>2</td>\n",
       "      <td>2</td>\n",
       "      <td>3</td>\n",
       "      <td>1</td>\n",
       "      <td>1</td>\n",
       "      <td>6</td>\n",
       "      <td>...</td>\n",
       "      <td>1</td>\n",
       "      <td>2</td>\n",
       "      <td>4</td>\n",
       "      <td>1</td>\n",
       "      <td>4</td>\n",
       "      <td>1</td>\n",
       "      <td>1</td>\n",
       "      <td>1</td>\n",
       "      <td>1</td>\n",
       "      <td>1</td>\n",
       "    </tr>\n",
       "    <tr>\n",
       "      <th>4</th>\n",
       "      <td>2</td>\n",
       "      <td>2</td>\n",
       "      <td>2</td>\n",
       "      <td>1</td>\n",
       "      <td>2</td>\n",
       "      <td>2</td>\n",
       "      <td>1</td>\n",
       "      <td>1</td>\n",
       "      <td>1</td>\n",
       "      <td>6</td>\n",
       "      <td>...</td>\n",
       "      <td>1</td>\n",
       "      <td>2</td>\n",
       "      <td>3</td>\n",
       "      <td>1</td>\n",
       "      <td>1</td>\n",
       "      <td>1</td>\n",
       "      <td>2</td>\n",
       "      <td>2</td>\n",
       "      <td>2</td>\n",
       "      <td>0</td>\n",
       "    </tr>\n",
       "  </tbody>\n",
       "</table>\n",
       "<p>5 rows × 22 columns</p>\n",
       "</div>"
      ],
      "text/plain": [
       "   CatBMI  HeartDis  PhysExer  GenHealth  CogDiff  Depression  PhysHlth  \\\n",
       "0       1         2         2          2        2           2         3   \n",
       "1       3         1         2          1        2           2         1   \n",
       "2       4         2         1          1        2           2         1   \n",
       "3       3         1         1          2        2           2         3   \n",
       "4       2         2         2          1        2           2         1   \n",
       "\n",
       "   WalkDiff  Gender  AgeRange  ...  Asthma  Arthritis  SmokerTrad  AlcDrinker  \\\n",
       "0         2       2         6  ...       2          1           3           1   \n",
       "1         2       2         6  ...       1          2           4           1   \n",
       "2         2       2         5  ...       1          2           4           2   \n",
       "3         1       1         6  ...       1          2           4           1   \n",
       "4         1       1         6  ...       1          2           3           1   \n",
       "\n",
       "   Race  LastMedChk  HighBP  HighChol  FruitAndVegCon  SupGrPreDiabetes  \n",
       "0     1           2       2         1               1                 0  \n",
       "1     2           1       1         2               2                 1  \n",
       "2     1           1       1         1               1                 1  \n",
       "3     4           1       1         1               1                 1  \n",
       "4     1           1       2         2               2                 0  \n",
       "\n",
       "[5 rows x 22 columns]"
      ]
     },
     "execution_count": 30,
     "metadata": {},
     "output_type": "execute_result"
    }
   ],
   "source": [
    "dfDiabetes.head()"
   ]
  },
  {
   "cell_type": "code",
   "execution_count": 31,
   "metadata": {},
   "outputs": [
    {
     "name": "stdout",
     "output_type": "stream",
     "text": [
      "Número de registros:  229655\n",
      "Número de dibéticos:  37793\n",
      "Número de no diabéticos:  191862\n"
     ]
    }
   ],
   "source": [
    "numClases = dfDiabetes['SupGrPreDiabetes'].value_counts()\n",
    "numDiabeticos = numClases[1]\n",
    "numNoDiabeticos = numClases[0]\n",
    "print(\"Número de registros: \", len(dfDiabetes)) \n",
    "print(\"Número de dibéticos: \", numDiabeticos)\n",
    "print(\"Número de no diabéticos: \", numNoDiabeticos)"
   ]
  },
  {
   "cell_type": "code",
   "execution_count": 32,
   "metadata": {},
   "outputs": [],
   "source": [
    "# Se obtienen los datasets de entrenamiento (train), validación (val) y pruebas (test)\n",
    "train_set, test_set = train_test_split(dfDiabetes, test_size=0.4, random_state=14, shuffle=True, stratify=dfDiabetes['SupGrPreDiabetes'])\n",
    "val_set, test_set = train_test_split(test_set, test_size=0.5, random_state=14, shuffle=True, stratify=test_set['SupGrPreDiabetes'])\n",
    "\n",
    "X_train = train_set.drop('SupGrPreDiabetes', axis=1)\n",
    "y_train = train_set['SupGrPreDiabetes'].copy()\n",
    "\n",
    "X_val = val_set.drop('SupGrPreDiabetes', axis=1)\n",
    "y_val = val_set['SupGrPreDiabetes'].copy()\n",
    "\n",
    "X_test = test_set.drop('SupGrPreDiabetes', axis=1)\n",
    "y_test = test_set['SupGrPreDiabetes'].copy()"
   ]
  },
  {
   "cell_type": "code",
   "execution_count": 33,
   "metadata": {},
   "outputs": [
    {
     "data": {
      "text/plain": [
       "0    38372\n",
       "1     7559\n",
       "Name: SupGrPreDiabetes, dtype: int64"
      ]
     },
     "execution_count": 33,
     "metadata": {},
     "output_type": "execute_result"
    }
   ],
   "source": [
    "y_val.value_counts()"
   ]
  },
  {
   "cell_type": "code",
   "execution_count": 34,
   "metadata": {},
   "outputs": [
    {
     "name": "stdout",
     "output_type": "stream",
     "text": [
      "Logintud del Training set: 137793\n",
      "Logintud del Validation set: 45931\n",
      "Logintud del Test set: 45931\n"
     ]
    }
   ],
   "source": [
    "print(\"Logintud del Training set:\", len(train_set))\n",
    "print(\"Logintud del Validation set:\", len(val_set))\n",
    "print(\"Logintud del Test set:\", len(test_set))"
   ]
  },
  {
   "cell_type": "code",
   "execution_count": 35,
   "metadata": {},
   "outputs": [
    {
     "name": "stdout",
     "output_type": "stream",
     "text": [
      "Tiempo en generación del SMOTE: 12.211  sg.\n"
     ]
    }
   ],
   "source": [
    "# Obtención de datos de entrenamiento con SMOTE para balanceamiento de los datos\n",
    "start_time = time.time()\n",
    "smote = SMOTE(sampling_strategy='auto', random_state=14)  \n",
    "X_train_smote, y_train_smote = smote.fit_resample(X_train, y_train)\n",
    "print(\"Tiempo en generación del SMOTE:\", round(time.time()-start_time,3), \" sg.\")"
   ]
  },
  {
   "cell_type": "code",
   "execution_count": 36,
   "metadata": {},
   "outputs": [
    {
     "data": {
      "text/plain": [
       "1    115117\n",
       "0    115117\n",
       "Name: SupGrPreDiabetes, dtype: int64"
      ]
     },
     "execution_count": 36,
     "metadata": {},
     "output_type": "execute_result"
    }
   ],
   "source": [
    "y_train_smote.value_counts()"
   ]
  },
  {
   "cell_type": "code",
   "execution_count": 37,
   "metadata": {
    "scrolled": true
   },
   "outputs": [
    {
     "name": "stdout",
     "output_type": "stream",
     "text": [
      "Tiempo en generación del modelo: 67.336  sg.\n"
     ]
    }
   ],
   "source": [
    "# Obtenión del modelo. Se elimina el hiperparámetro class_weight='balanced', por haber utilizado SMOTE\n",
    "start_time = time.time()\n",
    "modelGbc = GradientBoostingClassifier(max_depth=5, min_samples_leaf=4, min_samples_split=10, n_estimators=200, random_state=14)\n",
    "modelGnb = GaussianNB(priors=[0.999, 0.001])\n",
    "modelLr = LogisticRegression(C=10, random_state=14, solver='sag', tol=0.01)\n",
    "\n",
    "modelGbc.fit(X_train, y_train)\n",
    "modelGnb.fit(X_train, y_train)\n",
    "modelLr.fit(X_train, y_train)\n",
    "\n",
    "modelVoting = VotingClassifier(estimators=[('gbc',modelGbc),('gnb', modelGnb),('lr',modelLr)], voting='hard')\n",
    "\n",
    "modelVoting.fit(X_train, y_train)\n",
    "print(\"Tiempo en generación del modelo:\", round(time.time()-start_time,3), \" sg.\")"
   ]
  },
  {
   "cell_type": "code",
   "execution_count": 38,
   "metadata": {},
   "outputs": [
    {
     "name": "stdout",
     "output_type": "stream",
     "text": [
      "F1 score: 0.810\n"
     ]
    }
   ],
   "source": [
    "# Obtención de métricas\n",
    "y_pred = modelVoting.predict(X_val)\n",
    "print(\"F1 score: {:.3f}\".format(f1_score(y_val, y_pred, average='weighted')))"
   ]
  },
  {
   "cell_type": "code",
   "execution_count": 39,
   "metadata": {},
   "outputs": [],
   "source": [
    "# Se comprueba con el dataset de prueba\n",
    "y_pred = modelVoting.predict(X_test)"
   ]
  },
  {
   "cell_type": "code",
   "execution_count": 40,
   "metadata": {},
   "outputs": [
    {
     "name": "stdout",
     "output_type": "stream",
     "text": [
      "F1 score: 0.809\n",
      "Precisión (Precision): 0.812\n",
      "Exactitud (Accuracy): 0.843\n",
      "Especificidad (Specificity): 0.971\n",
      "AUC-ROC: 0.583\n"
     ]
    }
   ],
   "source": [
    "print(\"F1 score: {:.3f}\".format(f1_score(y_test, y_pred, average='weighted')))\n",
    "print(\"Precisión (Precision): {:.3f}\".format(precision_score(y_test, y_pred, average='weighted')))\n",
    "print(\"Exactitud (Accuracy): {:.3f}\".format(accuracy_score(y_test, y_pred)))\n",
    "print(\"Especificidad (Specificity): {:.3f}\".format(specificity_score(y_test, y_pred)))\n",
    "print(\"AUC-ROC: {:.3f}\".format(roc_auc_score(y_test, y_pred)))"
   ]
  },
  {
   "cell_type": "markdown",
   "metadata": {},
   "source": [
    "# Dataset 2021_22 con Voting Classifier: Gradient Boosting Classifier + Gaussian NB + Logistic Regression\n",
    "Se realiza el mismo test con los datos unificados de 2021 y 2022, por ese motivo se eliminan las caracteríticas HighBP, HighChol, FruitAndVegCon por no estar presentes en el dataset del 2022 "
   ]
  },
  {
   "cell_type": "code",
   "execution_count": 41,
   "metadata": {},
   "outputs": [],
   "source": [
    "url = 'https://github.com/AndreaCampillo/TFM_PrediDia/raw/Datasets/2021_22DataSet_Diabeticos_NoDiabeticos_Depurado.csv'\n",
    "dfDiabetes_load = pd.read_csv(url, sep=';')"
   ]
  },
  {
   "cell_type": "code",
   "execution_count": 42,
   "metadata": {},
   "outputs": [
    {
     "name": "stdout",
     "output_type": "stream",
     "text": [
      "<class 'pandas.core.frame.DataFrame'>\n",
      "RangeIndex: 503592 entries, 0 to 503591\n",
      "Data columns (total 45 columns):\n",
      " #   Column              Non-Null Count   Dtype\n",
      "---  ------              --------------   -----\n",
      " 0   Year                503592 non-null  int64\n",
      " 1   CatBMI              503592 non-null  int64\n",
      " 2   Stroke              503592 non-null  int64\n",
      " 3   HeartDis            503592 non-null  int64\n",
      " 4   PhysExer            503592 non-null  int64\n",
      " 5   HealthIns           503592 non-null  int64\n",
      " 6   NoMedCost           503592 non-null  int64\n",
      " 7   GenHealth           503592 non-null  int64\n",
      " 8   CogDiff             503592 non-null  int64\n",
      " 9   Depression          503592 non-null  int64\n",
      " 10  MentalHlth          503592 non-null  int64\n",
      " 11  MentalState         503592 non-null  int64\n",
      " 12  PhysHlth            503592 non-null  int64\n",
      " 13  WalkDiff            503592 non-null  int64\n",
      " 14  Gender              503592 non-null  int64\n",
      " 15  AgeRange            503592 non-null  int64\n",
      " 16  EdLevel             503592 non-null  int64\n",
      " 17  AnnIncome           503592 non-null  int64\n",
      " 18  SocClass            503592 non-null  int64\n",
      " 19  UrologyDz           503592 non-null  int64\n",
      " 20  VisionDiff          503592 non-null  int64\n",
      " 21  Asthma              503592 non-null  int64\n",
      " 22  LungDiseases        503592 non-null  int64\n",
      " 23  Arthritis           503592 non-null  int64\n",
      " 24  SmokerTrad          503592 non-null  int64\n",
      " 25  ECigSmok            503592 non-null  int64\n",
      " 26  AlcDrinker          503592 non-null  int64\n",
      " 27  Race                503592 non-null  int64\n",
      " 28  MaritalSt           503592 non-null  int64\n",
      " 29  LastMedChk          503592 non-null  int64\n",
      " 30  Awareness           503592 non-null  int64\n",
      " 31  FootIrrita          503592 non-null  int64\n",
      " 32  FecFootIrrita       503592 non-null  int64\n",
      " 33  HighBP              503592 non-null  int64\n",
      " 34  HighChol            503592 non-null  int64\n",
      " 35  FruitCons           503592 non-null  int64\n",
      " 36  VegCons             503592 non-null  int64\n",
      " 37  FruitOrVegCon       503592 non-null  int64\n",
      " 38  FruitAndVegCon      503592 non-null  int64\n",
      " 39  MarijuanaCon        503592 non-null  int64\n",
      " 40  SleepHours          503592 non-null  int64\n",
      " 41  BrDiabetes          503592 non-null  int64\n",
      " 42  GrDiabetes          503592 non-null  int64\n",
      " 43  SupGrPreDiabetes    503592 non-null  int64\n",
      " 44  SupGrNoPreDiabetes  503592 non-null  int64\n",
      "dtypes: int64(45)\n",
      "memory usage: 172.9 MB\n"
     ]
    }
   ],
   "source": [
    "dfDiabetes_load.info()"
   ]
  },
  {
   "cell_type": "code",
   "execution_count": 43,
   "metadata": {},
   "outputs": [
    {
     "name": "stdout",
     "output_type": "stream",
     "text": [
      "Index(['Year', 'CatBMI', 'Stroke', 'HeartDis', 'PhysExer', 'HealthIns',\n",
      "       'NoMedCost', 'GenHealth', 'CogDiff', 'Depression', 'MentalHlth',\n",
      "       'MentalState', 'PhysHlth', 'WalkDiff', 'Gender', 'AgeRange', 'EdLevel',\n",
      "       'AnnIncome', 'SocClass', 'UrologyDz', 'VisionDiff', 'Asthma',\n",
      "       'LungDiseases', 'Arthritis', 'SmokerTrad', 'ECigSmok', 'AlcDrinker',\n",
      "       'Race', 'MaritalSt', 'LastMedChk', 'Awareness', 'FootIrrita',\n",
      "       'FecFootIrrita', 'HighBP', 'HighChol', 'FruitCons', 'VegCons',\n",
      "       'FruitOrVegCon', 'FruitAndVegCon', 'MarijuanaCon', 'SleepHours',\n",
      "       'BrDiabetes', 'GrDiabetes', 'SupGrPreDiabetes', 'SupGrNoPreDiabetes'],\n",
      "      dtype='object')\n"
     ]
    }
   ],
   "source": [
    "print(dfDiabetes_load.columns)"
   ]
  },
  {
   "cell_type": "code",
   "execution_count": 44,
   "metadata": {},
   "outputs": [],
   "source": [
    "# Se reproduce el proceso con las características seleccionadas y comunes al 2021 y 2022\n",
    "columns = ['CatBMI','HeartDis','PhysExer','GenHealth','CogDiff',\n",
    "           'Depression', 'PhysHlth', 'WalkDiff','Gender','AgeRange',\n",
    "           'EdLevel', 'SocClass','Asthma', 'Arthritis', 'SmokerTrad',\n",
    "           'AlcDrinker','Race', 'LastMedChk','SupGrPreDiabetes']\n",
    "dfDiabetes = dfDiabetes_load[columns].copy()"
   ]
  },
  {
   "cell_type": "code",
   "execution_count": 45,
   "metadata": {},
   "outputs": [],
   "source": [
    "dfDiabetes['SupGrPreDiabetes'] = dfDiabetes['SupGrPreDiabetes'].replace({2: 0, 1: 1})"
   ]
  },
  {
   "cell_type": "code",
   "execution_count": 46,
   "metadata": {},
   "outputs": [
    {
     "name": "stdout",
     "output_type": "stream",
     "text": [
      "<class 'pandas.core.frame.DataFrame'>\n",
      "RangeIndex: 503592 entries, 0 to 503591\n",
      "Data columns (total 19 columns):\n",
      " #   Column            Non-Null Count   Dtype\n",
      "---  ------            --------------   -----\n",
      " 0   CatBMI            503592 non-null  int64\n",
      " 1   HeartDis          503592 non-null  int64\n",
      " 2   PhysExer          503592 non-null  int64\n",
      " 3   GenHealth         503592 non-null  int64\n",
      " 4   CogDiff           503592 non-null  int64\n",
      " 5   Depression        503592 non-null  int64\n",
      " 6   PhysHlth          503592 non-null  int64\n",
      " 7   WalkDiff          503592 non-null  int64\n",
      " 8   Gender            503592 non-null  int64\n",
      " 9   AgeRange          503592 non-null  int64\n",
      " 10  EdLevel           503592 non-null  int64\n",
      " 11  SocClass          503592 non-null  int64\n",
      " 12  Asthma            503592 non-null  int64\n",
      " 13  Arthritis         503592 non-null  int64\n",
      " 14  SmokerTrad        503592 non-null  int64\n",
      " 15  AlcDrinker        503592 non-null  int64\n",
      " 16  Race              503592 non-null  int64\n",
      " 17  LastMedChk        503592 non-null  int64\n",
      " 18  SupGrPreDiabetes  503592 non-null  int64\n",
      "dtypes: int64(19)\n",
      "memory usage: 73.0 MB\n"
     ]
    }
   ],
   "source": [
    "dfDiabetes.info()"
   ]
  },
  {
   "cell_type": "code",
   "execution_count": 47,
   "metadata": {},
   "outputs": [
    {
     "data": {
      "text/html": [
       "<div>\n",
       "<style scoped>\n",
       "    .dataframe tbody tr th:only-of-type {\n",
       "        vertical-align: middle;\n",
       "    }\n",
       "\n",
       "    .dataframe tbody tr th {\n",
       "        vertical-align: top;\n",
       "    }\n",
       "\n",
       "    .dataframe thead th {\n",
       "        text-align: right;\n",
       "    }\n",
       "</style>\n",
       "<table border=\"1\" class=\"dataframe\">\n",
       "  <thead>\n",
       "    <tr style=\"text-align: right;\">\n",
       "      <th></th>\n",
       "      <th>CatBMI</th>\n",
       "      <th>HeartDis</th>\n",
       "      <th>PhysExer</th>\n",
       "      <th>GenHealth</th>\n",
       "      <th>CogDiff</th>\n",
       "      <th>Depression</th>\n",
       "      <th>PhysHlth</th>\n",
       "      <th>WalkDiff</th>\n",
       "      <th>Gender</th>\n",
       "      <th>AgeRange</th>\n",
       "      <th>EdLevel</th>\n",
       "      <th>SocClass</th>\n",
       "      <th>Asthma</th>\n",
       "      <th>Arthritis</th>\n",
       "      <th>SmokerTrad</th>\n",
       "      <th>AlcDrinker</th>\n",
       "      <th>Race</th>\n",
       "      <th>LastMedChk</th>\n",
       "      <th>SupGrPreDiabetes</th>\n",
       "    </tr>\n",
       "  </thead>\n",
       "  <tbody>\n",
       "    <tr>\n",
       "      <th>0</th>\n",
       "      <td>1</td>\n",
       "      <td>2</td>\n",
       "      <td>2</td>\n",
       "      <td>2</td>\n",
       "      <td>2</td>\n",
       "      <td>2</td>\n",
       "      <td>3</td>\n",
       "      <td>2</td>\n",
       "      <td>2</td>\n",
       "      <td>6</td>\n",
       "      <td>2</td>\n",
       "      <td>1</td>\n",
       "      <td>2</td>\n",
       "      <td>1</td>\n",
       "      <td>3</td>\n",
       "      <td>1</td>\n",
       "      <td>1</td>\n",
       "      <td>2</td>\n",
       "      <td>0</td>\n",
       "    </tr>\n",
       "    <tr>\n",
       "      <th>1</th>\n",
       "      <td>3</td>\n",
       "      <td>1</td>\n",
       "      <td>2</td>\n",
       "      <td>1</td>\n",
       "      <td>2</td>\n",
       "      <td>2</td>\n",
       "      <td>1</td>\n",
       "      <td>2</td>\n",
       "      <td>2</td>\n",
       "      <td>6</td>\n",
       "      <td>2</td>\n",
       "      <td>1</td>\n",
       "      <td>1</td>\n",
       "      <td>2</td>\n",
       "      <td>4</td>\n",
       "      <td>1</td>\n",
       "      <td>2</td>\n",
       "      <td>1</td>\n",
       "      <td>1</td>\n",
       "    </tr>\n",
       "    <tr>\n",
       "      <th>2</th>\n",
       "      <td>4</td>\n",
       "      <td>2</td>\n",
       "      <td>1</td>\n",
       "      <td>1</td>\n",
       "      <td>2</td>\n",
       "      <td>2</td>\n",
       "      <td>1</td>\n",
       "      <td>2</td>\n",
       "      <td>2</td>\n",
       "      <td>5</td>\n",
       "      <td>2</td>\n",
       "      <td>2</td>\n",
       "      <td>1</td>\n",
       "      <td>2</td>\n",
       "      <td>4</td>\n",
       "      <td>2</td>\n",
       "      <td>1</td>\n",
       "      <td>1</td>\n",
       "      <td>1</td>\n",
       "    </tr>\n",
       "    <tr>\n",
       "      <th>3</th>\n",
       "      <td>3</td>\n",
       "      <td>1</td>\n",
       "      <td>1</td>\n",
       "      <td>2</td>\n",
       "      <td>2</td>\n",
       "      <td>2</td>\n",
       "      <td>3</td>\n",
       "      <td>1</td>\n",
       "      <td>1</td>\n",
       "      <td>6</td>\n",
       "      <td>1</td>\n",
       "      <td>1</td>\n",
       "      <td>1</td>\n",
       "      <td>2</td>\n",
       "      <td>4</td>\n",
       "      <td>1</td>\n",
       "      <td>4</td>\n",
       "      <td>1</td>\n",
       "      <td>1</td>\n",
       "    </tr>\n",
       "    <tr>\n",
       "      <th>4</th>\n",
       "      <td>2</td>\n",
       "      <td>2</td>\n",
       "      <td>2</td>\n",
       "      <td>1</td>\n",
       "      <td>2</td>\n",
       "      <td>2</td>\n",
       "      <td>1</td>\n",
       "      <td>1</td>\n",
       "      <td>1</td>\n",
       "      <td>6</td>\n",
       "      <td>3</td>\n",
       "      <td>1</td>\n",
       "      <td>1</td>\n",
       "      <td>2</td>\n",
       "      <td>3</td>\n",
       "      <td>1</td>\n",
       "      <td>1</td>\n",
       "      <td>1</td>\n",
       "      <td>0</td>\n",
       "    </tr>\n",
       "  </tbody>\n",
       "</table>\n",
       "</div>"
      ],
      "text/plain": [
       "   CatBMI  HeartDis  PhysExer  GenHealth  CogDiff  Depression  PhysHlth  \\\n",
       "0       1         2         2          2        2           2         3   \n",
       "1       3         1         2          1        2           2         1   \n",
       "2       4         2         1          1        2           2         1   \n",
       "3       3         1         1          2        2           2         3   \n",
       "4       2         2         2          1        2           2         1   \n",
       "\n",
       "   WalkDiff  Gender  AgeRange  EdLevel  SocClass  Asthma  Arthritis  \\\n",
       "0         2       2         6        2         1       2          1   \n",
       "1         2       2         6        2         1       1          2   \n",
       "2         2       2         5        2         2       1          2   \n",
       "3         1       1         6        1         1       1          2   \n",
       "4         1       1         6        3         1       1          2   \n",
       "\n",
       "   SmokerTrad  AlcDrinker  Race  LastMedChk  SupGrPreDiabetes  \n",
       "0           3           1     1           2                 0  \n",
       "1           4           1     2           1                 1  \n",
       "2           4           2     1           1                 1  \n",
       "3           4           1     4           1                 1  \n",
       "4           3           1     1           1                 0  "
      ]
     },
     "execution_count": 47,
     "metadata": {},
     "output_type": "execute_result"
    }
   ],
   "source": [
    "dfDiabetes.head()"
   ]
  },
  {
   "cell_type": "code",
   "execution_count": 48,
   "metadata": {},
   "outputs": [
    {
     "name": "stdout",
     "output_type": "stream",
     "text": [
      "Número de registros:  503592\n",
      "Número de dibéticos:  81060\n",
      "Número de no diabéticos:  422532\n"
     ]
    }
   ],
   "source": [
    "numClases = dfDiabetes['SupGrPreDiabetes'].value_counts()\n",
    "numDiabeticos = numClases[1]\n",
    "numNoDiabeticos = numClases[0]\n",
    "print(\"Número de registros: \", len(dfDiabetes)) \n",
    "print(\"Número de dibéticos: \", numDiabeticos)\n",
    "print(\"Número de no diabéticos: \", numNoDiabeticos)"
   ]
  },
  {
   "cell_type": "code",
   "execution_count": 49,
   "metadata": {},
   "outputs": [],
   "source": [
    "# Se obtienen los datasets de entrenamiento (train), validación (val) y pruebas (test)\n",
    "train_set, test_set = train_test_split(dfDiabetes, test_size=0.4, random_state=14, shuffle=True, stratify=dfDiabetes['SupGrPreDiabetes'])\n",
    "val_set, test_set = train_test_split(test_set, test_size=0.5, random_state=14, shuffle=True, stratify=test_set['SupGrPreDiabetes'])\n",
    "\n",
    "X_train = train_set.drop('SupGrPreDiabetes', axis=1)\n",
    "y_train = train_set['SupGrPreDiabetes'].copy()\n",
    "\n",
    "X_val = val_set.drop('SupGrPreDiabetes', axis=1)\n",
    "y_val = val_set['SupGrPreDiabetes'].copy()\n",
    "\n",
    "X_test = test_set.drop('SupGrPreDiabetes', axis=1)\n",
    "y_test = test_set['SupGrPreDiabetes'].copy()"
   ]
  },
  {
   "cell_type": "code",
   "execution_count": 50,
   "metadata": {
    "scrolled": true
   },
   "outputs": [
    {
     "name": "stdout",
     "output_type": "stream",
     "text": [
      "Logintud del Training set: 302155\n",
      "Logintud del Validation set: 100718\n",
      "Logintud del Test set: 100719\n"
     ]
    }
   ],
   "source": [
    "print(\"Logintud del Training set:\", len(train_set))\n",
    "print(\"Logintud del Validation set:\", len(val_set))\n",
    "print(\"Logintud del Test set:\", len(test_set))"
   ]
  },
  {
   "cell_type": "code",
   "execution_count": 51,
   "metadata": {
    "scrolled": true
   },
   "outputs": [
    {
     "name": "stdout",
     "output_type": "stream",
     "text": [
      "Tiempo en generación del modelo: 154.342  sg.\n"
     ]
    }
   ],
   "source": [
    "# Obtención del modelo\n",
    "start_time = time.time()\n",
    "modelGbc = GradientBoostingClassifier(max_depth=5, min_samples_leaf=4, min_samples_split=10, n_estimators=200, random_state=14)\n",
    "modelGnb = GaussianNB(priors=[0.999, 0.001])\n",
    "modelLr = LogisticRegression(C=10, class_weight='balanced', random_state=14, solver='sag', tol=0.01)\n",
    "\n",
    "modelGbc.fit(X_train, y_train)\n",
    "modelGnb.fit(X_train, y_train)\n",
    "modelLr.fit(X_train, y_train)\n",
    "\n",
    "modelVoting = VotingClassifier(estimators=[('gbc',modelGbc),('gnb', modelGnb),('lr',modelLr)], voting='hard')\n",
    "\n",
    "modelVoting.fit(X_train, y_train)\n",
    "print(\"Tiempo en generación del modelo:\", round(time.time()-start_time,3), \" sg.\")"
   ]
  },
  {
   "cell_type": "code",
   "execution_count": 52,
   "metadata": {},
   "outputs": [
    {
     "name": "stdout",
     "output_type": "stream",
     "text": [
      "F1 score: 0.812\n"
     ]
    }
   ],
   "source": [
    "# Obtención de métricas\n",
    "y_pred = modelVoting.predict(X_val)\n",
    "print(\"F1 score: {:.3f}\".format(f1_score(y_val, y_pred, average='weighted')))"
   ]
  },
  {
   "cell_type": "code",
   "execution_count": 53,
   "metadata": {},
   "outputs": [],
   "source": [
    "# Se comprueba con el dataset de prueba\n",
    "y_pred = modelVoting.predict(X_test)"
   ]
  },
  {
   "cell_type": "code",
   "execution_count": 54,
   "metadata": {},
   "outputs": [
    {
     "name": "stdout",
     "output_type": "stream",
     "text": [
      "F1 score: 0.813\n",
      "Precisión (Precision): 0.805\n",
      "Exactitud (Accuracy): 0.832\n",
      "Especificidad (Specificity): 0.940\n",
      "AUC-ROC: 0.606\n"
     ]
    }
   ],
   "source": [
    "print(\"F1 score: {:.3f}\".format(f1_score(y_test, y_pred, average='weighted')))\n",
    "print(\"Precisión (Precision): {:.3f}\".format(precision_score(y_test, y_pred, average='weighted')))\n",
    "print(\"Exactitud (Accuracy): {:.3f}\".format(accuracy_score(y_test, y_pred)))\n",
    "print(\"Especificidad (Specificity): {:.3f}\".format(specificity_score(y_test, y_pred)))\n",
    "print(\"AUC-ROC: {:.3f}\".format(roc_auc_score(y_test, y_pred)))"
   ]
  }
 ],
 "metadata": {
  "kernelspec": {
   "display_name": "Python 3",
   "language": "python",
   "name": "python3"
  },
  "language_info": {
   "codemirror_mode": {
    "name": "ipython",
    "version": 3
   },
   "file_extension": ".py",
   "mimetype": "text/x-python",
   "name": "python",
   "nbconvert_exporter": "python",
   "pygments_lexer": "ipython3",
   "version": "3.8.5"
  }
 },
 "nbformat": 4,
 "nbformat_minor": 4
}
