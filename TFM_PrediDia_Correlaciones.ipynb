{
 "cells": [
  {
   "cell_type": "markdown",
   "metadata": {},
   "source": [
    "## Autor:\n",
    "Andrea Campillo Piqueras.\n",
    "## Estudios:\n",
    "Universidad Internacional de La Rioja.\n",
    "Escuela Superior de Ingeniería y Tecnología.<br>\n",
    "Trabajo Fin de Máster Universitario en Análisis y Visualización de Datos Masivos/ Visual Analytics and Big Data.\n",
    "## Título:\n",
    "PrediDia: Un Enfoque Predictivo para la Evaluación de la Diabetes.\n",
    "## Repositorio:\n",
    "https://github.com/AndreaCampillo/TFM_PrediDia\n",
    "## Licencia:\n",
    "MIT License Copyright (c) 2024 Andrea Campillo Piqueras."
   ]
  },
  {
   "cell_type": "markdown",
   "metadata": {},
   "source": [
    "## <center><H1>Estudio de Correlaciones</H1></center>"
   ]
  },
  {
   "cell_type": "code",
   "execution_count": 1,
   "metadata": {},
   "outputs": [],
   "source": [
    "# Librerías utilizadas\n",
    "import pandas as pd\n",
    "from sklearn.metrics import f1_score\n",
    "from sklearn.model_selection import train_test_split\n",
    "from sklearn.ensemble import RandomForestClassifier\n",
    "from imblearn.over_sampling import SMOTE"
   ]
  },
  {
   "cell_type": "markdown",
   "metadata": {},
   "source": [
    "# Dataset 2021"
   ]
  },
  {
   "cell_type": "code",
   "execution_count": 2,
   "metadata": {},
   "outputs": [],
   "source": [
    "url = 'https://github.com/AndreaCampillo/TFM_PrediDia/raw/Datasets/2021DataSet_Diabeticos_NoDiabeticos_Depurado.csv'\n",
    "dfDiabetes_load = pd.read_csv(url, sep=';')"
   ]
  },
  {
   "cell_type": "code",
   "execution_count": 3,
   "metadata": {},
   "outputs": [
    {
     "name": "stdout",
     "output_type": "stream",
     "text": [
      "<class 'pandas.core.frame.DataFrame'>\n",
      "RangeIndex: 229655 entries, 0 to 229654\n",
      "Data columns (total 45 columns):\n",
      " #   Column              Non-Null Count   Dtype\n",
      "---  ------              --------------   -----\n",
      " 0   Year                229655 non-null  int64\n",
      " 1   CatBMI              229655 non-null  int64\n",
      " 2   Stroke              229655 non-null  int64\n",
      " 3   HeartDis            229655 non-null  int64\n",
      " 4   PhysExer            229655 non-null  int64\n",
      " 5   HealthIns           229655 non-null  int64\n",
      " 6   NoMedCost           229655 non-null  int64\n",
      " 7   GenHealth           229655 non-null  int64\n",
      " 8   CogDiff             229655 non-null  int64\n",
      " 9   Depression          229655 non-null  int64\n",
      " 10  MentalHlth          229655 non-null  int64\n",
      " 11  MentalState         229655 non-null  int64\n",
      " 12  PhysHlth            229655 non-null  int64\n",
      " 13  WalkDiff            229655 non-null  int64\n",
      " 14  Gender              229655 non-null  int64\n",
      " 15  AgeRange            229655 non-null  int64\n",
      " 16  EdLevel             229655 non-null  int64\n",
      " 17  AnnIncome           229655 non-null  int64\n",
      " 18  SocClass            229655 non-null  int64\n",
      " 19  UrologyDz           229655 non-null  int64\n",
      " 20  VisionDiff          229655 non-null  int64\n",
      " 21  Asthma              229655 non-null  int64\n",
      " 22  LungDiseases        229655 non-null  int64\n",
      " 23  Arthritis           229655 non-null  int64\n",
      " 24  SmokerTrad          229655 non-null  int64\n",
      " 25  ECigSmok            229655 non-null  int64\n",
      " 26  AlcDrinker          229655 non-null  int64\n",
      " 27  Race                229655 non-null  int64\n",
      " 28  MaritalSt           229655 non-null  int64\n",
      " 29  LastMedChk          229655 non-null  int64\n",
      " 30  Awareness           229655 non-null  int64\n",
      " 31  FootIrrita          229655 non-null  int64\n",
      " 32  FecFootIrrita       229655 non-null  int64\n",
      " 33  HighBP              229655 non-null  int64\n",
      " 34  HighChol            229655 non-null  int64\n",
      " 35  FruitCons           229655 non-null  int64\n",
      " 36  VegCons             229655 non-null  int64\n",
      " 37  FruitOrVegCon       229655 non-null  int64\n",
      " 38  FruitAndVegCon      229655 non-null  int64\n",
      " 39  MarijuanaCon        229655 non-null  int64\n",
      " 40  SleepHours          229655 non-null  int64\n",
      " 41  BrDiabetes          229655 non-null  int64\n",
      " 42  GrDiabetes          229655 non-null  int64\n",
      " 43  SupGrPreDiabetes    229655 non-null  int64\n",
      " 44  SupGrNoPreDiabetes  229655 non-null  int64\n",
      "dtypes: int64(45)\n",
      "memory usage: 78.8 MB\n"
     ]
    }
   ],
   "source": [
    "dfDiabetes_load.info()"
   ]
  },
  {
   "cell_type": "code",
   "execution_count": 4,
   "metadata": {
    "scrolled": true
   },
   "outputs": [
    {
     "data": {
      "text/html": [
       "<div>\n",
       "<style scoped>\n",
       "    .dataframe tbody tr th:only-of-type {\n",
       "        vertical-align: middle;\n",
       "    }\n",
       "\n",
       "    .dataframe tbody tr th {\n",
       "        vertical-align: top;\n",
       "    }\n",
       "\n",
       "    .dataframe thead th {\n",
       "        text-align: right;\n",
       "    }\n",
       "</style>\n",
       "<table border=\"1\" class=\"dataframe\">\n",
       "  <thead>\n",
       "    <tr style=\"text-align: right;\">\n",
       "      <th></th>\n",
       "      <th>Year</th>\n",
       "      <th>CatBMI</th>\n",
       "      <th>Stroke</th>\n",
       "      <th>HeartDis</th>\n",
       "      <th>PhysExer</th>\n",
       "      <th>HealthIns</th>\n",
       "      <th>NoMedCost</th>\n",
       "      <th>GenHealth</th>\n",
       "      <th>CogDiff</th>\n",
       "      <th>Depression</th>\n",
       "      <th>...</th>\n",
       "      <th>FruitCons</th>\n",
       "      <th>VegCons</th>\n",
       "      <th>FruitOrVegCon</th>\n",
       "      <th>FruitAndVegCon</th>\n",
       "      <th>MarijuanaCon</th>\n",
       "      <th>SleepHours</th>\n",
       "      <th>BrDiabetes</th>\n",
       "      <th>GrDiabetes</th>\n",
       "      <th>SupGrPreDiabetes</th>\n",
       "      <th>SupGrNoPreDiabetes</th>\n",
       "    </tr>\n",
       "  </thead>\n",
       "  <tbody>\n",
       "    <tr>\n",
       "      <th>0</th>\n",
       "      <td>2021</td>\n",
       "      <td>1</td>\n",
       "      <td>2</td>\n",
       "      <td>2</td>\n",
       "      <td>2</td>\n",
       "      <td>1</td>\n",
       "      <td>2</td>\n",
       "      <td>2</td>\n",
       "      <td>2</td>\n",
       "      <td>2</td>\n",
       "      <td>...</td>\n",
       "      <td>1</td>\n",
       "      <td>1</td>\n",
       "      <td>1</td>\n",
       "      <td>1</td>\n",
       "      <td>9</td>\n",
       "      <td>99</td>\n",
       "      <td>3</td>\n",
       "      <td>3</td>\n",
       "      <td>2</td>\n",
       "      <td>2</td>\n",
       "    </tr>\n",
       "    <tr>\n",
       "      <th>1</th>\n",
       "      <td>2021</td>\n",
       "      <td>3</td>\n",
       "      <td>2</td>\n",
       "      <td>1</td>\n",
       "      <td>2</td>\n",
       "      <td>1</td>\n",
       "      <td>2</td>\n",
       "      <td>1</td>\n",
       "      <td>2</td>\n",
       "      <td>2</td>\n",
       "      <td>...</td>\n",
       "      <td>1</td>\n",
       "      <td>2</td>\n",
       "      <td>1</td>\n",
       "      <td>2</td>\n",
       "      <td>9</td>\n",
       "      <td>99</td>\n",
       "      <td>1</td>\n",
       "      <td>1</td>\n",
       "      <td>1</td>\n",
       "      <td>1</td>\n",
       "    </tr>\n",
       "    <tr>\n",
       "      <th>2</th>\n",
       "      <td>2021</td>\n",
       "      <td>4</td>\n",
       "      <td>2</td>\n",
       "      <td>2</td>\n",
       "      <td>1</td>\n",
       "      <td>1</td>\n",
       "      <td>2</td>\n",
       "      <td>1</td>\n",
       "      <td>2</td>\n",
       "      <td>2</td>\n",
       "      <td>...</td>\n",
       "      <td>1</td>\n",
       "      <td>1</td>\n",
       "      <td>1</td>\n",
       "      <td>1</td>\n",
       "      <td>9</td>\n",
       "      <td>99</td>\n",
       "      <td>1</td>\n",
       "      <td>1</td>\n",
       "      <td>1</td>\n",
       "      <td>1</td>\n",
       "    </tr>\n",
       "    <tr>\n",
       "      <th>3</th>\n",
       "      <td>2021</td>\n",
       "      <td>3</td>\n",
       "      <td>1</td>\n",
       "      <td>1</td>\n",
       "      <td>1</td>\n",
       "      <td>1</td>\n",
       "      <td>2</td>\n",
       "      <td>2</td>\n",
       "      <td>2</td>\n",
       "      <td>2</td>\n",
       "      <td>...</td>\n",
       "      <td>1</td>\n",
       "      <td>1</td>\n",
       "      <td>1</td>\n",
       "      <td>1</td>\n",
       "      <td>9</td>\n",
       "      <td>99</td>\n",
       "      <td>1</td>\n",
       "      <td>1</td>\n",
       "      <td>1</td>\n",
       "      <td>1</td>\n",
       "    </tr>\n",
       "    <tr>\n",
       "      <th>4</th>\n",
       "      <td>2021</td>\n",
       "      <td>2</td>\n",
       "      <td>2</td>\n",
       "      <td>2</td>\n",
       "      <td>2</td>\n",
       "      <td>1</td>\n",
       "      <td>2</td>\n",
       "      <td>1</td>\n",
       "      <td>2</td>\n",
       "      <td>2</td>\n",
       "      <td>...</td>\n",
       "      <td>2</td>\n",
       "      <td>2</td>\n",
       "      <td>2</td>\n",
       "      <td>2</td>\n",
       "      <td>9</td>\n",
       "      <td>99</td>\n",
       "      <td>3</td>\n",
       "      <td>3</td>\n",
       "      <td>2</td>\n",
       "      <td>2</td>\n",
       "    </tr>\n",
       "  </tbody>\n",
       "</table>\n",
       "<p>5 rows × 45 columns</p>\n",
       "</div>"
      ],
      "text/plain": [
       "   Year  CatBMI  Stroke  HeartDis  PhysExer  HealthIns  NoMedCost  GenHealth  \\\n",
       "0  2021       1       2         2         2          1          2          2   \n",
       "1  2021       3       2         1         2          1          2          1   \n",
       "2  2021       4       2         2         1          1          2          1   \n",
       "3  2021       3       1         1         1          1          2          2   \n",
       "4  2021       2       2         2         2          1          2          1   \n",
       "\n",
       "   CogDiff  Depression  ...  FruitCons  VegCons  FruitOrVegCon  \\\n",
       "0        2           2  ...          1        1              1   \n",
       "1        2           2  ...          1        2              1   \n",
       "2        2           2  ...          1        1              1   \n",
       "3        2           2  ...          1        1              1   \n",
       "4        2           2  ...          2        2              2   \n",
       "\n",
       "   FruitAndVegCon  MarijuanaCon  SleepHours  BrDiabetes  GrDiabetes  \\\n",
       "0               1             9          99           3           3   \n",
       "1               2             9          99           1           1   \n",
       "2               1             9          99           1           1   \n",
       "3               1             9          99           1           1   \n",
       "4               2             9          99           3           3   \n",
       "\n",
       "   SupGrPreDiabetes  SupGrNoPreDiabetes  \n",
       "0                 2                   2  \n",
       "1                 1                   1  \n",
       "2                 1                   1  \n",
       "3                 1                   1  \n",
       "4                 2                   2  \n",
       "\n",
       "[5 rows x 45 columns]"
      ]
     },
     "execution_count": 4,
     "metadata": {},
     "output_type": "execute_result"
    }
   ],
   "source": [
    "dfDiabetes_load.head()"
   ]
  },
  {
   "cell_type": "code",
   "execution_count": 5,
   "metadata": {},
   "outputs": [],
   "source": [
    "# Eliminación de columnas descartadas tras EDA\n",
    "columns_to_drop = ['Year','MarijuanaCon','SleepHours','AnnIncome','Awareness','FootIrrita','FecFootIrrita','BrDiabetes','GrDiabetes','SupGrNoPreDiabetes']\n",
    "dfDiabetes = dfDiabetes_load.drop(columns_to_drop, axis=1)"
   ]
  },
  {
   "cell_type": "code",
   "execution_count": 6,
   "metadata": {},
   "outputs": [
    {
     "name": "stdout",
     "output_type": "stream",
     "text": [
      "<class 'pandas.core.frame.DataFrame'>\n",
      "RangeIndex: 229655 entries, 0 to 229654\n",
      "Data columns (total 35 columns):\n",
      " #   Column            Non-Null Count   Dtype\n",
      "---  ------            --------------   -----\n",
      " 0   CatBMI            229655 non-null  int64\n",
      " 1   Stroke            229655 non-null  int64\n",
      " 2   HeartDis          229655 non-null  int64\n",
      " 3   PhysExer          229655 non-null  int64\n",
      " 4   HealthIns         229655 non-null  int64\n",
      " 5   NoMedCost         229655 non-null  int64\n",
      " 6   GenHealth         229655 non-null  int64\n",
      " 7   CogDiff           229655 non-null  int64\n",
      " 8   Depression        229655 non-null  int64\n",
      " 9   MentalHlth        229655 non-null  int64\n",
      " 10  MentalState       229655 non-null  int64\n",
      " 11  PhysHlth          229655 non-null  int64\n",
      " 12  WalkDiff          229655 non-null  int64\n",
      " 13  Gender            229655 non-null  int64\n",
      " 14  AgeRange          229655 non-null  int64\n",
      " 15  EdLevel           229655 non-null  int64\n",
      " 16  SocClass          229655 non-null  int64\n",
      " 17  UrologyDz         229655 non-null  int64\n",
      " 18  VisionDiff        229655 non-null  int64\n",
      " 19  Asthma            229655 non-null  int64\n",
      " 20  LungDiseases      229655 non-null  int64\n",
      " 21  Arthritis         229655 non-null  int64\n",
      " 22  SmokerTrad        229655 non-null  int64\n",
      " 23  ECigSmok          229655 non-null  int64\n",
      " 24  AlcDrinker        229655 non-null  int64\n",
      " 25  Race              229655 non-null  int64\n",
      " 26  MaritalSt         229655 non-null  int64\n",
      " 27  LastMedChk        229655 non-null  int64\n",
      " 28  HighBP            229655 non-null  int64\n",
      " 29  HighChol          229655 non-null  int64\n",
      " 30  FruitCons         229655 non-null  int64\n",
      " 31  VegCons           229655 non-null  int64\n",
      " 32  FruitOrVegCon     229655 non-null  int64\n",
      " 33  FruitAndVegCon    229655 non-null  int64\n",
      " 34  SupGrPreDiabetes  229655 non-null  int64\n",
      "dtypes: int64(35)\n",
      "memory usage: 61.3 MB\n"
     ]
    }
   ],
   "source": [
    "dfDiabetes.info()"
   ]
  },
  {
   "cell_type": "code",
   "execution_count": 7,
   "metadata": {},
   "outputs": [
    {
     "data": {
      "text/html": [
       "<div>\n",
       "<style scoped>\n",
       "    .dataframe tbody tr th:only-of-type {\n",
       "        vertical-align: middle;\n",
       "    }\n",
       "\n",
       "    .dataframe tbody tr th {\n",
       "        vertical-align: top;\n",
       "    }\n",
       "\n",
       "    .dataframe thead th {\n",
       "        text-align: right;\n",
       "    }\n",
       "</style>\n",
       "<table border=\"1\" class=\"dataframe\">\n",
       "  <thead>\n",
       "    <tr style=\"text-align: right;\">\n",
       "      <th></th>\n",
       "      <th>CatBMI</th>\n",
       "      <th>Stroke</th>\n",
       "      <th>HeartDis</th>\n",
       "      <th>PhysExer</th>\n",
       "      <th>HealthIns</th>\n",
       "      <th>NoMedCost</th>\n",
       "      <th>GenHealth</th>\n",
       "      <th>CogDiff</th>\n",
       "      <th>Depression</th>\n",
       "      <th>MentalHlth</th>\n",
       "      <th>...</th>\n",
       "      <th>Race</th>\n",
       "      <th>MaritalSt</th>\n",
       "      <th>LastMedChk</th>\n",
       "      <th>HighBP</th>\n",
       "      <th>HighChol</th>\n",
       "      <th>FruitCons</th>\n",
       "      <th>VegCons</th>\n",
       "      <th>FruitOrVegCon</th>\n",
       "      <th>FruitAndVegCon</th>\n",
       "      <th>SupGrPreDiabetes</th>\n",
       "    </tr>\n",
       "  </thead>\n",
       "  <tbody>\n",
       "    <tr>\n",
       "      <th>0</th>\n",
       "      <td>1</td>\n",
       "      <td>2</td>\n",
       "      <td>2</td>\n",
       "      <td>2</td>\n",
       "      <td>1</td>\n",
       "      <td>2</td>\n",
       "      <td>2</td>\n",
       "      <td>2</td>\n",
       "      <td>2</td>\n",
       "      <td>2</td>\n",
       "      <td>...</td>\n",
       "      <td>1</td>\n",
       "      <td>1</td>\n",
       "      <td>2</td>\n",
       "      <td>2</td>\n",
       "      <td>1</td>\n",
       "      <td>1</td>\n",
       "      <td>1</td>\n",
       "      <td>1</td>\n",
       "      <td>1</td>\n",
       "      <td>2</td>\n",
       "    </tr>\n",
       "    <tr>\n",
       "      <th>1</th>\n",
       "      <td>3</td>\n",
       "      <td>2</td>\n",
       "      <td>1</td>\n",
       "      <td>2</td>\n",
       "      <td>1</td>\n",
       "      <td>2</td>\n",
       "      <td>1</td>\n",
       "      <td>2</td>\n",
       "      <td>2</td>\n",
       "      <td>1</td>\n",
       "      <td>...</td>\n",
       "      <td>2</td>\n",
       "      <td>3</td>\n",
       "      <td>1</td>\n",
       "      <td>1</td>\n",
       "      <td>2</td>\n",
       "      <td>1</td>\n",
       "      <td>2</td>\n",
       "      <td>1</td>\n",
       "      <td>2</td>\n",
       "      <td>1</td>\n",
       "    </tr>\n",
       "    <tr>\n",
       "      <th>2</th>\n",
       "      <td>4</td>\n",
       "      <td>2</td>\n",
       "      <td>2</td>\n",
       "      <td>1</td>\n",
       "      <td>1</td>\n",
       "      <td>2</td>\n",
       "      <td>1</td>\n",
       "      <td>2</td>\n",
       "      <td>2</td>\n",
       "      <td>2</td>\n",
       "      <td>...</td>\n",
       "      <td>1</td>\n",
       "      <td>1</td>\n",
       "      <td>1</td>\n",
       "      <td>1</td>\n",
       "      <td>1</td>\n",
       "      <td>1</td>\n",
       "      <td>1</td>\n",
       "      <td>1</td>\n",
       "      <td>1</td>\n",
       "      <td>1</td>\n",
       "    </tr>\n",
       "    <tr>\n",
       "      <th>3</th>\n",
       "      <td>3</td>\n",
       "      <td>1</td>\n",
       "      <td>1</td>\n",
       "      <td>1</td>\n",
       "      <td>1</td>\n",
       "      <td>2</td>\n",
       "      <td>2</td>\n",
       "      <td>2</td>\n",
       "      <td>2</td>\n",
       "      <td>1</td>\n",
       "      <td>...</td>\n",
       "      <td>4</td>\n",
       "      <td>1</td>\n",
       "      <td>1</td>\n",
       "      <td>1</td>\n",
       "      <td>1</td>\n",
       "      <td>1</td>\n",
       "      <td>1</td>\n",
       "      <td>1</td>\n",
       "      <td>1</td>\n",
       "      <td>1</td>\n",
       "    </tr>\n",
       "    <tr>\n",
       "      <th>4</th>\n",
       "      <td>2</td>\n",
       "      <td>2</td>\n",
       "      <td>2</td>\n",
       "      <td>2</td>\n",
       "      <td>1</td>\n",
       "      <td>2</td>\n",
       "      <td>1</td>\n",
       "      <td>2</td>\n",
       "      <td>2</td>\n",
       "      <td>1</td>\n",
       "      <td>...</td>\n",
       "      <td>1</td>\n",
       "      <td>1</td>\n",
       "      <td>1</td>\n",
       "      <td>2</td>\n",
       "      <td>2</td>\n",
       "      <td>2</td>\n",
       "      <td>2</td>\n",
       "      <td>2</td>\n",
       "      <td>2</td>\n",
       "      <td>2</td>\n",
       "    </tr>\n",
       "  </tbody>\n",
       "</table>\n",
       "<p>5 rows × 35 columns</p>\n",
       "</div>"
      ],
      "text/plain": [
       "   CatBMI  Stroke  HeartDis  PhysExer  HealthIns  NoMedCost  GenHealth  \\\n",
       "0       1       2         2         2          1          2          2   \n",
       "1       3       2         1         2          1          2          1   \n",
       "2       4       2         2         1          1          2          1   \n",
       "3       3       1         1         1          1          2          2   \n",
       "4       2       2         2         2          1          2          1   \n",
       "\n",
       "   CogDiff  Depression  MentalHlth  ...  Race  MaritalSt  LastMedChk  HighBP  \\\n",
       "0        2           2           2  ...     1          1           2       2   \n",
       "1        2           2           1  ...     2          3           1       1   \n",
       "2        2           2           2  ...     1          1           1       1   \n",
       "3        2           2           1  ...     4          1           1       1   \n",
       "4        2           2           1  ...     1          1           1       2   \n",
       "\n",
       "   HighChol  FruitCons  VegCons  FruitOrVegCon  FruitAndVegCon  \\\n",
       "0         1          1        1              1               1   \n",
       "1         2          1        2              1               2   \n",
       "2         1          1        1              1               1   \n",
       "3         1          1        1              1               1   \n",
       "4         2          2        2              2               2   \n",
       "\n",
       "   SupGrPreDiabetes  \n",
       "0                 2  \n",
       "1                 1  \n",
       "2                 1  \n",
       "3                 1  \n",
       "4                 2  \n",
       "\n",
       "[5 rows x 35 columns]"
      ]
     },
     "execution_count": 7,
     "metadata": {},
     "output_type": "execute_result"
    }
   ],
   "source": [
    "dfDiabetes.head()"
   ]
  },
  {
   "cell_type": "markdown",
   "metadata": {},
   "source": [
    "# Correlaciones"
   ]
  },
  {
   "cell_type": "code",
   "execution_count": 8,
   "metadata": {},
   "outputs": [
    {
     "name": "stdout",
     "output_type": "stream",
     "text": [
      "                    CatBMI    Stroke  HeartDis  PhysExer  HealthIns  \\\n",
      "CatBMI            1.000000 -0.012663 -0.044291  0.129881   0.003335   \n",
      "Stroke           -0.012663  1.000000  0.174513 -0.078169   0.014495   \n",
      "HeartDis         -0.044291  0.174513  1.000000 -0.096495   0.024383   \n",
      "PhysExer          0.129881 -0.078169 -0.096495  1.000000   0.025023   \n",
      "HealthIns         0.003335  0.014495  0.024383  0.025023   1.000000   \n",
      "NoMedCost        -0.030049  0.022113  0.014401 -0.050247  -0.253153   \n",
      "GenHealth         0.109430 -0.153287 -0.223415  0.249767   0.024789   \n",
      "CogDiff          -0.045780  0.094140  0.069455 -0.118310  -0.031117   \n",
      "Depression       -0.077076  0.043924  0.034277 -0.092074  -0.007482   \n",
      "MentalHlth        0.038958 -0.028587 -0.007548  0.074218   0.035387   \n",
      "MentalState       0.075071 -0.045656 -0.034544  0.105039   0.022294   \n",
      "PhysHlth          0.087768 -0.116631 -0.148441  0.211767   0.002094   \n",
      "WalkDiff         -0.141873  0.160877  0.193087 -0.282233   0.020845   \n",
      "Gender           -0.061663  0.001480  0.085810  0.059586  -0.026503   \n",
      "AgeRange          0.002791 -0.117172 -0.203117  0.107721  -0.138126   \n",
      "EdLevel          -0.094002  0.062871  0.081114 -0.212798  -0.134259   \n",
      "SocClass         -0.064204  0.096493  0.109931 -0.215232  -0.121324   \n",
      "UrologyDz        -0.044176  0.083213  0.140945 -0.081005   0.020863   \n",
      "VisionDiff       -0.015714  0.094265  0.091333 -0.094751  -0.019518   \n",
      "Asthma            0.078209 -0.040924 -0.038694  0.047658  -0.004824   \n",
      "LungDiseases     -0.032850  0.097451  0.168462 -0.145581   0.011028   \n",
      "Arthritis        -0.114644  0.091140  0.144983 -0.127179   0.061131   \n",
      "SmokerTrad        0.003670  0.055648  0.082792 -0.123557  -0.062819   \n",
      "ECigSmok         -0.007307  0.007012  0.017644  0.009976   0.050927   \n",
      "AlcDrinker        0.005990  0.040500  0.060791 -0.048155   0.037090   \n",
      "Race              0.026836  0.011104  0.034674  0.043366   0.146480   \n",
      "MaritalSt        -0.019140  0.000336  0.023042  0.038702   0.096232   \n",
      "LastMedChk       -0.052725  0.047943  0.074173 -0.035638   0.208867   \n",
      "HighBP           -0.217819  0.124405  0.198041 -0.129319   0.049953   \n",
      "HighChol         -0.106604  0.085663  0.168322 -0.075574   0.056015   \n",
      "FruitCons         0.088075 -0.000619 -0.006750  0.117577   0.019196   \n",
      "VegCons           0.042236 -0.024783 -0.025007  0.136100   0.033518   \n",
      "FruitOrVegCon     0.045352 -0.015344 -0.014745  0.120847   0.022470   \n",
      "FruitAndVegCon    0.090080 -0.009964 -0.016483  0.143636   0.030331   \n",
      "SupGrPreDiabetes -0.190952  0.098698  0.171213 -0.147603   0.023001   \n",
      "\n",
      "                  NoMedCost  GenHealth   CogDiff  Depression  MentalHlth  ...  \\\n",
      "CatBMI            -0.030049   0.109430 -0.045780   -0.077076    0.038958  ...   \n",
      "Stroke             0.022113  -0.153287  0.094140    0.043924   -0.028587  ...   \n",
      "HeartDis           0.014401  -0.223415  0.069455    0.034277   -0.007548  ...   \n",
      "PhysExer          -0.050247   0.249767 -0.118310   -0.092074    0.074218  ...   \n",
      "HealthIns         -0.253153   0.024789 -0.031117   -0.007482    0.035387  ...   \n",
      "NoMedCost          1.000000  -0.124873  0.158972    0.126269   -0.178997  ...   \n",
      "GenHealth         -0.124873   1.000000 -0.253442   -0.177812    0.208129  ...   \n",
      "CogDiff            0.158972  -0.253442  1.000000    0.326701   -0.335294  ...   \n",
      "Depression         0.126269  -0.177812  0.326701    1.000000   -0.426838  ...   \n",
      "MentalHlth        -0.178997   0.208129 -0.335294   -0.426838    1.000000  ...   \n",
      "MentalState       -0.154241   0.206968 -0.338276   -0.872581    0.633652  ...   \n",
      "PhysHlth          -0.129460   0.478574 -0.250955   -0.221891    0.294749  ...   \n",
      "WalkDiff           0.081774  -0.412685  0.239034    0.158542   -0.135681  ...   \n",
      "Gender            -0.035109   0.012898 -0.046935   -0.142320    0.137242  ...   \n",
      "AgeRange           0.130795   0.108962  0.059442    0.092289   -0.225130  ...   \n",
      "EdLevel            0.093221  -0.198282  0.125957    0.024572   -0.016104  ...   \n",
      "SocClass           0.150602  -0.237364  0.175305    0.114750   -0.093959  ...   \n",
      "UrologyDz          0.010850  -0.171176  0.056718    0.047179   -0.020858  ...   \n",
      "VisionDiff         0.077141  -0.169071  0.159046    0.076167   -0.077999  ...   \n",
      "Asthma            -0.062635   0.122623 -0.112227   -0.143953    0.126090  ...   \n",
      "LungDiseases       0.047792  -0.251763  0.133839    0.121032   -0.086656  ...   \n",
      "Arthritis          0.010489  -0.210244  0.123439    0.127506   -0.056705  ...   \n",
      "SmokerTrad         0.087080  -0.144244  0.123497    0.123591   -0.096337  ...   \n",
      "ECigSmok          -0.073110   0.023099 -0.090926   -0.095930    0.106706  ...   \n",
      "AlcDrinker        -0.031729  -0.056382 -0.003970   -0.015425    0.067257  ...   \n",
      "Race              -0.102091   0.057937 -0.040559    0.025994    0.021909  ...   \n",
      "MaritalSt         -0.093668   0.059512 -0.095287   -0.092283    0.137209  ...   \n",
      "LastMedChk        -0.123999  -0.059406  0.004828    0.033536    0.037764  ...   \n",
      "HighBP            -0.007192  -0.189357  0.049104    0.030749    0.023105  ...   \n",
      "HighChol          -0.012123  -0.130606  0.051185    0.067626   -0.003750  ...   \n",
      "FruitCons         -0.029422   0.048421 -0.048196   -0.050572    0.058220  ...   \n",
      "VegCons           -0.028289   0.085422 -0.055755   -0.035636    0.033674  ...   \n",
      "FruitOrVegCon     -0.024859   0.065140 -0.050927   -0.042194    0.044804  ...   \n",
      "FruitAndVegCon    -0.034877   0.071975 -0.057998   -0.050431    0.054802  ...   \n",
      "SupGrPreDiabetes   0.018210  -0.235988  0.075709    0.052008   -0.015420  ...   \n",
      "\n",
      "                      Race  MaritalSt  LastMedChk    HighBP  HighChol  \\\n",
      "CatBMI            0.026836  -0.019140   -0.052725 -0.217819 -0.106604   \n",
      "Stroke            0.011104   0.000336    0.047943  0.124405  0.085663   \n",
      "HeartDis          0.034674   0.023042    0.074173  0.198041  0.168322   \n",
      "PhysExer          0.043366   0.038702   -0.035638 -0.129319 -0.075574   \n",
      "HealthIns         0.146480   0.096232    0.208867  0.049953  0.056015   \n",
      "NoMedCost        -0.102091  -0.093668   -0.123999 -0.007192 -0.012123   \n",
      "GenHealth         0.057937   0.059512   -0.059406 -0.189357 -0.130606   \n",
      "CogDiff          -0.040559  -0.095287    0.004828  0.049104  0.051185   \n",
      "Depression        0.025994  -0.092283    0.033536  0.030749  0.067626   \n",
      "MentalHlth        0.021909   0.137209    0.037764  0.023105 -0.003750   \n",
      "MentalState      -0.005604   0.110474   -0.012818 -0.026259 -0.056754   \n",
      "PhysHlth          0.003578   0.045387   -0.060042 -0.126280 -0.102485   \n",
      "WalkDiff          0.000587  -0.035012    0.085996  0.204388  0.126937   \n",
      "Gender            0.005596   0.037645   -0.085465  0.074134  0.029278   \n",
      "AgeRange         -0.210199  -0.263525   -0.196661 -0.340008 -0.293170   \n",
      "EdLevel          -0.129758  -0.089775   -0.014345  0.106517  0.033957   \n",
      "SocClass         -0.130323  -0.267387    0.012088  0.137582  0.058275   \n",
      "UrologyDz         0.010342  -0.000634    0.053396  0.138787  0.088481   \n",
      "VisionDiff       -0.056539  -0.038847    0.015914  0.075483  0.054606   \n",
      "Asthma            0.018627   0.051225   -0.022926 -0.034516 -0.025705   \n",
      "LungDiseases      0.037218  -0.021716    0.054267  0.115879  0.103916   \n",
      "Arthritis         0.099957   0.053179    0.135394  0.221055  0.180377   \n",
      "SmokerTrad        0.037662  -0.060827   -0.041154  0.061164  0.048479   \n",
      "ECigSmok          0.016444   0.105463    0.049772  0.038852  0.032859   \n",
      "AlcDrinker        0.017529   0.070169    0.085787  0.056704  0.057179   \n",
      "Race              1.000000   0.136479    0.043912  0.050148  0.054229   \n",
      "MaritalSt         0.136479   1.000000    0.078786  0.042260  0.072826   \n",
      "LastMedChk        0.043912   0.078786    1.000000  0.177373  0.152109   \n",
      "HighBP            0.050148   0.042260    0.177373  1.000000  0.281316   \n",
      "HighChol          0.054229   0.072826    0.152109  0.281316  1.000000   \n",
      "FruitCons         0.006781   0.042882    0.038729 -0.031872 -0.024277   \n",
      "VegCons           0.093116   0.077963    0.014533 -0.035949 -0.031744   \n",
      "FruitOrVegCon     0.054444   0.063932    0.022914 -0.026323 -0.022239   \n",
      "FruitAndVegCon    0.043753   0.061660    0.034724 -0.042173 -0.034085   \n",
      "SupGrPreDiabetes -0.034126   0.007762    0.127680  0.263572  0.207535   \n",
      "\n",
      "                  FruitCons   VegCons  FruitOrVegCon  FruitAndVegCon  \\\n",
      "CatBMI             0.088075  0.042236       0.045352        0.090080   \n",
      "Stroke            -0.000619 -0.024783      -0.015344       -0.009964   \n",
      "HeartDis          -0.006750 -0.025007      -0.014745       -0.016483   \n",
      "PhysExer           0.117577  0.136100       0.120847        0.143636   \n",
      "HealthIns          0.019196  0.033518       0.022470        0.030331   \n",
      "NoMedCost         -0.029422 -0.028289      -0.024859       -0.034877   \n",
      "GenHealth          0.048421  0.085422       0.065140        0.071975   \n",
      "CogDiff           -0.048196 -0.055755      -0.050927       -0.057998   \n",
      "Depression        -0.050572 -0.035636      -0.042194       -0.050431   \n",
      "MentalHlth         0.058220  0.033674       0.044804        0.054802   \n",
      "MentalState        0.054963  0.041336       0.047365        0.055858   \n",
      "PhysHlth           0.036617  0.051051       0.043188        0.047890   \n",
      "WalkDiff          -0.029126 -0.066281      -0.047479       -0.049490   \n",
      "Gender            -0.054410 -0.046164      -0.036301       -0.065774   \n",
      "AgeRange          -0.061587 -0.004930      -0.026385       -0.047613   \n",
      "EdLevel           -0.091721 -0.127294      -0.097510       -0.126071   \n",
      "SocClass          -0.046154 -0.119517      -0.086638       -0.082400   \n",
      "UrologyDz         -0.007389 -0.021443      -0.014451       -0.014586   \n",
      "VisionDiff        -0.012610 -0.039475      -0.022955       -0.028123   \n",
      "Asthma             0.009046  0.003788       0.007685        0.006976   \n",
      "LungDiseases      -0.036154 -0.032750      -0.028477       -0.042602   \n",
      "Arthritis          0.002049 -0.010893      -0.004760       -0.003334   \n",
      "SmokerTrad        -0.100440 -0.035690      -0.047519       -0.095851   \n",
      "ECigSmok           0.053039  0.011679       0.022699        0.046652   \n",
      "AlcDrinker         0.071295 -0.008711       0.011582        0.055836   \n",
      "Race               0.006781  0.093116       0.054444        0.043753   \n",
      "MaritalSt          0.042882  0.077963       0.063932        0.061660   \n",
      "LastMedChk         0.038729  0.014533       0.022914        0.034724   \n",
      "HighBP            -0.031872 -0.035949      -0.026323       -0.042173   \n",
      "HighChol          -0.024277 -0.031744      -0.022239       -0.034085   \n",
      "FruitCons          1.000000  0.215359       0.437279        0.870212   \n",
      "VegCons            0.215359  1.000000       0.749596        0.507640   \n",
      "FruitOrVegCon      0.437279  0.749596       1.000000        0.380525   \n",
      "FruitAndVegCon     0.870212  0.507640       0.380525        1.000000   \n",
      "SupGrPreDiabetes  -0.031038 -0.046940      -0.031413       -0.046565   \n",
      "\n",
      "                  SupGrPreDiabetes  \n",
      "CatBMI                   -0.190952  \n",
      "Stroke                    0.098698  \n",
      "HeartDis                  0.171213  \n",
      "PhysExer                 -0.147603  \n",
      "HealthIns                 0.023001  \n",
      "NoMedCost                 0.018210  \n",
      "GenHealth                -0.235988  \n",
      "CogDiff                   0.075709  \n",
      "Depression                0.052008  \n",
      "MentalHlth               -0.015420  \n",
      "MentalState              -0.051008  \n",
      "PhysHlth                 -0.146570  \n",
      "WalkDiff                  0.212205  \n",
      "Gender                    0.032266  \n",
      "AgeRange                 -0.198577  \n",
      "EdLevel                   0.108239  \n",
      "SocClass                  0.142661  \n",
      "UrologyDz                 0.153237  \n",
      "VisionDiff                0.094550  \n",
      "Asthma                   -0.049569  \n",
      "LungDiseases              0.101177  \n",
      "Arthritis                 0.132432  \n",
      "SmokerTrad                0.038260  \n",
      "ECigSmok                  0.021186  \n",
      "AlcDrinker                0.086821  \n",
      "Race                     -0.034126  \n",
      "MaritalSt                 0.007762  \n",
      "LastMedChk                0.127680  \n",
      "HighBP                    0.263572  \n",
      "HighChol                  0.207535  \n",
      "FruitCons                -0.031038  \n",
      "VegCons                  -0.046940  \n",
      "FruitOrVegCon            -0.031413  \n",
      "FruitAndVegCon           -0.046565  \n",
      "SupGrPreDiabetes          1.000000  \n",
      "\n",
      "[35 rows x 35 columns]\n"
     ]
    }
   ],
   "source": [
    "# Correlación de todos los campos\n",
    "correlation_matrix = dfDiabetes.corr()\n",
    "print(correlation_matrix)"
   ]
  },
  {
   "cell_type": "code",
   "execution_count": 9,
   "metadata": {},
   "outputs": [],
   "source": [
    "# Correlacion entre todos los campos creados por el analista al extraer los datos con SupGrPreDiabetes\n",
    "subset_dfDiabetes = dfDiabetes[['CogDiff','Depression','MentalHlth','MentalState','FruitCons','VegCons','FruitOrVegCon','FruitAndVegCon','SupGrPreDiabetes']]"
   ]
  },
  {
   "cell_type": "code",
   "execution_count": 10,
   "metadata": {
    "scrolled": true
   },
   "outputs": [
    {
     "name": "stdout",
     "output_type": "stream",
     "text": [
      "<class 'pandas.core.frame.DataFrame'>\n",
      "RangeIndex: 229655 entries, 0 to 229654\n",
      "Data columns (total 9 columns):\n",
      " #   Column            Non-Null Count   Dtype\n",
      "---  ------            --------------   -----\n",
      " 0   CogDiff           229655 non-null  int64\n",
      " 1   Depression        229655 non-null  int64\n",
      " 2   MentalHlth        229655 non-null  int64\n",
      " 3   MentalState       229655 non-null  int64\n",
      " 4   FruitCons         229655 non-null  int64\n",
      " 5   VegCons           229655 non-null  int64\n",
      " 6   FruitOrVegCon     229655 non-null  int64\n",
      " 7   FruitAndVegCon    229655 non-null  int64\n",
      " 8   SupGrPreDiabetes  229655 non-null  int64\n",
      "dtypes: int64(9)\n",
      "memory usage: 15.8 MB\n"
     ]
    }
   ],
   "source": [
    "subset_dfDiabetes.info()"
   ]
  },
  {
   "cell_type": "code",
   "execution_count": 11,
   "metadata": {},
   "outputs": [
    {
     "name": "stdout",
     "output_type": "stream",
     "text": [
      "                   CogDiff  Depression  MentalHlth  MentalState  FruitCons  \\\n",
      "CogDiff           1.000000    0.326701   -0.335294    -0.338276  -0.048196   \n",
      "Depression        0.326701    1.000000   -0.426838    -0.872581  -0.050572   \n",
      "MentalHlth       -0.335294   -0.426838    1.000000     0.633652   0.058220   \n",
      "MentalState      -0.338276   -0.872581    0.633652     1.000000   0.054963   \n",
      "FruitCons        -0.048196   -0.050572    0.058220     0.054963   1.000000   \n",
      "VegCons          -0.055755   -0.035636    0.033674     0.041336   0.215359   \n",
      "FruitOrVegCon    -0.050927   -0.042194    0.044804     0.047365   0.437279   \n",
      "FruitAndVegCon   -0.057998   -0.050431    0.054802     0.055858   0.870212   \n",
      "SupGrPreDiabetes  0.075709    0.052008   -0.015420    -0.051008  -0.031038   \n",
      "\n",
      "                   VegCons  FruitOrVegCon  FruitAndVegCon  SupGrPreDiabetes  \n",
      "CogDiff          -0.055755      -0.050927       -0.057998          0.075709  \n",
      "Depression       -0.035636      -0.042194       -0.050431          0.052008  \n",
      "MentalHlth        0.033674       0.044804        0.054802         -0.015420  \n",
      "MentalState       0.041336       0.047365        0.055858         -0.051008  \n",
      "FruitCons         0.215359       0.437279        0.870212         -0.031038  \n",
      "VegCons           1.000000       0.749596        0.507640         -0.046940  \n",
      "FruitOrVegCon     0.749596       1.000000        0.380525         -0.031413  \n",
      "FruitAndVegCon    0.507640       0.380525        1.000000         -0.046565  \n",
      "SupGrPreDiabetes -0.046940      -0.031413       -0.046565          1.000000  \n"
     ]
    }
   ],
   "source": [
    "# Correlación de todos los campos\n",
    "correlation_matrix = subset_dfDiabetes.corr()\n",
    "print(correlation_matrix)"
   ]
  },
  {
   "cell_type": "code",
   "execution_count": 12,
   "metadata": {},
   "outputs": [],
   "source": [
    "# Descarte de caracteristicas calculados por el analista (MentalHlth, MentalState, FruitCons, VegCons, FruitOrVegCon) no necesarias \n",
    "# Dejar CogDiff, Depression, FruitAndVegCon \n",
    "columns_to_drop = ['MentalHlth','MentalState','FruitCons','VegCons','FruitOrVegCon']\n",
    "dfDiabetes = dfDiabetes.drop(columns_to_drop, axis=1)"
   ]
  },
  {
   "cell_type": "code",
   "execution_count": 13,
   "metadata": {},
   "outputs": [
    {
     "name": "stdout",
     "output_type": "stream",
     "text": [
      "<class 'pandas.core.frame.DataFrame'>\n",
      "RangeIndex: 229655 entries, 0 to 229654\n",
      "Data columns (total 30 columns):\n",
      " #   Column            Non-Null Count   Dtype\n",
      "---  ------            --------------   -----\n",
      " 0   CatBMI            229655 non-null  int64\n",
      " 1   Stroke            229655 non-null  int64\n",
      " 2   HeartDis          229655 non-null  int64\n",
      " 3   PhysExer          229655 non-null  int64\n",
      " 4   HealthIns         229655 non-null  int64\n",
      " 5   NoMedCost         229655 non-null  int64\n",
      " 6   GenHealth         229655 non-null  int64\n",
      " 7   CogDiff           229655 non-null  int64\n",
      " 8   Depression        229655 non-null  int64\n",
      " 9   PhysHlth          229655 non-null  int64\n",
      " 10  WalkDiff          229655 non-null  int64\n",
      " 11  Gender            229655 non-null  int64\n",
      " 12  AgeRange          229655 non-null  int64\n",
      " 13  EdLevel           229655 non-null  int64\n",
      " 14  SocClass          229655 non-null  int64\n",
      " 15  UrologyDz         229655 non-null  int64\n",
      " 16  VisionDiff        229655 non-null  int64\n",
      " 17  Asthma            229655 non-null  int64\n",
      " 18  LungDiseases      229655 non-null  int64\n",
      " 19  Arthritis         229655 non-null  int64\n",
      " 20  SmokerTrad        229655 non-null  int64\n",
      " 21  ECigSmok          229655 non-null  int64\n",
      " 22  AlcDrinker        229655 non-null  int64\n",
      " 23  Race              229655 non-null  int64\n",
      " 24  MaritalSt         229655 non-null  int64\n",
      " 25  LastMedChk        229655 non-null  int64\n",
      " 26  HighBP            229655 non-null  int64\n",
      " 27  HighChol          229655 non-null  int64\n",
      " 28  FruitAndVegCon    229655 non-null  int64\n",
      " 29  SupGrPreDiabetes  229655 non-null  int64\n",
      "dtypes: int64(30)\n",
      "memory usage: 52.6 MB\n"
     ]
    }
   ],
   "source": [
    "dfDiabetes.info()"
   ]
  },
  {
   "cell_type": "code",
   "execution_count": 14,
   "metadata": {},
   "outputs": [
    {
     "data": {
      "text/plain": [
       "SupGrPreDiabetes    1.000000\n",
       "HighBP              0.263572\n",
       "WalkDiff            0.212205\n",
       "HighChol            0.207535\n",
       "HeartDis            0.171213\n",
       "UrologyDz           0.153237\n",
       "SocClass            0.142661\n",
       "Arthritis           0.132432\n",
       "LastMedChk          0.127680\n",
       "EdLevel             0.108239\n",
       "LungDiseases        0.101177\n",
       "Stroke              0.098698\n",
       "VisionDiff          0.094550\n",
       "AlcDrinker          0.086821\n",
       "CogDiff             0.075709\n",
       "Depression          0.052008\n",
       "SmokerTrad          0.038260\n",
       "Gender              0.032266\n",
       "HealthIns           0.023001\n",
       "ECigSmok            0.021186\n",
       "NoMedCost           0.018210\n",
       "MaritalSt           0.007762\n",
       "Race               -0.034126\n",
       "FruitAndVegCon     -0.046565\n",
       "Asthma             -0.049569\n",
       "PhysHlth           -0.146570\n",
       "PhysExer           -0.147603\n",
       "CatBMI             -0.190952\n",
       "AgeRange           -0.198577\n",
       "GenHealth          -0.235988\n",
       "dtype: float64"
      ]
     },
     "execution_count": 14,
     "metadata": {},
     "output_type": "execute_result"
    }
   ],
   "source": [
    "# Correlacion de los campos restantes con SupGrPreDiabetes\n",
    "dfDiabetes.corrwith(dfDiabetes['SupGrPreDiabetes']).sort_values(ascending=False)"
   ]
  },
  {
   "cell_type": "code",
   "execution_count": 15,
   "metadata": {},
   "outputs": [],
   "source": [
    "# Descarte de las características que tienen una correlacion de menos abs(0,03): HealthIns,ECigSmok,NoMedCost,MaritalSt\n",
    "columns_to_drop = ['HealthIns','ECigSmok','NoMedCost','MaritalSt']\n",
    "dfDiabetes = dfDiabetes.drop(columns_to_drop, axis=1)"
   ]
  },
  {
   "cell_type": "code",
   "execution_count": 16,
   "metadata": {},
   "outputs": [
    {
     "name": "stdout",
     "output_type": "stream",
     "text": [
      "<class 'pandas.core.frame.DataFrame'>\n",
      "RangeIndex: 229655 entries, 0 to 229654\n",
      "Data columns (total 26 columns):\n",
      " #   Column            Non-Null Count   Dtype\n",
      "---  ------            --------------   -----\n",
      " 0   CatBMI            229655 non-null  int64\n",
      " 1   Stroke            229655 non-null  int64\n",
      " 2   HeartDis          229655 non-null  int64\n",
      " 3   PhysExer          229655 non-null  int64\n",
      " 4   GenHealth         229655 non-null  int64\n",
      " 5   CogDiff           229655 non-null  int64\n",
      " 6   Depression        229655 non-null  int64\n",
      " 7   PhysHlth          229655 non-null  int64\n",
      " 8   WalkDiff          229655 non-null  int64\n",
      " 9   Gender            229655 non-null  int64\n",
      " 10  AgeRange          229655 non-null  int64\n",
      " 11  EdLevel           229655 non-null  int64\n",
      " 12  SocClass          229655 non-null  int64\n",
      " 13  UrologyDz         229655 non-null  int64\n",
      " 14  VisionDiff        229655 non-null  int64\n",
      " 15  Asthma            229655 non-null  int64\n",
      " 16  LungDiseases      229655 non-null  int64\n",
      " 17  Arthritis         229655 non-null  int64\n",
      " 18  SmokerTrad        229655 non-null  int64\n",
      " 19  AlcDrinker        229655 non-null  int64\n",
      " 20  Race              229655 non-null  int64\n",
      " 21  LastMedChk        229655 non-null  int64\n",
      " 22  HighBP            229655 non-null  int64\n",
      " 23  HighChol          229655 non-null  int64\n",
      " 24  FruitAndVegCon    229655 non-null  int64\n",
      " 25  SupGrPreDiabetes  229655 non-null  int64\n",
      "dtypes: int64(26)\n",
      "memory usage: 45.6 MB\n"
     ]
    }
   ],
   "source": [
    "dfDiabetes.info()"
   ]
  },
  {
   "cell_type": "code",
   "execution_count": 17,
   "metadata": {},
   "outputs": [
    {
     "data": {
      "text/plain": [
       "Index(['CatBMI', 'Stroke', 'HeartDis', 'PhysExer', 'GenHealth', 'CogDiff',\n",
       "       'Depression', 'PhysHlth', 'WalkDiff', 'Gender', 'AgeRange', 'EdLevel',\n",
       "       'SocClass', 'UrologyDz', 'VisionDiff', 'Asthma', 'LungDiseases',\n",
       "       'Arthritis', 'SmokerTrad', 'AlcDrinker', 'Race', 'LastMedChk', 'HighBP',\n",
       "       'HighChol', 'FruitAndVegCon', 'SupGrPreDiabetes'],\n",
       "      dtype='object')"
      ]
     },
     "execution_count": 17,
     "metadata": {},
     "output_type": "execute_result"
    }
   ],
   "source": [
    "dfDiabetes.columns"
   ]
  },
  {
   "cell_type": "markdown",
   "metadata": {},
   "source": [
    "# Selección de mejores características restantes con Random Forest, con el hiperparámetro class_weight='balanced'"
   ]
  },
  {
   "cell_type": "code",
   "execution_count": 18,
   "metadata": {},
   "outputs": [],
   "source": [
    "# Se obtienen los datasets de entrenamiento (train), validación (val) y pruebas (test)\n",
    "train_set, test_set = train_test_split(dfDiabetes, test_size=0.4, random_state=14, shuffle=True, stratify=dfDiabetes['SupGrPreDiabetes'])\n",
    "val_set, test_set = train_test_split(test_set, test_size=0.5, random_state=14, shuffle=True, stratify=test_set['SupGrPreDiabetes'])\n",
    "\n",
    "X_train = train_set.drop('SupGrPreDiabetes', axis=1)\n",
    "y_train = train_set['SupGrPreDiabetes'].copy()\n",
    "\n",
    "X_val = val_set.drop('SupGrPreDiabetes', axis=1)\n",
    "y_val = val_set['SupGrPreDiabetes'].copy()\n",
    "\n",
    "X_test = test_set.drop('SupGrPreDiabetes', axis=1)\n",
    "y_test = test_set['SupGrPreDiabetes'].copy()"
   ]
  },
  {
   "cell_type": "code",
   "execution_count": 19,
   "metadata": {},
   "outputs": [
    {
     "name": "stdout",
     "output_type": "stream",
     "text": [
      "Logintud del Training set: 137793\n",
      "Logintud del Validation set: 45931\n",
      "Logintud del Test set: 45931\n"
     ]
    }
   ],
   "source": [
    "print(\"Logintud del Training set:\", len(train_set))\n",
    "print(\"Logintud del Validation set:\", len(val_set))\n",
    "print(\"Logintud del Test set:\", len(test_set))"
   ]
  },
  {
   "cell_type": "code",
   "execution_count": 20,
   "metadata": {},
   "outputs": [
    {
     "data": {
      "text/html": [
       "<style>#sk-container-id-1 {color: black;}#sk-container-id-1 pre{padding: 0;}#sk-container-id-1 div.sk-toggleable {background-color: white;}#sk-container-id-1 label.sk-toggleable__label {cursor: pointer;display: block;width: 100%;margin-bottom: 0;padding: 0.3em;box-sizing: border-box;text-align: center;}#sk-container-id-1 label.sk-toggleable__label-arrow:before {content: \"▸\";float: left;margin-right: 0.25em;color: #696969;}#sk-container-id-1 label.sk-toggleable__label-arrow:hover:before {color: black;}#sk-container-id-1 div.sk-estimator:hover label.sk-toggleable__label-arrow:before {color: black;}#sk-container-id-1 div.sk-toggleable__content {max-height: 0;max-width: 0;overflow: hidden;text-align: left;background-color: #f0f8ff;}#sk-container-id-1 div.sk-toggleable__content pre {margin: 0.2em;color: black;border-radius: 0.25em;background-color: #f0f8ff;}#sk-container-id-1 input.sk-toggleable__control:checked~div.sk-toggleable__content {max-height: 200px;max-width: 100%;overflow: auto;}#sk-container-id-1 input.sk-toggleable__control:checked~label.sk-toggleable__label-arrow:before {content: \"▾\";}#sk-container-id-1 div.sk-estimator input.sk-toggleable__control:checked~label.sk-toggleable__label {background-color: #d4ebff;}#sk-container-id-1 div.sk-label input.sk-toggleable__control:checked~label.sk-toggleable__label {background-color: #d4ebff;}#sk-container-id-1 input.sk-hidden--visually {border: 0;clip: rect(1px 1px 1px 1px);clip: rect(1px, 1px, 1px, 1px);height: 1px;margin: -1px;overflow: hidden;padding: 0;position: absolute;width: 1px;}#sk-container-id-1 div.sk-estimator {font-family: monospace;background-color: #f0f8ff;border: 1px dotted black;border-radius: 0.25em;box-sizing: border-box;margin-bottom: 0.5em;}#sk-container-id-1 div.sk-estimator:hover {background-color: #d4ebff;}#sk-container-id-1 div.sk-parallel-item::after {content: \"\";width: 100%;border-bottom: 1px solid gray;flex-grow: 1;}#sk-container-id-1 div.sk-label:hover label.sk-toggleable__label {background-color: #d4ebff;}#sk-container-id-1 div.sk-serial::before {content: \"\";position: absolute;border-left: 1px solid gray;box-sizing: border-box;top: 0;bottom: 0;left: 50%;z-index: 0;}#sk-container-id-1 div.sk-serial {display: flex;flex-direction: column;align-items: center;background-color: white;padding-right: 0.2em;padding-left: 0.2em;position: relative;}#sk-container-id-1 div.sk-item {position: relative;z-index: 1;}#sk-container-id-1 div.sk-parallel {display: flex;align-items: stretch;justify-content: center;background-color: white;position: relative;}#sk-container-id-1 div.sk-item::before, #sk-container-id-1 div.sk-parallel-item::before {content: \"\";position: absolute;border-left: 1px solid gray;box-sizing: border-box;top: 0;bottom: 0;left: 50%;z-index: -1;}#sk-container-id-1 div.sk-parallel-item {display: flex;flex-direction: column;z-index: 1;position: relative;background-color: white;}#sk-container-id-1 div.sk-parallel-item:first-child::after {align-self: flex-end;width: 50%;}#sk-container-id-1 div.sk-parallel-item:last-child::after {align-self: flex-start;width: 50%;}#sk-container-id-1 div.sk-parallel-item:only-child::after {width: 0;}#sk-container-id-1 div.sk-dashed-wrapped {border: 1px dashed gray;margin: 0 0.4em 0.5em 0.4em;box-sizing: border-box;padding-bottom: 0.4em;background-color: white;}#sk-container-id-1 div.sk-label label {font-family: monospace;font-weight: bold;display: inline-block;line-height: 1.2em;}#sk-container-id-1 div.sk-label-container {text-align: center;}#sk-container-id-1 div.sk-container {/* jupyter's `normalize.less` sets `[hidden] { display: none; }` but bootstrap.min.css set `[hidden] { display: none !important; }` so we also need the `!important` here to be able to override the default hidden behavior on the sphinx rendered scikit-learn.org. See: https://github.com/scikit-learn/scikit-learn/issues/21755 */display: inline-block !important;position: relative;}#sk-container-id-1 div.sk-text-repr-fallback {display: none;}</style><div id=\"sk-container-id-1\" class=\"sk-top-container\"><div class=\"sk-text-repr-fallback\"><pre>RandomForestClassifier(class_weight=&#x27;balanced&#x27;, n_estimators=50, n_jobs=-1,\n",
       "                       random_state=14)</pre><b>In a Jupyter environment, please rerun this cell to show the HTML representation or trust the notebook. <br />On GitHub, the HTML representation is unable to render, please try loading this page with nbviewer.org.</b></div><div class=\"sk-container\" hidden><div class=\"sk-item\"><div class=\"sk-estimator sk-toggleable\"><input class=\"sk-toggleable__control sk-hidden--visually\" id=\"sk-estimator-id-1\" type=\"checkbox\" checked><label for=\"sk-estimator-id-1\" class=\"sk-toggleable__label sk-toggleable__label-arrow\">RandomForestClassifier</label><div class=\"sk-toggleable__content\"><pre>RandomForestClassifier(class_weight=&#x27;balanced&#x27;, n_estimators=50, n_jobs=-1,\n",
       "                       random_state=14)</pre></div></div></div></div></div>"
      ],
      "text/plain": [
       "RandomForestClassifier(class_weight='balanced', n_estimators=50, n_jobs=-1,\n",
       "                       random_state=14)"
      ]
     },
     "execution_count": 20,
     "metadata": {},
     "output_type": "execute_result"
    }
   ],
   "source": [
    "# Obtención del modelo Random Forest\n",
    "model = RandomForestClassifier(n_estimators=50, class_weight='balanced', random_state=14, n_jobs=-1)\n",
    "model.fit(X_train, y_train)"
   ]
  },
  {
   "cell_type": "code",
   "execution_count": 21,
   "metadata": {},
   "outputs": [
    {
     "name": "stdout",
     "output_type": "stream",
     "text": [
      "F1 score: 0.793\n"
     ]
    }
   ],
   "source": [
    "#Predecimos con el el conjunto de validación\n",
    "y_pred = model.predict(X_val)\n",
    "print(\"F1 score: {:.3f}\".format(f1_score(y_val, y_pred, average='weighted')))"
   ]
  },
  {
   "cell_type": "code",
   "execution_count": 22,
   "metadata": {},
   "outputs": [
    {
     "data": {
      "text/plain": [
       "array([0.06541853, 0.01283187, 0.01940388, 0.02822424, 0.03986888,\n",
       "       0.01767451, 0.0305416 , 0.0541982 , 0.03216266, 0.03429124,\n",
       "       0.09663935, 0.07703859, 0.0485551 , 0.01292974, 0.01328406,\n",
       "       0.02651281, 0.01752341, 0.03714703, 0.06761441, 0.01846766,\n",
       "       0.04928131, 0.03242232, 0.07941959, 0.04605243, 0.04249657])"
      ]
     },
     "execution_count": 22,
     "metadata": {},
     "output_type": "execute_result"
    }
   ],
   "source": [
    "# Consulta de la importancia de las características según el modelo Random Forest\n",
    "model.feature_importances_"
   ]
  },
  {
   "cell_type": "code",
   "execution_count": 23,
   "metadata": {},
   "outputs": [
    {
     "data": {
      "text/plain": [
       "AgeRange          0.096639\n",
       "HighBP            0.079420\n",
       "EdLevel           0.077039\n",
       "SmokerTrad        0.067614\n",
       "CatBMI            0.065419\n",
       "PhysHlth          0.054198\n",
       "Race              0.049281\n",
       "SocClass          0.048555\n",
       "HighChol          0.046052\n",
       "FruitAndVegCon    0.042497\n",
       "GenHealth         0.039869\n",
       "Arthritis         0.037147\n",
       "Gender            0.034291\n",
       "LastMedChk        0.032422\n",
       "WalkDiff          0.032163\n",
       "Depression        0.030542\n",
       "PhysExer          0.028224\n",
       "Asthma            0.026513\n",
       "HeartDis          0.019404\n",
       "AlcDrinker        0.018468\n",
       "CogDiff           0.017675\n",
       "LungDiseases      0.017523\n",
       "VisionDiff        0.013284\n",
       "UrologyDz         0.012930\n",
       "Stroke            0.012832\n",
       "dtype: float64"
      ]
     },
     "execution_count": 23,
     "metadata": {},
     "output_type": "execute_result"
    }
   ],
   "source": [
    "# Clasificación de las características por orden de importancia según el modelo Random Forest.\n",
    "# Para ello se dan los siguientes pasos:\n",
    "# 1. Crear un diccionario de importancias de características\n",
    "diccImportances = dict(zip(dfDiabetes.columns, model.feature_importances_))\n",
    "# 2. Convertir el diccionario a una serie de pandas y ordenar los valores en orden descendente\n",
    "serieImportancesSorted = pd.Series(diccImportances).sort_values(ascending=False)\n",
    "# 3. Mostrar las 25 características por orden de importancia\n",
    "serieImportancesSorted.head(25)"
   ]
  },
  {
   "cell_type": "code",
   "execution_count": 24,
   "metadata": {},
   "outputs": [],
   "source": [
    "# Estudio de las caracteristicas con mas relevancia para el algoritmo basado en la métrica F1 Score\n",
    "# 25 características: F1 score: 0.795\n",
    "# 24 características: F1 score: 0.793\n",
    "# 23 características: F1 score: 0.792\n",
    "# 22 características: F1 score: 0.792  \n",
    "# 21 características: F1 score: 0.790 (Ganadora, eliminamos cuatro características LungDiseases, VisionDiff, UrologyDZ,Stroke)\n",
    "columns = list(serieImportancesSorted.head(21).index)"
   ]
  },
  {
   "cell_type": "code",
   "execution_count": 25,
   "metadata": {},
   "outputs": [
    {
     "data": {
      "text/plain": [
       "['AgeRange',\n",
       " 'HighBP',\n",
       " 'EdLevel',\n",
       " 'SmokerTrad',\n",
       " 'CatBMI',\n",
       " 'PhysHlth',\n",
       " 'Race',\n",
       " 'SocClass',\n",
       " 'HighChol',\n",
       " 'FruitAndVegCon',\n",
       " 'GenHealth',\n",
       " 'Arthritis',\n",
       " 'Gender',\n",
       " 'LastMedChk',\n",
       " 'WalkDiff',\n",
       " 'Depression',\n",
       " 'PhysExer',\n",
       " 'Asthma',\n",
       " 'HeartDis',\n",
       " 'AlcDrinker',\n",
       " 'CogDiff']"
      ]
     },
     "execution_count": 25,
     "metadata": {},
     "output_type": "execute_result"
    }
   ],
   "source": [
    "columns"
   ]
  },
  {
   "cell_type": "code",
   "execution_count": 26,
   "metadata": {},
   "outputs": [],
   "source": [
    "X_train_reduced = X_train[columns].copy()\n",
    "X_val_reduced = X_val[columns].copy()"
   ]
  },
  {
   "cell_type": "code",
   "execution_count": 27,
   "metadata": {},
   "outputs": [
    {
     "data": {
      "text/html": [
       "<div>\n",
       "<style scoped>\n",
       "    .dataframe tbody tr th:only-of-type {\n",
       "        vertical-align: middle;\n",
       "    }\n",
       "\n",
       "    .dataframe tbody tr th {\n",
       "        vertical-align: top;\n",
       "    }\n",
       "\n",
       "    .dataframe thead th {\n",
       "        text-align: right;\n",
       "    }\n",
       "</style>\n",
       "<table border=\"1\" class=\"dataframe\">\n",
       "  <thead>\n",
       "    <tr style=\"text-align: right;\">\n",
       "      <th></th>\n",
       "      <th>AgeRange</th>\n",
       "      <th>HighBP</th>\n",
       "      <th>EdLevel</th>\n",
       "      <th>SmokerTrad</th>\n",
       "      <th>CatBMI</th>\n",
       "      <th>PhysHlth</th>\n",
       "      <th>Race</th>\n",
       "      <th>SocClass</th>\n",
       "      <th>HighChol</th>\n",
       "      <th>FruitAndVegCon</th>\n",
       "      <th>...</th>\n",
       "      <th>Arthritis</th>\n",
       "      <th>Gender</th>\n",
       "      <th>LastMedChk</th>\n",
       "      <th>WalkDiff</th>\n",
       "      <th>Depression</th>\n",
       "      <th>PhysExer</th>\n",
       "      <th>Asthma</th>\n",
       "      <th>HeartDis</th>\n",
       "      <th>AlcDrinker</th>\n",
       "      <th>CogDiff</th>\n",
       "    </tr>\n",
       "  </thead>\n",
       "  <tbody>\n",
       "    <tr>\n",
       "      <th>223462</th>\n",
       "      <td>5</td>\n",
       "      <td>1</td>\n",
       "      <td>4</td>\n",
       "      <td>4</td>\n",
       "      <td>4</td>\n",
       "      <td>2</td>\n",
       "      <td>1</td>\n",
       "      <td>1</td>\n",
       "      <td>1</td>\n",
       "      <td>1</td>\n",
       "      <td>...</td>\n",
       "      <td>1</td>\n",
       "      <td>2</td>\n",
       "      <td>1</td>\n",
       "      <td>1</td>\n",
       "      <td>2</td>\n",
       "      <td>2</td>\n",
       "      <td>1</td>\n",
       "      <td>2</td>\n",
       "      <td>1</td>\n",
       "      <td>2</td>\n",
       "    </tr>\n",
       "    <tr>\n",
       "      <th>41003</th>\n",
       "      <td>6</td>\n",
       "      <td>1</td>\n",
       "      <td>4</td>\n",
       "      <td>4</td>\n",
       "      <td>2</td>\n",
       "      <td>1</td>\n",
       "      <td>1</td>\n",
       "      <td>2</td>\n",
       "      <td>1</td>\n",
       "      <td>1</td>\n",
       "      <td>...</td>\n",
       "      <td>2</td>\n",
       "      <td>1</td>\n",
       "      <td>1</td>\n",
       "      <td>2</td>\n",
       "      <td>2</td>\n",
       "      <td>1</td>\n",
       "      <td>1</td>\n",
       "      <td>2</td>\n",
       "      <td>1</td>\n",
       "      <td>2</td>\n",
       "    </tr>\n",
       "    <tr>\n",
       "      <th>111129</th>\n",
       "      <td>2</td>\n",
       "      <td>2</td>\n",
       "      <td>3</td>\n",
       "      <td>4</td>\n",
       "      <td>4</td>\n",
       "      <td>2</td>\n",
       "      <td>1</td>\n",
       "      <td>2</td>\n",
       "      <td>2</td>\n",
       "      <td>2</td>\n",
       "      <td>...</td>\n",
       "      <td>2</td>\n",
       "      <td>1</td>\n",
       "      <td>3</td>\n",
       "      <td>2</td>\n",
       "      <td>2</td>\n",
       "      <td>1</td>\n",
       "      <td>1</td>\n",
       "      <td>2</td>\n",
       "      <td>2</td>\n",
       "      <td>2</td>\n",
       "    </tr>\n",
       "    <tr>\n",
       "      <th>80678</th>\n",
       "      <td>6</td>\n",
       "      <td>1</td>\n",
       "      <td>4</td>\n",
       "      <td>4</td>\n",
       "      <td>2</td>\n",
       "      <td>1</td>\n",
       "      <td>3</td>\n",
       "      <td>2</td>\n",
       "      <td>1</td>\n",
       "      <td>1</td>\n",
       "      <td>...</td>\n",
       "      <td>2</td>\n",
       "      <td>1</td>\n",
       "      <td>1</td>\n",
       "      <td>2</td>\n",
       "      <td>2</td>\n",
       "      <td>1</td>\n",
       "      <td>1</td>\n",
       "      <td>2</td>\n",
       "      <td>1</td>\n",
       "      <td>2</td>\n",
       "    </tr>\n",
       "    <tr>\n",
       "      <th>137425</th>\n",
       "      <td>6</td>\n",
       "      <td>1</td>\n",
       "      <td>4</td>\n",
       "      <td>3</td>\n",
       "      <td>2</td>\n",
       "      <td>2</td>\n",
       "      <td>1</td>\n",
       "      <td>2</td>\n",
       "      <td>2</td>\n",
       "      <td>1</td>\n",
       "      <td>...</td>\n",
       "      <td>1</td>\n",
       "      <td>2</td>\n",
       "      <td>1</td>\n",
       "      <td>2</td>\n",
       "      <td>2</td>\n",
       "      <td>1</td>\n",
       "      <td>2</td>\n",
       "      <td>2</td>\n",
       "      <td>2</td>\n",
       "      <td>2</td>\n",
       "    </tr>\n",
       "  </tbody>\n",
       "</table>\n",
       "<p>5 rows × 21 columns</p>\n",
       "</div>"
      ],
      "text/plain": [
       "        AgeRange  HighBP  EdLevel  SmokerTrad  CatBMI  PhysHlth  Race  \\\n",
       "223462         5       1        4           4       4         2     1   \n",
       "41003          6       1        4           4       2         1     1   \n",
       "111129         2       2        3           4       4         2     1   \n",
       "80678          6       1        4           4       2         1     3   \n",
       "137425         6       1        4           3       2         2     1   \n",
       "\n",
       "        SocClass  HighChol  FruitAndVegCon  ...  Arthritis  Gender  \\\n",
       "223462         1         1               1  ...          1       2   \n",
       "41003          2         1               1  ...          2       1   \n",
       "111129         2         2               2  ...          2       1   \n",
       "80678          2         1               1  ...          2       1   \n",
       "137425         2         2               1  ...          1       2   \n",
       "\n",
       "        LastMedChk  WalkDiff  Depression  PhysExer  Asthma  HeartDis  \\\n",
       "223462           1         1           2         2       1         2   \n",
       "41003            1         2           2         1       1         2   \n",
       "111129           3         2           2         1       1         2   \n",
       "80678            1         2           2         1       1         2   \n",
       "137425           1         2           2         1       2         2   \n",
       "\n",
       "        AlcDrinker  CogDiff  \n",
       "223462           1        2  \n",
       "41003            1        2  \n",
       "111129           2        2  \n",
       "80678            1        2  \n",
       "137425           2        2  \n",
       "\n",
       "[5 rows x 21 columns]"
      ]
     },
     "execution_count": 27,
     "metadata": {},
     "output_type": "execute_result"
    }
   ],
   "source": [
    "X_train_reduced.head()"
   ]
  },
  {
   "cell_type": "code",
   "execution_count": 28,
   "metadata": {},
   "outputs": [
    {
     "data": {
      "text/html": [
       "<style>#sk-container-id-2 {color: black;}#sk-container-id-2 pre{padding: 0;}#sk-container-id-2 div.sk-toggleable {background-color: white;}#sk-container-id-2 label.sk-toggleable__label {cursor: pointer;display: block;width: 100%;margin-bottom: 0;padding: 0.3em;box-sizing: border-box;text-align: center;}#sk-container-id-2 label.sk-toggleable__label-arrow:before {content: \"▸\";float: left;margin-right: 0.25em;color: #696969;}#sk-container-id-2 label.sk-toggleable__label-arrow:hover:before {color: black;}#sk-container-id-2 div.sk-estimator:hover label.sk-toggleable__label-arrow:before {color: black;}#sk-container-id-2 div.sk-toggleable__content {max-height: 0;max-width: 0;overflow: hidden;text-align: left;background-color: #f0f8ff;}#sk-container-id-2 div.sk-toggleable__content pre {margin: 0.2em;color: black;border-radius: 0.25em;background-color: #f0f8ff;}#sk-container-id-2 input.sk-toggleable__control:checked~div.sk-toggleable__content {max-height: 200px;max-width: 100%;overflow: auto;}#sk-container-id-2 input.sk-toggleable__control:checked~label.sk-toggleable__label-arrow:before {content: \"▾\";}#sk-container-id-2 div.sk-estimator input.sk-toggleable__control:checked~label.sk-toggleable__label {background-color: #d4ebff;}#sk-container-id-2 div.sk-label input.sk-toggleable__control:checked~label.sk-toggleable__label {background-color: #d4ebff;}#sk-container-id-2 input.sk-hidden--visually {border: 0;clip: rect(1px 1px 1px 1px);clip: rect(1px, 1px, 1px, 1px);height: 1px;margin: -1px;overflow: hidden;padding: 0;position: absolute;width: 1px;}#sk-container-id-2 div.sk-estimator {font-family: monospace;background-color: #f0f8ff;border: 1px dotted black;border-radius: 0.25em;box-sizing: border-box;margin-bottom: 0.5em;}#sk-container-id-2 div.sk-estimator:hover {background-color: #d4ebff;}#sk-container-id-2 div.sk-parallel-item::after {content: \"\";width: 100%;border-bottom: 1px solid gray;flex-grow: 1;}#sk-container-id-2 div.sk-label:hover label.sk-toggleable__label {background-color: #d4ebff;}#sk-container-id-2 div.sk-serial::before {content: \"\";position: absolute;border-left: 1px solid gray;box-sizing: border-box;top: 0;bottom: 0;left: 50%;z-index: 0;}#sk-container-id-2 div.sk-serial {display: flex;flex-direction: column;align-items: center;background-color: white;padding-right: 0.2em;padding-left: 0.2em;position: relative;}#sk-container-id-2 div.sk-item {position: relative;z-index: 1;}#sk-container-id-2 div.sk-parallel {display: flex;align-items: stretch;justify-content: center;background-color: white;position: relative;}#sk-container-id-2 div.sk-item::before, #sk-container-id-2 div.sk-parallel-item::before {content: \"\";position: absolute;border-left: 1px solid gray;box-sizing: border-box;top: 0;bottom: 0;left: 50%;z-index: -1;}#sk-container-id-2 div.sk-parallel-item {display: flex;flex-direction: column;z-index: 1;position: relative;background-color: white;}#sk-container-id-2 div.sk-parallel-item:first-child::after {align-self: flex-end;width: 50%;}#sk-container-id-2 div.sk-parallel-item:last-child::after {align-self: flex-start;width: 50%;}#sk-container-id-2 div.sk-parallel-item:only-child::after {width: 0;}#sk-container-id-2 div.sk-dashed-wrapped {border: 1px dashed gray;margin: 0 0.4em 0.5em 0.4em;box-sizing: border-box;padding-bottom: 0.4em;background-color: white;}#sk-container-id-2 div.sk-label label {font-family: monospace;font-weight: bold;display: inline-block;line-height: 1.2em;}#sk-container-id-2 div.sk-label-container {text-align: center;}#sk-container-id-2 div.sk-container {/* jupyter's `normalize.less` sets `[hidden] { display: none; }` but bootstrap.min.css set `[hidden] { display: none !important; }` so we also need the `!important` here to be able to override the default hidden behavior on the sphinx rendered scikit-learn.org. See: https://github.com/scikit-learn/scikit-learn/issues/21755 */display: inline-block !important;position: relative;}#sk-container-id-2 div.sk-text-repr-fallback {display: none;}</style><div id=\"sk-container-id-2\" class=\"sk-top-container\"><div class=\"sk-text-repr-fallback\"><pre>RandomForestClassifier(class_weight=&#x27;balanced&#x27;, n_estimators=50, n_jobs=-1,\n",
       "                       random_state=14)</pre><b>In a Jupyter environment, please rerun this cell to show the HTML representation or trust the notebook. <br />On GitHub, the HTML representation is unable to render, please try loading this page with nbviewer.org.</b></div><div class=\"sk-container\" hidden><div class=\"sk-item\"><div class=\"sk-estimator sk-toggleable\"><input class=\"sk-toggleable__control sk-hidden--visually\" id=\"sk-estimator-id-2\" type=\"checkbox\" checked><label for=\"sk-estimator-id-2\" class=\"sk-toggleable__label sk-toggleable__label-arrow\">RandomForestClassifier</label><div class=\"sk-toggleable__content\"><pre>RandomForestClassifier(class_weight=&#x27;balanced&#x27;, n_estimators=50, n_jobs=-1,\n",
       "                       random_state=14)</pre></div></div></div></div></div>"
      ],
      "text/plain": [
       "RandomForestClassifier(class_weight='balanced', n_estimators=50, n_jobs=-1,\n",
       "                       random_state=14)"
      ]
     },
     "execution_count": 28,
     "metadata": {},
     "output_type": "execute_result"
    }
   ],
   "source": [
    "# Obtención del modelo\n",
    "model = RandomForestClassifier(n_estimators=50, class_weight='balanced', random_state=14, n_jobs=-1)\n",
    "model.fit(X_train_reduced, y_train)"
   ]
  },
  {
   "cell_type": "code",
   "execution_count": 29,
   "metadata": {},
   "outputs": [
    {
     "name": "stdout",
     "output_type": "stream",
     "text": [
      "F1 score: 0.793\n"
     ]
    }
   ],
   "source": [
    "# Predecimos con el conjunto de datos de validación\n",
    "y_pred = model.predict(X_val_reduced)\n",
    "print(\"F1 score: {:.3f}\".format(f1_score(y_val, y_pred, average='weighted')))"
   ]
  },
  {
   "cell_type": "code",
   "execution_count": 30,
   "metadata": {},
   "outputs": [],
   "source": [
    "X_test_reduced = X_test[columns].copy()"
   ]
  },
  {
   "cell_type": "code",
   "execution_count": 31,
   "metadata": {},
   "outputs": [
    {
     "name": "stdout",
     "output_type": "stream",
     "text": [
      "<class 'pandas.core.frame.DataFrame'>\n",
      "Int64Index: 45931 entries, 214261 to 227011\n",
      "Data columns (total 21 columns):\n",
      " #   Column          Non-Null Count  Dtype\n",
      "---  ------          --------------  -----\n",
      " 0   AgeRange        45931 non-null  int64\n",
      " 1   HighBP          45931 non-null  int64\n",
      " 2   EdLevel         45931 non-null  int64\n",
      " 3   SmokerTrad      45931 non-null  int64\n",
      " 4   CatBMI          45931 non-null  int64\n",
      " 5   PhysHlth        45931 non-null  int64\n",
      " 6   Race            45931 non-null  int64\n",
      " 7   SocClass        45931 non-null  int64\n",
      " 8   HighChol        45931 non-null  int64\n",
      " 9   FruitAndVegCon  45931 non-null  int64\n",
      " 10  GenHealth       45931 non-null  int64\n",
      " 11  Arthritis       45931 non-null  int64\n",
      " 12  Gender          45931 non-null  int64\n",
      " 13  LastMedChk      45931 non-null  int64\n",
      " 14  WalkDiff        45931 non-null  int64\n",
      " 15  Depression      45931 non-null  int64\n",
      " 16  PhysExer        45931 non-null  int64\n",
      " 17  Asthma          45931 non-null  int64\n",
      " 18  HeartDis        45931 non-null  int64\n",
      " 19  AlcDrinker      45931 non-null  int64\n",
      " 20  CogDiff         45931 non-null  int64\n",
      "dtypes: int64(21)\n",
      "memory usage: 7.7 MB\n"
     ]
    }
   ],
   "source": [
    "X_test_reduced.info()"
   ]
  },
  {
   "cell_type": "code",
   "execution_count": 32,
   "metadata": {},
   "outputs": [
    {
     "name": "stdout",
     "output_type": "stream",
     "text": [
      "F1 score: 0.788\n"
     ]
    }
   ],
   "source": [
    "#Predicimos para valores de test para comprobar su comportamiento con datos que no habia visto hasta ahora\n",
    "y_pred = model.predict(X_test_reduced)\n",
    "print(\"F1 score: {:.3f}\".format(f1_score(y_test, y_pred, average='weighted')))"
   ]
  },
  {
   "cell_type": "code",
   "execution_count": 33,
   "metadata": {},
   "outputs": [],
   "source": [
    "# Según el F1 score calculado, se puede dar por bueno el descarte de las características: \n",
    "# LungDiseases, VisionDiff, UrologyDZ,Stroke"
   ]
  },
  {
   "cell_type": "markdown",
   "metadata": {},
   "source": [
    "# Seleccion de mejores caracteristicas con Random Forest y SMOTE"
   ]
  },
  {
   "cell_type": "code",
   "execution_count": 34,
   "metadata": {},
   "outputs": [],
   "source": [
    "# Creación de un dataset con las columnas eliminadas por deducciones del EDA y las correlaciones, excepto las deducidas por el \n",
    "# método del ramdomforest, dejando las 25 primeras características."
   ]
  },
  {
   "cell_type": "code",
   "execution_count": 35,
   "metadata": {},
   "outputs": [],
   "source": [
    "url = 'https://github.com/AndreaCampillo/TFM_PrediDia/raw/Datasets/2021DataSet_Diabeticos_NoDiabeticos_Depurado.csv'\n",
    "dfDiabetes_load = pd.read_csv(url, sep=';')"
   ]
  },
  {
   "cell_type": "code",
   "execution_count": 36,
   "metadata": {},
   "outputs": [
    {
     "name": "stdout",
     "output_type": "stream",
     "text": [
      "<class 'pandas.core.frame.DataFrame'>\n",
      "RangeIndex: 229655 entries, 0 to 229654\n",
      "Data columns (total 45 columns):\n",
      " #   Column              Non-Null Count   Dtype\n",
      "---  ------              --------------   -----\n",
      " 0   Year                229655 non-null  int64\n",
      " 1   CatBMI              229655 non-null  int64\n",
      " 2   Stroke              229655 non-null  int64\n",
      " 3   HeartDis            229655 non-null  int64\n",
      " 4   PhysExer            229655 non-null  int64\n",
      " 5   HealthIns           229655 non-null  int64\n",
      " 6   NoMedCost           229655 non-null  int64\n",
      " 7   GenHealth           229655 non-null  int64\n",
      " 8   CogDiff             229655 non-null  int64\n",
      " 9   Depression          229655 non-null  int64\n",
      " 10  MentalHlth          229655 non-null  int64\n",
      " 11  MentalState         229655 non-null  int64\n",
      " 12  PhysHlth            229655 non-null  int64\n",
      " 13  WalkDiff            229655 non-null  int64\n",
      " 14  Gender              229655 non-null  int64\n",
      " 15  AgeRange            229655 non-null  int64\n",
      " 16  EdLevel             229655 non-null  int64\n",
      " 17  AnnIncome           229655 non-null  int64\n",
      " 18  SocClass            229655 non-null  int64\n",
      " 19  UrologyDz           229655 non-null  int64\n",
      " 20  VisionDiff          229655 non-null  int64\n",
      " 21  Asthma              229655 non-null  int64\n",
      " 22  LungDiseases        229655 non-null  int64\n",
      " 23  Arthritis           229655 non-null  int64\n",
      " 24  SmokerTrad          229655 non-null  int64\n",
      " 25  ECigSmok            229655 non-null  int64\n",
      " 26  AlcDrinker          229655 non-null  int64\n",
      " 27  Race                229655 non-null  int64\n",
      " 28  MaritalSt           229655 non-null  int64\n",
      " 29  LastMedChk          229655 non-null  int64\n",
      " 30  Awareness           229655 non-null  int64\n",
      " 31  FootIrrita          229655 non-null  int64\n",
      " 32  FecFootIrrita       229655 non-null  int64\n",
      " 33  HighBP              229655 non-null  int64\n",
      " 34  HighChol            229655 non-null  int64\n",
      " 35  FruitCons           229655 non-null  int64\n",
      " 36  VegCons             229655 non-null  int64\n",
      " 37  FruitOrVegCon       229655 non-null  int64\n",
      " 38  FruitAndVegCon      229655 non-null  int64\n",
      " 39  MarijuanaCon        229655 non-null  int64\n",
      " 40  SleepHours          229655 non-null  int64\n",
      " 41  BrDiabetes          229655 non-null  int64\n",
      " 42  GrDiabetes          229655 non-null  int64\n",
      " 43  SupGrPreDiabetes    229655 non-null  int64\n",
      " 44  SupGrNoPreDiabetes  229655 non-null  int64\n",
      "dtypes: int64(45)\n",
      "memory usage: 78.8 MB\n"
     ]
    }
   ],
   "source": [
    "dfDiabetes_load.info()"
   ]
  },
  {
   "cell_type": "code",
   "execution_count": 37,
   "metadata": {},
   "outputs": [
    {
     "name": "stdout",
     "output_type": "stream",
     "text": [
      "Index(['Year', 'CatBMI', 'Stroke', 'HeartDis', 'PhysExer', 'HealthIns',\n",
      "       'NoMedCost', 'GenHealth', 'CogDiff', 'Depression', 'MentalHlth',\n",
      "       'MentalState', 'PhysHlth', 'WalkDiff', 'Gender', 'AgeRange', 'EdLevel',\n",
      "       'AnnIncome', 'SocClass', 'UrologyDz', 'VisionDiff', 'Asthma',\n",
      "       'LungDiseases', 'Arthritis', 'SmokerTrad', 'ECigSmok', 'AlcDrinker',\n",
      "       'Race', 'MaritalSt', 'LastMedChk', 'Awareness', 'FootIrrita',\n",
      "       'FecFootIrrita', 'HighBP', 'HighChol', 'FruitCons', 'VegCons',\n",
      "       'FruitOrVegCon', 'FruitAndVegCon', 'MarijuanaCon', 'SleepHours',\n",
      "       'BrDiabetes', 'GrDiabetes', 'SupGrPreDiabetes', 'SupGrNoPreDiabetes'],\n",
      "      dtype='object')\n"
     ]
    }
   ],
   "source": [
    "print(dfDiabetes_load.columns)"
   ]
  },
  {
   "cell_type": "code",
   "execution_count": 38,
   "metadata": {},
   "outputs": [],
   "source": [
    "columns = ['CatBMI', 'Stroke', 'HeartDis', 'PhysExer', 'GenHealth', \n",
    "           'CogDiff', 'Depression', 'PhysHlth', 'WalkDiff','Gender', \n",
    "           'AgeRange', 'EdLevel', 'SocClass', 'UrologyDz','VisionDiff',\n",
    "           'Asthma', 'LungDiseases','Arthritis', 'SmokerTrad', 'AlcDrinker', \n",
    "           'Race', 'LastMedChk', 'HighBP','HighChol', 'FruitAndVegCon',\n",
    "           'SupGrPreDiabetes']\n",
    "dfDiabetes = dfDiabetes_load[columns].copy()"
   ]
  },
  {
   "cell_type": "code",
   "execution_count": 39,
   "metadata": {
    "scrolled": true
   },
   "outputs": [
    {
     "name": "stdout",
     "output_type": "stream",
     "text": [
      "<class 'pandas.core.frame.DataFrame'>\n",
      "RangeIndex: 229655 entries, 0 to 229654\n",
      "Data columns (total 26 columns):\n",
      " #   Column            Non-Null Count   Dtype\n",
      "---  ------            --------------   -----\n",
      " 0   CatBMI            229655 non-null  int64\n",
      " 1   Stroke            229655 non-null  int64\n",
      " 2   HeartDis          229655 non-null  int64\n",
      " 3   PhysExer          229655 non-null  int64\n",
      " 4   GenHealth         229655 non-null  int64\n",
      " 5   CogDiff           229655 non-null  int64\n",
      " 6   Depression        229655 non-null  int64\n",
      " 7   PhysHlth          229655 non-null  int64\n",
      " 8   WalkDiff          229655 non-null  int64\n",
      " 9   Gender            229655 non-null  int64\n",
      " 10  AgeRange          229655 non-null  int64\n",
      " 11  EdLevel           229655 non-null  int64\n",
      " 12  SocClass          229655 non-null  int64\n",
      " 13  UrologyDz         229655 non-null  int64\n",
      " 14  VisionDiff        229655 non-null  int64\n",
      " 15  Asthma            229655 non-null  int64\n",
      " 16  LungDiseases      229655 non-null  int64\n",
      " 17  Arthritis         229655 non-null  int64\n",
      " 18  SmokerTrad        229655 non-null  int64\n",
      " 19  AlcDrinker        229655 non-null  int64\n",
      " 20  Race              229655 non-null  int64\n",
      " 21  LastMedChk        229655 non-null  int64\n",
      " 22  HighBP            229655 non-null  int64\n",
      " 23  HighChol          229655 non-null  int64\n",
      " 24  FruitAndVegCon    229655 non-null  int64\n",
      " 25  SupGrPreDiabetes  229655 non-null  int64\n",
      "dtypes: int64(26)\n",
      "memory usage: 45.6 MB\n"
     ]
    }
   ],
   "source": [
    "dfDiabetes.info()"
   ]
  },
  {
   "cell_type": "code",
   "execution_count": 40,
   "metadata": {},
   "outputs": [],
   "source": [
    "# Se obtienen los datasets de entrenamiento (train), validación (val) y pruebas (test)\n",
    "train_set, test_set = train_test_split(dfDiabetes, test_size=0.4, random_state=14, shuffle=True, stratify=dfDiabetes['SupGrPreDiabetes'])\n",
    "val_set, test_set = train_test_split(test_set, test_size=0.5, random_state=14, shuffle=True, stratify=test_set['SupGrPreDiabetes'])\n",
    "\n",
    "X_train = train_set.drop('SupGrPreDiabetes', axis=1)\n",
    "y_train = train_set['SupGrPreDiabetes'].copy()\n",
    "\n",
    "X_val = val_set.drop('SupGrPreDiabetes', axis=1)\n",
    "y_val = val_set['SupGrPreDiabetes'].copy()\n",
    "\n",
    "X_test = test_set.drop('SupGrPreDiabetes', axis=1)\n",
    "y_test = test_set['SupGrPreDiabetes'].copy()"
   ]
  },
  {
   "cell_type": "code",
   "execution_count": 41,
   "metadata": {},
   "outputs": [
    {
     "data": {
      "text/plain": [
       "2    38372\n",
       "1     7559\n",
       "Name: SupGrPreDiabetes, dtype: int64"
      ]
     },
     "execution_count": 41,
     "metadata": {},
     "output_type": "execute_result"
    }
   ],
   "source": [
    "y_val.value_counts()"
   ]
  },
  {
   "cell_type": "code",
   "execution_count": 42,
   "metadata": {
    "scrolled": true
   },
   "outputs": [
    {
     "name": "stdout",
     "output_type": "stream",
     "text": [
      "Logintud del Training set: 137793\n",
      "Logintud del Validation set: 45931\n",
      "Logintud del Test set: 45931\n"
     ]
    }
   ],
   "source": [
    "print(\"Logintud del Training set:\", len(train_set))\n",
    "print(\"Logintud del Validation set:\", len(val_set))\n",
    "print(\"Logintud del Test set:\", len(test_set))"
   ]
  },
  {
   "cell_type": "code",
   "execution_count": 43,
   "metadata": {
    "scrolled": true
   },
   "outputs": [],
   "source": [
    "# Obtención del dataset de entrenamiento balanceado con SMOTE\n",
    "smote = SMOTE(sampling_strategy='auto', random_state=14)  # F1 score: 0.776     \n",
    "X_train_smote, y_train_smote = smote.fit_resample(X_train, y_train)"
   ]
  },
  {
   "cell_type": "code",
   "execution_count": 44,
   "metadata": {},
   "outputs": [
    {
     "data": {
      "text/plain": [
       "2    115117\n",
       "1    115117\n",
       "Name: SupGrPreDiabetes, dtype: int64"
      ]
     },
     "execution_count": 44,
     "metadata": {},
     "output_type": "execute_result"
    }
   ],
   "source": [
    "y_train_smote.value_counts()"
   ]
  },
  {
   "cell_type": "code",
   "execution_count": 45,
   "metadata": {},
   "outputs": [
    {
     "data": {
      "text/html": [
       "<style>#sk-container-id-3 {color: black;}#sk-container-id-3 pre{padding: 0;}#sk-container-id-3 div.sk-toggleable {background-color: white;}#sk-container-id-3 label.sk-toggleable__label {cursor: pointer;display: block;width: 100%;margin-bottom: 0;padding: 0.3em;box-sizing: border-box;text-align: center;}#sk-container-id-3 label.sk-toggleable__label-arrow:before {content: \"▸\";float: left;margin-right: 0.25em;color: #696969;}#sk-container-id-3 label.sk-toggleable__label-arrow:hover:before {color: black;}#sk-container-id-3 div.sk-estimator:hover label.sk-toggleable__label-arrow:before {color: black;}#sk-container-id-3 div.sk-toggleable__content {max-height: 0;max-width: 0;overflow: hidden;text-align: left;background-color: #f0f8ff;}#sk-container-id-3 div.sk-toggleable__content pre {margin: 0.2em;color: black;border-radius: 0.25em;background-color: #f0f8ff;}#sk-container-id-3 input.sk-toggleable__control:checked~div.sk-toggleable__content {max-height: 200px;max-width: 100%;overflow: auto;}#sk-container-id-3 input.sk-toggleable__control:checked~label.sk-toggleable__label-arrow:before {content: \"▾\";}#sk-container-id-3 div.sk-estimator input.sk-toggleable__control:checked~label.sk-toggleable__label {background-color: #d4ebff;}#sk-container-id-3 div.sk-label input.sk-toggleable__control:checked~label.sk-toggleable__label {background-color: #d4ebff;}#sk-container-id-3 input.sk-hidden--visually {border: 0;clip: rect(1px 1px 1px 1px);clip: rect(1px, 1px, 1px, 1px);height: 1px;margin: -1px;overflow: hidden;padding: 0;position: absolute;width: 1px;}#sk-container-id-3 div.sk-estimator {font-family: monospace;background-color: #f0f8ff;border: 1px dotted black;border-radius: 0.25em;box-sizing: border-box;margin-bottom: 0.5em;}#sk-container-id-3 div.sk-estimator:hover {background-color: #d4ebff;}#sk-container-id-3 div.sk-parallel-item::after {content: \"\";width: 100%;border-bottom: 1px solid gray;flex-grow: 1;}#sk-container-id-3 div.sk-label:hover label.sk-toggleable__label {background-color: #d4ebff;}#sk-container-id-3 div.sk-serial::before {content: \"\";position: absolute;border-left: 1px solid gray;box-sizing: border-box;top: 0;bottom: 0;left: 50%;z-index: 0;}#sk-container-id-3 div.sk-serial {display: flex;flex-direction: column;align-items: center;background-color: white;padding-right: 0.2em;padding-left: 0.2em;position: relative;}#sk-container-id-3 div.sk-item {position: relative;z-index: 1;}#sk-container-id-3 div.sk-parallel {display: flex;align-items: stretch;justify-content: center;background-color: white;position: relative;}#sk-container-id-3 div.sk-item::before, #sk-container-id-3 div.sk-parallel-item::before {content: \"\";position: absolute;border-left: 1px solid gray;box-sizing: border-box;top: 0;bottom: 0;left: 50%;z-index: -1;}#sk-container-id-3 div.sk-parallel-item {display: flex;flex-direction: column;z-index: 1;position: relative;background-color: white;}#sk-container-id-3 div.sk-parallel-item:first-child::after {align-self: flex-end;width: 50%;}#sk-container-id-3 div.sk-parallel-item:last-child::after {align-self: flex-start;width: 50%;}#sk-container-id-3 div.sk-parallel-item:only-child::after {width: 0;}#sk-container-id-3 div.sk-dashed-wrapped {border: 1px dashed gray;margin: 0 0.4em 0.5em 0.4em;box-sizing: border-box;padding-bottom: 0.4em;background-color: white;}#sk-container-id-3 div.sk-label label {font-family: monospace;font-weight: bold;display: inline-block;line-height: 1.2em;}#sk-container-id-3 div.sk-label-container {text-align: center;}#sk-container-id-3 div.sk-container {/* jupyter's `normalize.less` sets `[hidden] { display: none; }` but bootstrap.min.css set `[hidden] { display: none !important; }` so we also need the `!important` here to be able to override the default hidden behavior on the sphinx rendered scikit-learn.org. See: https://github.com/scikit-learn/scikit-learn/issues/21755 */display: inline-block !important;position: relative;}#sk-container-id-3 div.sk-text-repr-fallback {display: none;}</style><div id=\"sk-container-id-3\" class=\"sk-top-container\"><div class=\"sk-text-repr-fallback\"><pre>RandomForestClassifier(n_estimators=50, n_jobs=-1, random_state=14)</pre><b>In a Jupyter environment, please rerun this cell to show the HTML representation or trust the notebook. <br />On GitHub, the HTML representation is unable to render, please try loading this page with nbviewer.org.</b></div><div class=\"sk-container\" hidden><div class=\"sk-item\"><div class=\"sk-estimator sk-toggleable\"><input class=\"sk-toggleable__control sk-hidden--visually\" id=\"sk-estimator-id-3\" type=\"checkbox\" checked><label for=\"sk-estimator-id-3\" class=\"sk-toggleable__label sk-toggleable__label-arrow\">RandomForestClassifier</label><div class=\"sk-toggleable__content\"><pre>RandomForestClassifier(n_estimators=50, n_jobs=-1, random_state=14)</pre></div></div></div></div></div>"
      ],
      "text/plain": [
       "RandomForestClassifier(n_estimators=50, n_jobs=-1, random_state=14)"
      ]
     },
     "execution_count": 45,
     "metadata": {},
     "output_type": "execute_result"
    }
   ],
   "source": [
    "# Obtención del modelo sin el hiperparámetro class_weight='balanced'\n",
    "model = RandomForestClassifier(n_estimators=50, random_state=14, n_jobs=-1) #En este caso sin el hiperparametro class_weight='balanced'\n",
    "model.fit(X_train_smote, y_train_smote)"
   ]
  },
  {
   "cell_type": "code",
   "execution_count": 46,
   "metadata": {},
   "outputs": [
    {
     "name": "stdout",
     "output_type": "stream",
     "text": [
      "F1 score: 0.775\n"
     ]
    }
   ],
   "source": [
    "#Predecimos con el el conjunto de validación\n",
    "y_pred = model.predict(X_val)\n",
    "print(\"F1 score: {:.3f}\".format(f1_score(y_val, y_pred, average='weighted')))"
   ]
  },
  {
   "cell_type": "code",
   "execution_count": 47,
   "metadata": {},
   "outputs": [
    {
     "data": {
      "text/plain": [
       "array([0.0550544 , 0.01257973, 0.01990708, 0.03139476, 0.02299668,\n",
       "       0.01747165, 0.02820638, 0.05013167, 0.03688013, 0.02847403,\n",
       "       0.08857522, 0.06890694, 0.04332364, 0.01300839, 0.01278936,\n",
       "       0.01948143, 0.016977  , 0.03388591, 0.06217048, 0.02421806,\n",
       "       0.04991405, 0.04244685, 0.11338056, 0.06799869, 0.0398269 ])"
      ]
     },
     "execution_count": 47,
     "metadata": {},
     "output_type": "execute_result"
    }
   ],
   "source": [
    "# Consulta de la importancia de las características según el modelo Random Forest\n",
    "model.feature_importances_"
   ]
  },
  {
   "cell_type": "code",
   "execution_count": 48,
   "metadata": {},
   "outputs": [
    {
     "data": {
      "text/plain": [
       "HighBP            0.113381\n",
       "AgeRange          0.088575\n",
       "EdLevel           0.068907\n",
       "HighChol          0.067999\n",
       "SmokerTrad        0.062170\n",
       "CatBMI            0.055054\n",
       "PhysHlth          0.050132\n",
       "Race              0.049914\n",
       "SocClass          0.043324\n",
       "LastMedChk        0.042447\n",
       "FruitAndVegCon    0.039827\n",
       "WalkDiff          0.036880\n",
       "Arthritis         0.033886\n",
       "PhysExer          0.031395\n",
       "Gender            0.028474\n",
       "Depression        0.028206\n",
       "AlcDrinker        0.024218\n",
       "GenHealth         0.022997\n",
       "HeartDis          0.019907\n",
       "Asthma            0.019481\n",
       "CogDiff           0.017472\n",
       "LungDiseases      0.016977\n",
       "UrologyDz         0.013008\n",
       "VisionDiff        0.012789\n",
       "Stroke            0.012580\n",
       "dtype: float64"
      ]
     },
     "execution_count": 48,
     "metadata": {},
     "output_type": "execute_result"
    }
   ],
   "source": [
    "# Clasificación de las características por orden de importancia según el modelo Random Forest.\n",
    "# Para ello se dan los siguientes pasos:\n",
    "# 1. Crear un diccionario de importancias de características\n",
    "diccImportances = dict(zip(dfDiabetes.columns, model.feature_importances_))\n",
    "# 2. Convertir el diccionario a una serie de pandas y ordenar los valores en orden descendente\n",
    "serieImportancesSorted = pd.Series(diccImportances).sort_values(ascending=False)\n",
    "# 3. Mostrar las 25 características por orden de importancia\n",
    "serieImportancesSorted.head(25)"
   ]
  },
  {
   "cell_type": "code",
   "execution_count": 49,
   "metadata": {},
   "outputs": [],
   "source": [
    "# Extraemos las caracteristicas con mas relevancia para el algoritmo \n",
    "# 25 características: F1 score: 0.775\n",
    "# 21 características: F1 score: 0.771 (Ganadora, eliminamos cuatro características LungDiseases, VisionDiff, UrologyDZ,Stroke)\n",
    "columns = list(serieImportancesSorted.head(21).index)"
   ]
  },
  {
   "cell_type": "code",
   "execution_count": 50,
   "metadata": {},
   "outputs": [
    {
     "data": {
      "text/plain": [
       "['HighBP',\n",
       " 'AgeRange',\n",
       " 'EdLevel',\n",
       " 'HighChol',\n",
       " 'SmokerTrad',\n",
       " 'CatBMI',\n",
       " 'PhysHlth',\n",
       " 'Race',\n",
       " 'SocClass',\n",
       " 'LastMedChk',\n",
       " 'FruitAndVegCon',\n",
       " 'WalkDiff',\n",
       " 'Arthritis',\n",
       " 'PhysExer',\n",
       " 'Gender',\n",
       " 'Depression',\n",
       " 'AlcDrinker',\n",
       " 'GenHealth',\n",
       " 'HeartDis',\n",
       " 'Asthma',\n",
       " 'CogDiff']"
      ]
     },
     "execution_count": 50,
     "metadata": {},
     "output_type": "execute_result"
    }
   ],
   "source": [
    "columns"
   ]
  },
  {
   "cell_type": "code",
   "execution_count": 51,
   "metadata": {},
   "outputs": [],
   "source": [
    "X_train_reduced = X_train_smote[columns].copy()\n",
    "X_val_reduced = X_val[columns].copy()"
   ]
  },
  {
   "cell_type": "code",
   "execution_count": 52,
   "metadata": {},
   "outputs": [
    {
     "data": {
      "text/html": [
       "<div>\n",
       "<style scoped>\n",
       "    .dataframe tbody tr th:only-of-type {\n",
       "        vertical-align: middle;\n",
       "    }\n",
       "\n",
       "    .dataframe tbody tr th {\n",
       "        vertical-align: top;\n",
       "    }\n",
       "\n",
       "    .dataframe thead th {\n",
       "        text-align: right;\n",
       "    }\n",
       "</style>\n",
       "<table border=\"1\" class=\"dataframe\">\n",
       "  <thead>\n",
       "    <tr style=\"text-align: right;\">\n",
       "      <th></th>\n",
       "      <th>HighBP</th>\n",
       "      <th>AgeRange</th>\n",
       "      <th>EdLevel</th>\n",
       "      <th>HighChol</th>\n",
       "      <th>SmokerTrad</th>\n",
       "      <th>CatBMI</th>\n",
       "      <th>PhysHlth</th>\n",
       "      <th>Race</th>\n",
       "      <th>SocClass</th>\n",
       "      <th>LastMedChk</th>\n",
       "      <th>...</th>\n",
       "      <th>WalkDiff</th>\n",
       "      <th>Arthritis</th>\n",
       "      <th>PhysExer</th>\n",
       "      <th>Gender</th>\n",
       "      <th>Depression</th>\n",
       "      <th>AlcDrinker</th>\n",
       "      <th>GenHealth</th>\n",
       "      <th>HeartDis</th>\n",
       "      <th>Asthma</th>\n",
       "      <th>CogDiff</th>\n",
       "    </tr>\n",
       "  </thead>\n",
       "  <tbody>\n",
       "    <tr>\n",
       "      <th>0</th>\n",
       "      <td>1</td>\n",
       "      <td>5</td>\n",
       "      <td>4</td>\n",
       "      <td>1</td>\n",
       "      <td>4</td>\n",
       "      <td>4</td>\n",
       "      <td>2</td>\n",
       "      <td>1</td>\n",
       "      <td>1</td>\n",
       "      <td>1</td>\n",
       "      <td>...</td>\n",
       "      <td>1</td>\n",
       "      <td>1</td>\n",
       "      <td>2</td>\n",
       "      <td>2</td>\n",
       "      <td>2</td>\n",
       "      <td>1</td>\n",
       "      <td>2</td>\n",
       "      <td>2</td>\n",
       "      <td>1</td>\n",
       "      <td>2</td>\n",
       "    </tr>\n",
       "    <tr>\n",
       "      <th>1</th>\n",
       "      <td>1</td>\n",
       "      <td>6</td>\n",
       "      <td>4</td>\n",
       "      <td>1</td>\n",
       "      <td>4</td>\n",
       "      <td>2</td>\n",
       "      <td>1</td>\n",
       "      <td>1</td>\n",
       "      <td>2</td>\n",
       "      <td>1</td>\n",
       "      <td>...</td>\n",
       "      <td>2</td>\n",
       "      <td>2</td>\n",
       "      <td>1</td>\n",
       "      <td>1</td>\n",
       "      <td>2</td>\n",
       "      <td>1</td>\n",
       "      <td>1</td>\n",
       "      <td>2</td>\n",
       "      <td>1</td>\n",
       "      <td>2</td>\n",
       "    </tr>\n",
       "    <tr>\n",
       "      <th>2</th>\n",
       "      <td>2</td>\n",
       "      <td>2</td>\n",
       "      <td>3</td>\n",
       "      <td>2</td>\n",
       "      <td>4</td>\n",
       "      <td>4</td>\n",
       "      <td>2</td>\n",
       "      <td>1</td>\n",
       "      <td>2</td>\n",
       "      <td>3</td>\n",
       "      <td>...</td>\n",
       "      <td>2</td>\n",
       "      <td>2</td>\n",
       "      <td>1</td>\n",
       "      <td>1</td>\n",
       "      <td>2</td>\n",
       "      <td>2</td>\n",
       "      <td>1</td>\n",
       "      <td>2</td>\n",
       "      <td>1</td>\n",
       "      <td>2</td>\n",
       "    </tr>\n",
       "    <tr>\n",
       "      <th>3</th>\n",
       "      <td>1</td>\n",
       "      <td>6</td>\n",
       "      <td>4</td>\n",
       "      <td>1</td>\n",
       "      <td>4</td>\n",
       "      <td>2</td>\n",
       "      <td>1</td>\n",
       "      <td>3</td>\n",
       "      <td>2</td>\n",
       "      <td>1</td>\n",
       "      <td>...</td>\n",
       "      <td>2</td>\n",
       "      <td>2</td>\n",
       "      <td>1</td>\n",
       "      <td>1</td>\n",
       "      <td>2</td>\n",
       "      <td>1</td>\n",
       "      <td>1</td>\n",
       "      <td>2</td>\n",
       "      <td>1</td>\n",
       "      <td>2</td>\n",
       "    </tr>\n",
       "    <tr>\n",
       "      <th>4</th>\n",
       "      <td>1</td>\n",
       "      <td>6</td>\n",
       "      <td>4</td>\n",
       "      <td>2</td>\n",
       "      <td>3</td>\n",
       "      <td>2</td>\n",
       "      <td>2</td>\n",
       "      <td>1</td>\n",
       "      <td>2</td>\n",
       "      <td>1</td>\n",
       "      <td>...</td>\n",
       "      <td>2</td>\n",
       "      <td>1</td>\n",
       "      <td>1</td>\n",
       "      <td>2</td>\n",
       "      <td>2</td>\n",
       "      <td>2</td>\n",
       "      <td>1</td>\n",
       "      <td>2</td>\n",
       "      <td>2</td>\n",
       "      <td>2</td>\n",
       "    </tr>\n",
       "  </tbody>\n",
       "</table>\n",
       "<p>5 rows × 21 columns</p>\n",
       "</div>"
      ],
      "text/plain": [
       "   HighBP  AgeRange  EdLevel  HighChol  SmokerTrad  CatBMI  PhysHlth  Race  \\\n",
       "0       1         5        4         1           4       4         2     1   \n",
       "1       1         6        4         1           4       2         1     1   \n",
       "2       2         2        3         2           4       4         2     1   \n",
       "3       1         6        4         1           4       2         1     3   \n",
       "4       1         6        4         2           3       2         2     1   \n",
       "\n",
       "   SocClass  LastMedChk  ...  WalkDiff  Arthritis  PhysExer  Gender  \\\n",
       "0         1           1  ...         1          1         2       2   \n",
       "1         2           1  ...         2          2         1       1   \n",
       "2         2           3  ...         2          2         1       1   \n",
       "3         2           1  ...         2          2         1       1   \n",
       "4         2           1  ...         2          1         1       2   \n",
       "\n",
       "   Depression  AlcDrinker  GenHealth  HeartDis  Asthma  CogDiff  \n",
       "0           2           1          2         2       1        2  \n",
       "1           2           1          1         2       1        2  \n",
       "2           2           2          1         2       1        2  \n",
       "3           2           1          1         2       1        2  \n",
       "4           2           2          1         2       2        2  \n",
       "\n",
       "[5 rows x 21 columns]"
      ]
     },
     "execution_count": 52,
     "metadata": {},
     "output_type": "execute_result"
    }
   ],
   "source": [
    "X_train_reduced.head()"
   ]
  },
  {
   "cell_type": "code",
   "execution_count": 53,
   "metadata": {},
   "outputs": [
    {
     "data": {
      "text/html": [
       "<style>#sk-container-id-4 {color: black;}#sk-container-id-4 pre{padding: 0;}#sk-container-id-4 div.sk-toggleable {background-color: white;}#sk-container-id-4 label.sk-toggleable__label {cursor: pointer;display: block;width: 100%;margin-bottom: 0;padding: 0.3em;box-sizing: border-box;text-align: center;}#sk-container-id-4 label.sk-toggleable__label-arrow:before {content: \"▸\";float: left;margin-right: 0.25em;color: #696969;}#sk-container-id-4 label.sk-toggleable__label-arrow:hover:before {color: black;}#sk-container-id-4 div.sk-estimator:hover label.sk-toggleable__label-arrow:before {color: black;}#sk-container-id-4 div.sk-toggleable__content {max-height: 0;max-width: 0;overflow: hidden;text-align: left;background-color: #f0f8ff;}#sk-container-id-4 div.sk-toggleable__content pre {margin: 0.2em;color: black;border-radius: 0.25em;background-color: #f0f8ff;}#sk-container-id-4 input.sk-toggleable__control:checked~div.sk-toggleable__content {max-height: 200px;max-width: 100%;overflow: auto;}#sk-container-id-4 input.sk-toggleable__control:checked~label.sk-toggleable__label-arrow:before {content: \"▾\";}#sk-container-id-4 div.sk-estimator input.sk-toggleable__control:checked~label.sk-toggleable__label {background-color: #d4ebff;}#sk-container-id-4 div.sk-label input.sk-toggleable__control:checked~label.sk-toggleable__label {background-color: #d4ebff;}#sk-container-id-4 input.sk-hidden--visually {border: 0;clip: rect(1px 1px 1px 1px);clip: rect(1px, 1px, 1px, 1px);height: 1px;margin: -1px;overflow: hidden;padding: 0;position: absolute;width: 1px;}#sk-container-id-4 div.sk-estimator {font-family: monospace;background-color: #f0f8ff;border: 1px dotted black;border-radius: 0.25em;box-sizing: border-box;margin-bottom: 0.5em;}#sk-container-id-4 div.sk-estimator:hover {background-color: #d4ebff;}#sk-container-id-4 div.sk-parallel-item::after {content: \"\";width: 100%;border-bottom: 1px solid gray;flex-grow: 1;}#sk-container-id-4 div.sk-label:hover label.sk-toggleable__label {background-color: #d4ebff;}#sk-container-id-4 div.sk-serial::before {content: \"\";position: absolute;border-left: 1px solid gray;box-sizing: border-box;top: 0;bottom: 0;left: 50%;z-index: 0;}#sk-container-id-4 div.sk-serial {display: flex;flex-direction: column;align-items: center;background-color: white;padding-right: 0.2em;padding-left: 0.2em;position: relative;}#sk-container-id-4 div.sk-item {position: relative;z-index: 1;}#sk-container-id-4 div.sk-parallel {display: flex;align-items: stretch;justify-content: center;background-color: white;position: relative;}#sk-container-id-4 div.sk-item::before, #sk-container-id-4 div.sk-parallel-item::before {content: \"\";position: absolute;border-left: 1px solid gray;box-sizing: border-box;top: 0;bottom: 0;left: 50%;z-index: -1;}#sk-container-id-4 div.sk-parallel-item {display: flex;flex-direction: column;z-index: 1;position: relative;background-color: white;}#sk-container-id-4 div.sk-parallel-item:first-child::after {align-self: flex-end;width: 50%;}#sk-container-id-4 div.sk-parallel-item:last-child::after {align-self: flex-start;width: 50%;}#sk-container-id-4 div.sk-parallel-item:only-child::after {width: 0;}#sk-container-id-4 div.sk-dashed-wrapped {border: 1px dashed gray;margin: 0 0.4em 0.5em 0.4em;box-sizing: border-box;padding-bottom: 0.4em;background-color: white;}#sk-container-id-4 div.sk-label label {font-family: monospace;font-weight: bold;display: inline-block;line-height: 1.2em;}#sk-container-id-4 div.sk-label-container {text-align: center;}#sk-container-id-4 div.sk-container {/* jupyter's `normalize.less` sets `[hidden] { display: none; }` but bootstrap.min.css set `[hidden] { display: none !important; }` so we also need the `!important` here to be able to override the default hidden behavior on the sphinx rendered scikit-learn.org. See: https://github.com/scikit-learn/scikit-learn/issues/21755 */display: inline-block !important;position: relative;}#sk-container-id-4 div.sk-text-repr-fallback {display: none;}</style><div id=\"sk-container-id-4\" class=\"sk-top-container\"><div class=\"sk-text-repr-fallback\"><pre>RandomForestClassifier(n_estimators=50, n_jobs=-1, random_state=14)</pre><b>In a Jupyter environment, please rerun this cell to show the HTML representation or trust the notebook. <br />On GitHub, the HTML representation is unable to render, please try loading this page with nbviewer.org.</b></div><div class=\"sk-container\" hidden><div class=\"sk-item\"><div class=\"sk-estimator sk-toggleable\"><input class=\"sk-toggleable__control sk-hidden--visually\" id=\"sk-estimator-id-4\" type=\"checkbox\" checked><label for=\"sk-estimator-id-4\" class=\"sk-toggleable__label sk-toggleable__label-arrow\">RandomForestClassifier</label><div class=\"sk-toggleable__content\"><pre>RandomForestClassifier(n_estimators=50, n_jobs=-1, random_state=14)</pre></div></div></div></div></div>"
      ],
      "text/plain": [
       "RandomForestClassifier(n_estimators=50, n_jobs=-1, random_state=14)"
      ]
     },
     "execution_count": 53,
     "metadata": {},
     "output_type": "execute_result"
    }
   ],
   "source": [
    "# Obtención del modelo con 21 columnas y sin el hiperparámetro class_weight='balanced'\n",
    "model = RandomForestClassifier(n_estimators=50, random_state=14, n_jobs=-1)\n",
    "model.fit(X_train_reduced, y_train_smote)"
   ]
  },
  {
   "cell_type": "code",
   "execution_count": 54,
   "metadata": {},
   "outputs": [
    {
     "name": "stdout",
     "output_type": "stream",
     "text": [
      "F1 score: 0.771\n"
     ]
    }
   ],
   "source": [
    "# Predecimos con el conjunto de datos de validación\n",
    "y_pred = model.predict(X_val_reduced)\n",
    "print(\"F1 score: {:.3f}\".format(f1_score(y_val, y_pred, average='weighted')))"
   ]
  },
  {
   "cell_type": "code",
   "execution_count": 55,
   "metadata": {},
   "outputs": [],
   "source": [
    "X_test_reduced = X_test[columns].copy()"
   ]
  },
  {
   "cell_type": "code",
   "execution_count": 56,
   "metadata": {},
   "outputs": [
    {
     "name": "stdout",
     "output_type": "stream",
     "text": [
      "<class 'pandas.core.frame.DataFrame'>\n",
      "Int64Index: 45931 entries, 214261 to 227011\n",
      "Data columns (total 21 columns):\n",
      " #   Column          Non-Null Count  Dtype\n",
      "---  ------          --------------  -----\n",
      " 0   HighBP          45931 non-null  int64\n",
      " 1   AgeRange        45931 non-null  int64\n",
      " 2   EdLevel         45931 non-null  int64\n",
      " 3   HighChol        45931 non-null  int64\n",
      " 4   SmokerTrad      45931 non-null  int64\n",
      " 5   CatBMI          45931 non-null  int64\n",
      " 6   PhysHlth        45931 non-null  int64\n",
      " 7   Race            45931 non-null  int64\n",
      " 8   SocClass        45931 non-null  int64\n",
      " 9   LastMedChk      45931 non-null  int64\n",
      " 10  FruitAndVegCon  45931 non-null  int64\n",
      " 11  WalkDiff        45931 non-null  int64\n",
      " 12  Arthritis       45931 non-null  int64\n",
      " 13  PhysExer        45931 non-null  int64\n",
      " 14  Gender          45931 non-null  int64\n",
      " 15  Depression      45931 non-null  int64\n",
      " 16  AlcDrinker      45931 non-null  int64\n",
      " 17  GenHealth       45931 non-null  int64\n",
      " 18  HeartDis        45931 non-null  int64\n",
      " 19  Asthma          45931 non-null  int64\n",
      " 20  CogDiff         45931 non-null  int64\n",
      "dtypes: int64(21)\n",
      "memory usage: 7.7 MB\n"
     ]
    }
   ],
   "source": [
    "X_test_reduced.info()"
   ]
  },
  {
   "cell_type": "code",
   "execution_count": 57,
   "metadata": {},
   "outputs": [
    {
     "name": "stdout",
     "output_type": "stream",
     "text": [
      "F1 score: 0.767\n"
     ]
    }
   ],
   "source": [
    "#Predicimos para valores de test para comprobar su comportamiento con datos que no habia visto hasta ahora\n",
    "y_pred = model.predict(X_test_reduced)\n",
    "print(\"F1 score: {:.3f}\".format(f1_score(y_test, y_pred, average='weighted')))"
   ]
  },
  {
   "cell_type": "code",
   "execution_count": 58,
   "metadata": {},
   "outputs": [],
   "source": [
    "# Según el F1 score calculado, se puede dar por bueno el descarte de las características: \n",
    "# LungDiseases, VisionDiff, UrologyDZ,Stroke"
   ]
  }
 ],
 "metadata": {
  "kernelspec": {
   "display_name": "Python 3",
   "language": "python",
   "name": "python3"
  },
  "language_info": {
   "codemirror_mode": {
    "name": "ipython",
    "version": 3
   },
   "file_extension": ".py",
   "mimetype": "text/x-python",
   "name": "python",
   "nbconvert_exporter": "python",
   "pygments_lexer": "ipython3",
   "version": "3.8.5"
  }
 },
 "nbformat": 4,
 "nbformat_minor": 4
}
