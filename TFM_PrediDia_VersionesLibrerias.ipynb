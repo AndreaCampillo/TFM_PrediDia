{
 "cells": [
  {
   "cell_type": "markdown",
   "metadata": {},
   "source": [
    "## Autor:\n",
    "Andrea Campillo Piqueras.\n",
    "## Estudios:\n",
    "Universidad Internacional de La Rioja.\n",
    "Escuela Superior de Ingeniería y Tecnología.<br>\n",
    "Trabajo Fin de Máster Universitario en Análisis y Visualización de Datos Masivos/ Visual Analytics and Big Data.\n",
    "## Título:\n",
    "PrediDia: Un Enfoque Predictivo para la Evaluación de la Diabetes.\n",
    "## Repositorio:\n",
    "https://github.com/AndreaCampillo/TFM_PrediDia\n",
    "## Licencia:\n",
    "MIT License Copyright (c) 2024 Andrea Campillo Piqueras."
   ]
  },
  {
   "cell_type": "markdown",
   "metadata": {},
   "source": [
    "## <center><H1>Versiones de Librerías</H1></center>"
   ]
  },
  {
   "cell_type": "code",
   "execution_count": 1,
   "metadata": {},
   "outputs": [],
   "source": [
    "# Librerias utilizadas\n",
    "import pandas as pd\n",
    "import sklearn as sc\n",
    "import imblearn as im\n",
    "import seaborn as sns\n",
    "import matplotlib as plt\n",
    "import tensorflow as tf"
   ]
  },
  {
   "cell_type": "code",
   "execution_count": 14,
   "metadata": {
    "scrolled": true
   },
   "outputs": [
    {
     "name": "stdout",
     "output_type": "stream",
     "text": [
      "Ver. pandas:  2.1.4\n",
      "Ver. sklearn:  1.2.2\n",
      "Ver. imblearn:  0.11.0\n",
      "Ver. seaborn:  0.12.2\n",
      "Ver. matplotlib:  3.8.0\n",
      "Ver. tensorflow:  2.16.1\n"
     ]
    }
   ],
   "source": [
    "print('Ver. pandas: ',pd.__version__)\n",
    "print('Ver. sklearn: ',sc.__version__)\n",
    "print('Ver. imblearn: ',im.__version__)\n",
    "print('Ver. seaborn: ',sns.__version__)\n",
    "print('Ver. matplotlib: ',plt.__version__)\n",
    "print('Ver. tensorflow: ',tf.__version__)"
   ]
  }
 ],
 "metadata": {
  "kernelspec": {
   "display_name": "Python 3",
   "language": "python",
   "name": "python3"
  },
  "language_info": {
   "codemirror_mode": {
    "name": "ipython",
    "version": 3
   },
   "file_extension": ".py",
   "mimetype": "text/x-python",
   "name": "python",
   "nbconvert_exporter": "python",
   "pygments_lexer": "ipython3",
   "version": "3.8.5"
  }
 },
 "nbformat": 4,
 "nbformat_minor": 5
}
