{
 "cells": [
  {
   "cell_type": "markdown",
   "metadata": {},
   "source": [
    "## Autor:\n",
    "Andrea Campillo Piqueras.\n",
    "## Estudios:\n",
    "Universidad Internacional de La Rioja.\n",
    "Escuela Superior de Ingeniería y Tecnología.<br>\n",
    "Trabajo Fin de Máster Universitario en Análisis y Visualización de Datos Masivos/ Visual Analytics and Big Data.\n",
    "## Título:\n",
    "PrediDia: Un Enfoque Predictivo para la Evaluación de la Diabetes.\n",
    "## Repositorio:\n",
    "https://github.com/AndreaCampillo/TFM_PrediDia\n",
    "## Licencia:\n",
    "MIT License Copyright (c) 2024 Andrea Campillo Piqueras."
   ]
  },
  {
   "cell_type": "markdown",
   "metadata": {},
   "source": [
    "# <center><H1>Redes Neuronales Artificiales Densas</H1></center>"
   ]
  },
  {
   "cell_type": "code",
   "execution_count": 1,
   "metadata": {},
   "outputs": [],
   "source": [
    "# Librerías utilizadas\n",
    "import time\n",
    "import pandas as pd\n",
    "from sklearn.metrics import f1_score\n",
    "from sklearn.model_selection import train_test_split\n",
    "from imblearn.over_sampling import SMOTE\n",
    "from sklearn.metrics import precision_score\n",
    "from sklearn.metrics import accuracy_score\n",
    "from sklearn.metrics import roc_auc_score\n",
    "from imblearn.metrics import specificity_score\n",
    "import tensorflow as tf\n",
    "from tensorflow.keras import models\n",
    "from tensorflow.keras import layers\n",
    "from tensorflow.keras import metrics"
   ]
  },
  {
   "cell_type": "markdown",
   "metadata": {},
   "source": [
    "# Dataset 2021"
   ]
  },
  {
   "cell_type": "code",
   "execution_count": 2,
   "metadata": {},
   "outputs": [],
   "source": [
    "url = 'https://github.com/AndreaCampillo/TFM_PrediDia/raw/Datasets/2021DataSet_Diabeticos_NoDiabeticos_Depurado.csv'\n",
    "dfDiabetes_load = pd.read_csv(url, sep=';')"
   ]
  },
  {
   "cell_type": "code",
   "execution_count": 3,
   "metadata": {},
   "outputs": [
    {
     "name": "stdout",
     "output_type": "stream",
     "text": [
      "<class 'pandas.core.frame.DataFrame'>\n",
      "RangeIndex: 229655 entries, 0 to 229654\n",
      "Data columns (total 45 columns):\n",
      " #   Column              Non-Null Count   Dtype\n",
      "---  ------              --------------   -----\n",
      " 0   Year                229655 non-null  int64\n",
      " 1   CatBMI              229655 non-null  int64\n",
      " 2   Stroke              229655 non-null  int64\n",
      " 3   HeartDis            229655 non-null  int64\n",
      " 4   PhysExer            229655 non-null  int64\n",
      " 5   HealthIns           229655 non-null  int64\n",
      " 6   NoMedCost           229655 non-null  int64\n",
      " 7   GenHealth           229655 non-null  int64\n",
      " 8   CogDiff             229655 non-null  int64\n",
      " 9   Depression          229655 non-null  int64\n",
      " 10  MentalHlth          229655 non-null  int64\n",
      " 11  MentalState         229655 non-null  int64\n",
      " 12  PhysHlth            229655 non-null  int64\n",
      " 13  WalkDiff            229655 non-null  int64\n",
      " 14  Gender              229655 non-null  int64\n",
      " 15  AgeRange            229655 non-null  int64\n",
      " 16  EdLevel             229655 non-null  int64\n",
      " 17  AnnIncome           229655 non-null  int64\n",
      " 18  SocClass            229655 non-null  int64\n",
      " 19  UrologyDz           229655 non-null  int64\n",
      " 20  VisionDiff          229655 non-null  int64\n",
      " 21  Asthma              229655 non-null  int64\n",
      " 22  LungDiseases        229655 non-null  int64\n",
      " 23  Arthritis           229655 non-null  int64\n",
      " 24  SmokerTrad          229655 non-null  int64\n",
      " 25  ECigSmok            229655 non-null  int64\n",
      " 26  AlcDrinker          229655 non-null  int64\n",
      " 27  Race                229655 non-null  int64\n",
      " 28  MaritalSt           229655 non-null  int64\n",
      " 29  LastMedChk          229655 non-null  int64\n",
      " 30  Awareness           229655 non-null  int64\n",
      " 31  FootIrrita          229655 non-null  int64\n",
      " 32  FecFootIrrita       229655 non-null  int64\n",
      " 33  HighBP              229655 non-null  int64\n",
      " 34  HighChol            229655 non-null  int64\n",
      " 35  FruitCons           229655 non-null  int64\n",
      " 36  VegCons             229655 non-null  int64\n",
      " 37  FruitOrVegCon       229655 non-null  int64\n",
      " 38  FruitAndVegCon      229655 non-null  int64\n",
      " 39  MarijuanaCon        229655 non-null  int64\n",
      " 40  SleepHours          229655 non-null  int64\n",
      " 41  BrDiabetes          229655 non-null  int64\n",
      " 42  GrDiabetes          229655 non-null  int64\n",
      " 43  SupGrPreDiabetes    229655 non-null  int64\n",
      " 44  SupGrNoPreDiabetes  229655 non-null  int64\n",
      "dtypes: int64(45)\n",
      "memory usage: 78.8 MB\n"
     ]
    }
   ],
   "source": [
    "dfDiabetes_load.info()"
   ]
  },
  {
   "cell_type": "code",
   "execution_count": 4,
   "metadata": {
    "scrolled": true
   },
   "outputs": [
    {
     "data": {
      "text/html": [
       "<div>\n",
       "<style scoped>\n",
       "    .dataframe tbody tr th:only-of-type {\n",
       "        vertical-align: middle;\n",
       "    }\n",
       "\n",
       "    .dataframe tbody tr th {\n",
       "        vertical-align: top;\n",
       "    }\n",
       "\n",
       "    .dataframe thead th {\n",
       "        text-align: right;\n",
       "    }\n",
       "</style>\n",
       "<table border=\"1\" class=\"dataframe\">\n",
       "  <thead>\n",
       "    <tr style=\"text-align: right;\">\n",
       "      <th></th>\n",
       "      <th>Year</th>\n",
       "      <th>CatBMI</th>\n",
       "      <th>Stroke</th>\n",
       "      <th>HeartDis</th>\n",
       "      <th>PhysExer</th>\n",
       "      <th>HealthIns</th>\n",
       "      <th>NoMedCost</th>\n",
       "      <th>GenHealth</th>\n",
       "      <th>CogDiff</th>\n",
       "      <th>Depression</th>\n",
       "      <th>...</th>\n",
       "      <th>FruitCons</th>\n",
       "      <th>VegCons</th>\n",
       "      <th>FruitOrVegCon</th>\n",
       "      <th>FruitAndVegCon</th>\n",
       "      <th>MarijuanaCon</th>\n",
       "      <th>SleepHours</th>\n",
       "      <th>BrDiabetes</th>\n",
       "      <th>GrDiabetes</th>\n",
       "      <th>SupGrPreDiabetes</th>\n",
       "      <th>SupGrNoPreDiabetes</th>\n",
       "    </tr>\n",
       "  </thead>\n",
       "  <tbody>\n",
       "    <tr>\n",
       "      <th>0</th>\n",
       "      <td>2021</td>\n",
       "      <td>1</td>\n",
       "      <td>2</td>\n",
       "      <td>2</td>\n",
       "      <td>2</td>\n",
       "      <td>1</td>\n",
       "      <td>2</td>\n",
       "      <td>2</td>\n",
       "      <td>2</td>\n",
       "      <td>2</td>\n",
       "      <td>...</td>\n",
       "      <td>1</td>\n",
       "      <td>1</td>\n",
       "      <td>1</td>\n",
       "      <td>1</td>\n",
       "      <td>9</td>\n",
       "      <td>99</td>\n",
       "      <td>3</td>\n",
       "      <td>3</td>\n",
       "      <td>2</td>\n",
       "      <td>2</td>\n",
       "    </tr>\n",
       "    <tr>\n",
       "      <th>1</th>\n",
       "      <td>2021</td>\n",
       "      <td>3</td>\n",
       "      <td>2</td>\n",
       "      <td>1</td>\n",
       "      <td>2</td>\n",
       "      <td>1</td>\n",
       "      <td>2</td>\n",
       "      <td>1</td>\n",
       "      <td>2</td>\n",
       "      <td>2</td>\n",
       "      <td>...</td>\n",
       "      <td>1</td>\n",
       "      <td>2</td>\n",
       "      <td>1</td>\n",
       "      <td>2</td>\n",
       "      <td>9</td>\n",
       "      <td>99</td>\n",
       "      <td>1</td>\n",
       "      <td>1</td>\n",
       "      <td>1</td>\n",
       "      <td>1</td>\n",
       "    </tr>\n",
       "    <tr>\n",
       "      <th>2</th>\n",
       "      <td>2021</td>\n",
       "      <td>4</td>\n",
       "      <td>2</td>\n",
       "      <td>2</td>\n",
       "      <td>1</td>\n",
       "      <td>1</td>\n",
       "      <td>2</td>\n",
       "      <td>1</td>\n",
       "      <td>2</td>\n",
       "      <td>2</td>\n",
       "      <td>...</td>\n",
       "      <td>1</td>\n",
       "      <td>1</td>\n",
       "      <td>1</td>\n",
       "      <td>1</td>\n",
       "      <td>9</td>\n",
       "      <td>99</td>\n",
       "      <td>1</td>\n",
       "      <td>1</td>\n",
       "      <td>1</td>\n",
       "      <td>1</td>\n",
       "    </tr>\n",
       "    <tr>\n",
       "      <th>3</th>\n",
       "      <td>2021</td>\n",
       "      <td>3</td>\n",
       "      <td>1</td>\n",
       "      <td>1</td>\n",
       "      <td>1</td>\n",
       "      <td>1</td>\n",
       "      <td>2</td>\n",
       "      <td>2</td>\n",
       "      <td>2</td>\n",
       "      <td>2</td>\n",
       "      <td>...</td>\n",
       "      <td>1</td>\n",
       "      <td>1</td>\n",
       "      <td>1</td>\n",
       "      <td>1</td>\n",
       "      <td>9</td>\n",
       "      <td>99</td>\n",
       "      <td>1</td>\n",
       "      <td>1</td>\n",
       "      <td>1</td>\n",
       "      <td>1</td>\n",
       "    </tr>\n",
       "    <tr>\n",
       "      <th>4</th>\n",
       "      <td>2021</td>\n",
       "      <td>2</td>\n",
       "      <td>2</td>\n",
       "      <td>2</td>\n",
       "      <td>2</td>\n",
       "      <td>1</td>\n",
       "      <td>2</td>\n",
       "      <td>1</td>\n",
       "      <td>2</td>\n",
       "      <td>2</td>\n",
       "      <td>...</td>\n",
       "      <td>2</td>\n",
       "      <td>2</td>\n",
       "      <td>2</td>\n",
       "      <td>2</td>\n",
       "      <td>9</td>\n",
       "      <td>99</td>\n",
       "      <td>3</td>\n",
       "      <td>3</td>\n",
       "      <td>2</td>\n",
       "      <td>2</td>\n",
       "    </tr>\n",
       "  </tbody>\n",
       "</table>\n",
       "<p>5 rows × 45 columns</p>\n",
       "</div>"
      ],
      "text/plain": [
       "   Year  CatBMI  Stroke  HeartDis  PhysExer  HealthIns  NoMedCost  GenHealth  \\\n",
       "0  2021       1       2         2         2          1          2          2   \n",
       "1  2021       3       2         1         2          1          2          1   \n",
       "2  2021       4       2         2         1          1          2          1   \n",
       "3  2021       3       1         1         1          1          2          2   \n",
       "4  2021       2       2         2         2          1          2          1   \n",
       "\n",
       "   CogDiff  Depression  ...  FruitCons  VegCons  FruitOrVegCon  \\\n",
       "0        2           2  ...          1        1              1   \n",
       "1        2           2  ...          1        2              1   \n",
       "2        2           2  ...          1        1              1   \n",
       "3        2           2  ...          1        1              1   \n",
       "4        2           2  ...          2        2              2   \n",
       "\n",
       "   FruitAndVegCon  MarijuanaCon  SleepHours  BrDiabetes  GrDiabetes  \\\n",
       "0               1             9          99           3           3   \n",
       "1               2             9          99           1           1   \n",
       "2               1             9          99           1           1   \n",
       "3               1             9          99           1           1   \n",
       "4               2             9          99           3           3   \n",
       "\n",
       "   SupGrPreDiabetes  SupGrNoPreDiabetes  \n",
       "0                 2                   2  \n",
       "1                 1                   1  \n",
       "2                 1                   1  \n",
       "3                 1                   1  \n",
       "4                 2                   2  \n",
       "\n",
       "[5 rows x 45 columns]"
      ]
     },
     "execution_count": 4,
     "metadata": {},
     "output_type": "execute_result"
    }
   ],
   "source": [
    "dfDiabetes_load.head()"
   ]
  },
  {
   "cell_type": "code",
   "execution_count": 5,
   "metadata": {},
   "outputs": [],
   "source": [
    "# Incluye 25 características sin eliminar LungDiseases, VisionDiff, UrologyDZ,Stroke. Se comprobará el rendimiento con estás\n",
    "# últimas y se tomará una decisión.\n",
    "columns = ['CatBMI', 'Stroke', 'HeartDis', 'PhysExer', 'GenHealth', \n",
    "           'CogDiff', 'Depression', 'PhysHlth', 'WalkDiff','Gender', \n",
    "           'AgeRange', 'EdLevel', 'SocClass', 'UrologyDz','VisionDiff',\n",
    "           'Asthma', 'LungDiseases','Arthritis', 'SmokerTrad', 'AlcDrinker', \n",
    "           'Race', 'LastMedChk', 'HighBP','HighChol', 'FruitAndVegCon',\n",
    "           'SupGrPreDiabetes']\n",
    "dfDiabetes = dfDiabetes_load[columns].copy()"
   ]
  },
  {
   "cell_type": "code",
   "execution_count": 6,
   "metadata": {},
   "outputs": [],
   "source": [
    "dfDiabetes['SupGrPreDiabetes'] = dfDiabetes['SupGrPreDiabetes'].replace({2: 0, 1: 1})"
   ]
  },
  {
   "cell_type": "code",
   "execution_count": 7,
   "metadata": {
    "scrolled": true
   },
   "outputs": [
    {
     "name": "stdout",
     "output_type": "stream",
     "text": [
      "<class 'pandas.core.frame.DataFrame'>\n",
      "RangeIndex: 229655 entries, 0 to 229654\n",
      "Data columns (total 26 columns):\n",
      " #   Column            Non-Null Count   Dtype\n",
      "---  ------            --------------   -----\n",
      " 0   CatBMI            229655 non-null  int64\n",
      " 1   Stroke            229655 non-null  int64\n",
      " 2   HeartDis          229655 non-null  int64\n",
      " 3   PhysExer          229655 non-null  int64\n",
      " 4   GenHealth         229655 non-null  int64\n",
      " 5   CogDiff           229655 non-null  int64\n",
      " 6   Depression        229655 non-null  int64\n",
      " 7   PhysHlth          229655 non-null  int64\n",
      " 8   WalkDiff          229655 non-null  int64\n",
      " 9   Gender            229655 non-null  int64\n",
      " 10  AgeRange          229655 non-null  int64\n",
      " 11  EdLevel           229655 non-null  int64\n",
      " 12  SocClass          229655 non-null  int64\n",
      " 13  UrologyDz         229655 non-null  int64\n",
      " 14  VisionDiff        229655 non-null  int64\n",
      " 15  Asthma            229655 non-null  int64\n",
      " 16  LungDiseases      229655 non-null  int64\n",
      " 17  Arthritis         229655 non-null  int64\n",
      " 18  SmokerTrad        229655 non-null  int64\n",
      " 19  AlcDrinker        229655 non-null  int64\n",
      " 20  Race              229655 non-null  int64\n",
      " 21  LastMedChk        229655 non-null  int64\n",
      " 22  HighBP            229655 non-null  int64\n",
      " 23  HighChol          229655 non-null  int64\n",
      " 24  FruitAndVegCon    229655 non-null  int64\n",
      " 25  SupGrPreDiabetes  229655 non-null  int64\n",
      "dtypes: int64(26)\n",
      "memory usage: 45.6 MB\n"
     ]
    }
   ],
   "source": [
    "dfDiabetes.info()"
   ]
  },
  {
   "cell_type": "code",
   "execution_count": 8,
   "metadata": {
    "scrolled": false
   },
   "outputs": [
    {
     "data": {
      "text/html": [
       "<div>\n",
       "<style scoped>\n",
       "    .dataframe tbody tr th:only-of-type {\n",
       "        vertical-align: middle;\n",
       "    }\n",
       "\n",
       "    .dataframe tbody tr th {\n",
       "        vertical-align: top;\n",
       "    }\n",
       "\n",
       "    .dataframe thead th {\n",
       "        text-align: right;\n",
       "    }\n",
       "</style>\n",
       "<table border=\"1\" class=\"dataframe\">\n",
       "  <thead>\n",
       "    <tr style=\"text-align: right;\">\n",
       "      <th></th>\n",
       "      <th>CatBMI</th>\n",
       "      <th>Stroke</th>\n",
       "      <th>HeartDis</th>\n",
       "      <th>PhysExer</th>\n",
       "      <th>GenHealth</th>\n",
       "      <th>CogDiff</th>\n",
       "      <th>Depression</th>\n",
       "      <th>PhysHlth</th>\n",
       "      <th>WalkDiff</th>\n",
       "      <th>Gender</th>\n",
       "      <th>...</th>\n",
       "      <th>LungDiseases</th>\n",
       "      <th>Arthritis</th>\n",
       "      <th>SmokerTrad</th>\n",
       "      <th>AlcDrinker</th>\n",
       "      <th>Race</th>\n",
       "      <th>LastMedChk</th>\n",
       "      <th>HighBP</th>\n",
       "      <th>HighChol</th>\n",
       "      <th>FruitAndVegCon</th>\n",
       "      <th>SupGrPreDiabetes</th>\n",
       "    </tr>\n",
       "  </thead>\n",
       "  <tbody>\n",
       "    <tr>\n",
       "      <th>0</th>\n",
       "      <td>1</td>\n",
       "      <td>2</td>\n",
       "      <td>2</td>\n",
       "      <td>2</td>\n",
       "      <td>2</td>\n",
       "      <td>2</td>\n",
       "      <td>2</td>\n",
       "      <td>3</td>\n",
       "      <td>2</td>\n",
       "      <td>2</td>\n",
       "      <td>...</td>\n",
       "      <td>1</td>\n",
       "      <td>1</td>\n",
       "      <td>3</td>\n",
       "      <td>1</td>\n",
       "      <td>1</td>\n",
       "      <td>2</td>\n",
       "      <td>2</td>\n",
       "      <td>1</td>\n",
       "      <td>1</td>\n",
       "      <td>0</td>\n",
       "    </tr>\n",
       "    <tr>\n",
       "      <th>1</th>\n",
       "      <td>3</td>\n",
       "      <td>2</td>\n",
       "      <td>1</td>\n",
       "      <td>2</td>\n",
       "      <td>1</td>\n",
       "      <td>2</td>\n",
       "      <td>2</td>\n",
       "      <td>1</td>\n",
       "      <td>2</td>\n",
       "      <td>2</td>\n",
       "      <td>...</td>\n",
       "      <td>2</td>\n",
       "      <td>2</td>\n",
       "      <td>4</td>\n",
       "      <td>1</td>\n",
       "      <td>2</td>\n",
       "      <td>1</td>\n",
       "      <td>1</td>\n",
       "      <td>2</td>\n",
       "      <td>2</td>\n",
       "      <td>1</td>\n",
       "    </tr>\n",
       "    <tr>\n",
       "      <th>2</th>\n",
       "      <td>4</td>\n",
       "      <td>2</td>\n",
       "      <td>2</td>\n",
       "      <td>1</td>\n",
       "      <td>1</td>\n",
       "      <td>2</td>\n",
       "      <td>2</td>\n",
       "      <td>1</td>\n",
       "      <td>2</td>\n",
       "      <td>2</td>\n",
       "      <td>...</td>\n",
       "      <td>2</td>\n",
       "      <td>2</td>\n",
       "      <td>4</td>\n",
       "      <td>2</td>\n",
       "      <td>1</td>\n",
       "      <td>1</td>\n",
       "      <td>1</td>\n",
       "      <td>1</td>\n",
       "      <td>1</td>\n",
       "      <td>1</td>\n",
       "    </tr>\n",
       "    <tr>\n",
       "      <th>3</th>\n",
       "      <td>3</td>\n",
       "      <td>1</td>\n",
       "      <td>1</td>\n",
       "      <td>1</td>\n",
       "      <td>2</td>\n",
       "      <td>2</td>\n",
       "      <td>2</td>\n",
       "      <td>3</td>\n",
       "      <td>1</td>\n",
       "      <td>1</td>\n",
       "      <td>...</td>\n",
       "      <td>2</td>\n",
       "      <td>2</td>\n",
       "      <td>4</td>\n",
       "      <td>1</td>\n",
       "      <td>4</td>\n",
       "      <td>1</td>\n",
       "      <td>1</td>\n",
       "      <td>1</td>\n",
       "      <td>1</td>\n",
       "      <td>1</td>\n",
       "    </tr>\n",
       "    <tr>\n",
       "      <th>4</th>\n",
       "      <td>2</td>\n",
       "      <td>2</td>\n",
       "      <td>2</td>\n",
       "      <td>2</td>\n",
       "      <td>1</td>\n",
       "      <td>2</td>\n",
       "      <td>2</td>\n",
       "      <td>1</td>\n",
       "      <td>1</td>\n",
       "      <td>1</td>\n",
       "      <td>...</td>\n",
       "      <td>1</td>\n",
       "      <td>2</td>\n",
       "      <td>3</td>\n",
       "      <td>1</td>\n",
       "      <td>1</td>\n",
       "      <td>1</td>\n",
       "      <td>2</td>\n",
       "      <td>2</td>\n",
       "      <td>2</td>\n",
       "      <td>0</td>\n",
       "    </tr>\n",
       "  </tbody>\n",
       "</table>\n",
       "<p>5 rows × 26 columns</p>\n",
       "</div>"
      ],
      "text/plain": [
       "   CatBMI  Stroke  HeartDis  PhysExer  GenHealth  CogDiff  Depression  \\\n",
       "0       1       2         2         2          2        2           2   \n",
       "1       3       2         1         2          1        2           2   \n",
       "2       4       2         2         1          1        2           2   \n",
       "3       3       1         1         1          2        2           2   \n",
       "4       2       2         2         2          1        2           2   \n",
       "\n",
       "   PhysHlth  WalkDiff  Gender  ...  LungDiseases  Arthritis  SmokerTrad  \\\n",
       "0         3         2       2  ...             1          1           3   \n",
       "1         1         2       2  ...             2          2           4   \n",
       "2         1         2       2  ...             2          2           4   \n",
       "3         3         1       1  ...             2          2           4   \n",
       "4         1         1       1  ...             1          2           3   \n",
       "\n",
       "   AlcDrinker  Race  LastMedChk  HighBP  HighChol  FruitAndVegCon  \\\n",
       "0           1     1           2       2         1               1   \n",
       "1           1     2           1       1         2               2   \n",
       "2           2     1           1       1         1               1   \n",
       "3           1     4           1       1         1               1   \n",
       "4           1     1           1       2         2               2   \n",
       "\n",
       "   SupGrPreDiabetes  \n",
       "0                 0  \n",
       "1                 1  \n",
       "2                 1  \n",
       "3                 1  \n",
       "4                 0  \n",
       "\n",
       "[5 rows x 26 columns]"
      ]
     },
     "execution_count": 8,
     "metadata": {},
     "output_type": "execute_result"
    }
   ],
   "source": [
    "dfDiabetes.head()"
   ]
  },
  {
   "cell_type": "code",
   "execution_count": 9,
   "metadata": {},
   "outputs": [
    {
     "name": "stdout",
     "output_type": "stream",
     "text": [
      "Número de registros:  229655\n",
      "Número de dibéticos:  37793\n",
      "Número de no diabéticos:  191862\n"
     ]
    }
   ],
   "source": [
    "numClases = dfDiabetes['SupGrPreDiabetes'].value_counts()\n",
    "numDiabeticos = numClases[1]\n",
    "numNoDiabeticos = numClases[0]\n",
    "print(\"Número de registros: \", len(dfDiabetes)) \n",
    "print(\"Número de dibéticos: \", numDiabeticos)\n",
    "print(\"Número de no diabéticos: \", numNoDiabeticos)"
   ]
  },
  {
   "cell_type": "markdown",
   "metadata": {},
   "source": [
    "# Partición de datos"
   ]
  },
  {
   "cell_type": "code",
   "execution_count": 10,
   "metadata": {},
   "outputs": [],
   "source": [
    "# Se obtienen los datasets de entrenamiento (train), validación (val) y pruebas (test)\n",
    "train_set, test_set = train_test_split(dfDiabetes, test_size=0.4, random_state=14, shuffle=True, stratify=dfDiabetes['SupGrPreDiabetes'])\n",
    "val_set, test_set = train_test_split(test_set, test_size=0.5, random_state=14, shuffle=True, stratify=test_set['SupGrPreDiabetes'])\n",
    "\n",
    "X_train = train_set.drop('SupGrPreDiabetes', axis=1)\n",
    "y_train = train_set['SupGrPreDiabetes'].copy()\n",
    "\n",
    "X_val = val_set.drop('SupGrPreDiabetes', axis=1)\n",
    "y_val = val_set['SupGrPreDiabetes'].copy()\n",
    "\n",
    "X_test = test_set.drop('SupGrPreDiabetes', axis=1)\n",
    "y_test = test_set['SupGrPreDiabetes'].copy()"
   ]
  },
  {
   "cell_type": "code",
   "execution_count": 11,
   "metadata": {},
   "outputs": [
    {
     "name": "stdout",
     "output_type": "stream",
     "text": [
      "Logintud del Training set: 137793\n",
      "Logintud del Validation set: 45931\n",
      "Logintud del Test set: 45931\n"
     ]
    }
   ],
   "source": [
    "print(\"Logintud del Training set:\", len(train_set))\n",
    "print(\"Logintud del Validation set:\", len(val_set))\n",
    "print(\"Logintud del Test set:\", len(test_set))"
   ]
  },
  {
   "cell_type": "code",
   "execution_count": 12,
   "metadata": {},
   "outputs": [
    {
     "name": "stdout",
     "output_type": "stream",
     "text": [
      "Epoch 1/20\n",
      "270/270 [==============================] - 1s 3ms/step - loss: 0.3694 - acc: 0.8414 - val_loss: 0.3558 - val_acc: 0.8448\n",
      "Epoch 2/20\n",
      "270/270 [==============================] - 1s 2ms/step - loss: 0.3606 - acc: 0.8433 - val_loss: 0.3577 - val_acc: 0.8439\n",
      "Epoch 3/20\n",
      "270/270 [==============================] - 1s 2ms/step - loss: 0.3597 - acc: 0.8445 - val_loss: 0.3545 - val_acc: 0.8462\n",
      "Epoch 4/20\n",
      "270/270 [==============================] - 1s 2ms/step - loss: 0.3587 - acc: 0.8442 - val_loss: 0.3588 - val_acc: 0.8449\n",
      "Epoch 5/20\n",
      "270/270 [==============================] - 1s 2ms/step - loss: 0.3590 - acc: 0.8442 - val_loss: 0.3583 - val_acc: 0.8432\n",
      "Epoch 6/20\n",
      "270/270 [==============================] - 1s 2ms/step - loss: 0.3587 - acc: 0.8440 - val_loss: 0.3552 - val_acc: 0.8459\n",
      "Epoch 7/20\n",
      "270/270 [==============================] - 1s 2ms/step - loss: 0.3583 - acc: 0.8443 - val_loss: 0.3554 - val_acc: 0.8464\n",
      "Epoch 8/20\n",
      "270/270 [==============================] - 1s 2ms/step - loss: 0.3574 - acc: 0.8447 - val_loss: 0.3551 - val_acc: 0.8467\n",
      "Epoch 9/20\n",
      "270/270 [==============================] - 1s 2ms/step - loss: 0.3572 - acc: 0.8449 - val_loss: 0.3536 - val_acc: 0.8469\n",
      "Epoch 10/20\n",
      "270/270 [==============================] - 1s 2ms/step - loss: 0.3572 - acc: 0.8451 - val_loss: 0.3538 - val_acc: 0.8469\n",
      "Epoch 11/20\n",
      "270/270 [==============================] - 1s 2ms/step - loss: 0.3570 - acc: 0.8451 - val_loss: 0.3554 - val_acc: 0.8439\n",
      "Epoch 12/20\n",
      "270/270 [==============================] - 1s 2ms/step - loss: 0.3564 - acc: 0.8451 - val_loss: 0.3542 - val_acc: 0.8469\n",
      "Epoch 13/20\n",
      "270/270 [==============================] - 1s 2ms/step - loss: 0.3565 - acc: 0.8452 - val_loss: 0.3569 - val_acc: 0.8440\n",
      "Epoch 14/20\n",
      "270/270 [==============================] - 1s 2ms/step - loss: 0.3564 - acc: 0.8451 - val_loss: 0.3547 - val_acc: 0.8463\n",
      "Epoch 15/20\n",
      "270/270 [==============================] - 1s 2ms/step - loss: 0.3564 - acc: 0.8454 - val_loss: 0.3531 - val_acc: 0.8464\n",
      "Epoch 16/20\n",
      "270/270 [==============================] - 1s 2ms/step - loss: 0.3560 - acc: 0.8455 - val_loss: 0.3538 - val_acc: 0.8464\n",
      "Epoch 17/20\n",
      "270/270 [==============================] - 1s 2ms/step - loss: 0.3558 - acc: 0.8457 - val_loss: 0.3532 - val_acc: 0.8471\n",
      "Epoch 18/20\n",
      "270/270 [==============================] - 1s 2ms/step - loss: 0.3556 - acc: 0.8456 - val_loss: 0.3571 - val_acc: 0.8451\n",
      "Epoch 19/20\n",
      "270/270 [==============================] - 1s 2ms/step - loss: 0.3559 - acc: 0.8448 - val_loss: 0.3546 - val_acc: 0.8455\n",
      "Epoch 20/20\n",
      "270/270 [==============================] - 1s 2ms/step - loss: 0.3558 - acc: 0.8453 - val_loss: 0.3528 - val_acc: 0.8469\n",
      "Tiempo en generación del modelo: 13.602  sg.\n"
     ]
    }
   ],
   "source": [
    "# Obtención del modelo\n",
    "start_time = time.time()\n",
    "model = models.Sequential()\n",
    "model.add(layers.Dense(128, activation='relu', input_shape=(X_train.shape[1],)))\n",
    "model.add(layers.Dense(64, activation='relu'))\n",
    "model.add(layers.Dense(32, activation='relu'))\n",
    "model.add(layers.Dense(16, activation='relu'))\n",
    "model.add(layers.Dense(1, activation='sigmoid'))\n",
    "\n",
    "model.compile(optimizer='adam',\n",
    "             loss='binary_crossentropy',\n",
    "             metrics=['acc'])\n",
    "\n",
    "# Entrenamos el algoritmo\n",
    "history = model.fit(X_train,\n",
    "                    y_train,\n",
    "                    epochs=20, \n",
    "                    batch_size=512,\n",
    "                    validation_data=(X_val, y_val))\n",
    "\n",
    "print(\"Tiempo en generación del modelo:\", round(time.time()-start_time,3), \" sg.\")"
   ]
  },
  {
   "cell_type": "code",
   "execution_count": 13,
   "metadata": {},
   "outputs": [],
   "source": [
    "# Predecimos con el el conjunto de validación\n",
    "y_pred_proba = model.predict(X_val)\n",
    "y_pred = (y_pred_proba > 0.5).astype(int)"
   ]
  },
  {
   "cell_type": "code",
   "execution_count": 14,
   "metadata": {},
   "outputs": [
    {
     "name": "stdout",
     "output_type": "stream",
     "text": [
      "F1 score: 0.812\n"
     ]
    }
   ],
   "source": [
    "print(\"F1 score: {:.3f}\".format(f1_score(y_val, y_pred, average='weighted')))"
   ]
  },
  {
   "cell_type": "code",
   "execution_count": 15,
   "metadata": {},
   "outputs": [
    {
     "name": "stdout",
     "output_type": "stream",
     "text": [
      "F1 score: 0.810\n"
     ]
    }
   ],
   "source": [
    "# Se comprueba con el dataset de prueba\n",
    "y_pred_proba = model.predict(X_test)\n",
    "y_pred = (y_pred_proba > 0.5).astype(int)\n",
    "print(\"F1 score: {:.3f}\".format(f1_score(y_test, y_pred, average='weighted')))"
   ]
  },
  {
   "cell_type": "code",
   "execution_count": 16,
   "metadata": {},
   "outputs": [
    {
     "name": "stdout",
     "output_type": "stream",
     "text": [
      "F1 score: 0.810\n",
      "Precisión (Precision): 0.818\n",
      "Exactitud (Accuracy): 0.846\n",
      "Especificidad (Specificity): 0.976\n",
      "AUC-ROC: 0.581\n"
     ]
    }
   ],
   "source": [
    "print(\"F1 score: {:.3f}\".format(f1_score(y_test, y_pred, average='weighted')))\n",
    "print(\"Precisión (Precision): {:.3f}\".format(precision_score(y_test, y_pred, average='weighted')))\n",
    "print(\"Exactitud (Accuracy): {:.3f}\".format(accuracy_score(y_test, y_pred)))\n",
    "print(\"Especificidad (Specificity): {:.3f}\".format(specificity_score(y_test, y_pred)))\n",
    "print(\"AUC-ROC: {:.3f}\".format(roc_auc_score(y_test, y_pred)))"
   ]
  },
  {
   "cell_type": "code",
   "execution_count": 17,
   "metadata": {},
   "outputs": [],
   "source": [
    "# Obtención de métricas\n",
    "# Se reproduce el proceso pero eliminando las caracteristcas las características LungDiseases, VisionDiff, UrologyDZ,Stroke\n",
    "columns = ['CatBMI','HeartDis','PhysExer','GenHealth','CogDiff',\n",
    "           'Depression', 'PhysHlth', 'WalkDiff','Gender','AgeRange',\n",
    "           'EdLevel', 'SocClass','Asthma', 'Arthritis', 'SmokerTrad',\n",
    "           'AlcDrinker','Race', 'LastMedChk', 'HighBP','HighChol', 'FruitAndVegCon',\n",
    "           'SupGrPreDiabetes']\n",
    "dfDiabetes = dfDiabetes_load[columns].copy()"
   ]
  },
  {
   "cell_type": "code",
   "execution_count": 18,
   "metadata": {},
   "outputs": [],
   "source": [
    "dfDiabetes['SupGrPreDiabetes'] = dfDiabetes['SupGrPreDiabetes'].replace({2: 0, 1: 1})"
   ]
  },
  {
   "cell_type": "code",
   "execution_count": 19,
   "metadata": {},
   "outputs": [
    {
     "name": "stdout",
     "output_type": "stream",
     "text": [
      "<class 'pandas.core.frame.DataFrame'>\n",
      "RangeIndex: 229655 entries, 0 to 229654\n",
      "Data columns (total 22 columns):\n",
      " #   Column            Non-Null Count   Dtype\n",
      "---  ------            --------------   -----\n",
      " 0   CatBMI            229655 non-null  int64\n",
      " 1   HeartDis          229655 non-null  int64\n",
      " 2   PhysExer          229655 non-null  int64\n",
      " 3   GenHealth         229655 non-null  int64\n",
      " 4   CogDiff           229655 non-null  int64\n",
      " 5   Depression        229655 non-null  int64\n",
      " 6   PhysHlth          229655 non-null  int64\n",
      " 7   WalkDiff          229655 non-null  int64\n",
      " 8   Gender            229655 non-null  int64\n",
      " 9   AgeRange          229655 non-null  int64\n",
      " 10  EdLevel           229655 non-null  int64\n",
      " 11  SocClass          229655 non-null  int64\n",
      " 12  Asthma            229655 non-null  int64\n",
      " 13  Arthritis         229655 non-null  int64\n",
      " 14  SmokerTrad        229655 non-null  int64\n",
      " 15  AlcDrinker        229655 non-null  int64\n",
      " 16  Race              229655 non-null  int64\n",
      " 17  LastMedChk        229655 non-null  int64\n",
      " 18  HighBP            229655 non-null  int64\n",
      " 19  HighChol          229655 non-null  int64\n",
      " 20  FruitAndVegCon    229655 non-null  int64\n",
      " 21  SupGrPreDiabetes  229655 non-null  int64\n",
      "dtypes: int64(22)\n",
      "memory usage: 38.5 MB\n"
     ]
    }
   ],
   "source": [
    "dfDiabetes.info()"
   ]
  },
  {
   "cell_type": "code",
   "execution_count": 20,
   "metadata": {},
   "outputs": [
    {
     "data": {
      "text/html": [
       "<div>\n",
       "<style scoped>\n",
       "    .dataframe tbody tr th:only-of-type {\n",
       "        vertical-align: middle;\n",
       "    }\n",
       "\n",
       "    .dataframe tbody tr th {\n",
       "        vertical-align: top;\n",
       "    }\n",
       "\n",
       "    .dataframe thead th {\n",
       "        text-align: right;\n",
       "    }\n",
       "</style>\n",
       "<table border=\"1\" class=\"dataframe\">\n",
       "  <thead>\n",
       "    <tr style=\"text-align: right;\">\n",
       "      <th></th>\n",
       "      <th>CatBMI</th>\n",
       "      <th>HeartDis</th>\n",
       "      <th>PhysExer</th>\n",
       "      <th>GenHealth</th>\n",
       "      <th>CogDiff</th>\n",
       "      <th>Depression</th>\n",
       "      <th>PhysHlth</th>\n",
       "      <th>WalkDiff</th>\n",
       "      <th>Gender</th>\n",
       "      <th>AgeRange</th>\n",
       "      <th>...</th>\n",
       "      <th>Asthma</th>\n",
       "      <th>Arthritis</th>\n",
       "      <th>SmokerTrad</th>\n",
       "      <th>AlcDrinker</th>\n",
       "      <th>Race</th>\n",
       "      <th>LastMedChk</th>\n",
       "      <th>HighBP</th>\n",
       "      <th>HighChol</th>\n",
       "      <th>FruitAndVegCon</th>\n",
       "      <th>SupGrPreDiabetes</th>\n",
       "    </tr>\n",
       "  </thead>\n",
       "  <tbody>\n",
       "    <tr>\n",
       "      <th>0</th>\n",
       "      <td>1</td>\n",
       "      <td>2</td>\n",
       "      <td>2</td>\n",
       "      <td>2</td>\n",
       "      <td>2</td>\n",
       "      <td>2</td>\n",
       "      <td>3</td>\n",
       "      <td>2</td>\n",
       "      <td>2</td>\n",
       "      <td>6</td>\n",
       "      <td>...</td>\n",
       "      <td>2</td>\n",
       "      <td>1</td>\n",
       "      <td>3</td>\n",
       "      <td>1</td>\n",
       "      <td>1</td>\n",
       "      <td>2</td>\n",
       "      <td>2</td>\n",
       "      <td>1</td>\n",
       "      <td>1</td>\n",
       "      <td>0</td>\n",
       "    </tr>\n",
       "    <tr>\n",
       "      <th>1</th>\n",
       "      <td>3</td>\n",
       "      <td>1</td>\n",
       "      <td>2</td>\n",
       "      <td>1</td>\n",
       "      <td>2</td>\n",
       "      <td>2</td>\n",
       "      <td>1</td>\n",
       "      <td>2</td>\n",
       "      <td>2</td>\n",
       "      <td>6</td>\n",
       "      <td>...</td>\n",
       "      <td>1</td>\n",
       "      <td>2</td>\n",
       "      <td>4</td>\n",
       "      <td>1</td>\n",
       "      <td>2</td>\n",
       "      <td>1</td>\n",
       "      <td>1</td>\n",
       "      <td>2</td>\n",
       "      <td>2</td>\n",
       "      <td>1</td>\n",
       "    </tr>\n",
       "    <tr>\n",
       "      <th>2</th>\n",
       "      <td>4</td>\n",
       "      <td>2</td>\n",
       "      <td>1</td>\n",
       "      <td>1</td>\n",
       "      <td>2</td>\n",
       "      <td>2</td>\n",
       "      <td>1</td>\n",
       "      <td>2</td>\n",
       "      <td>2</td>\n",
       "      <td>5</td>\n",
       "      <td>...</td>\n",
       "      <td>1</td>\n",
       "      <td>2</td>\n",
       "      <td>4</td>\n",
       "      <td>2</td>\n",
       "      <td>1</td>\n",
       "      <td>1</td>\n",
       "      <td>1</td>\n",
       "      <td>1</td>\n",
       "      <td>1</td>\n",
       "      <td>1</td>\n",
       "    </tr>\n",
       "    <tr>\n",
       "      <th>3</th>\n",
       "      <td>3</td>\n",
       "      <td>1</td>\n",
       "      <td>1</td>\n",
       "      <td>2</td>\n",
       "      <td>2</td>\n",
       "      <td>2</td>\n",
       "      <td>3</td>\n",
       "      <td>1</td>\n",
       "      <td>1</td>\n",
       "      <td>6</td>\n",
       "      <td>...</td>\n",
       "      <td>1</td>\n",
       "      <td>2</td>\n",
       "      <td>4</td>\n",
       "      <td>1</td>\n",
       "      <td>4</td>\n",
       "      <td>1</td>\n",
       "      <td>1</td>\n",
       "      <td>1</td>\n",
       "      <td>1</td>\n",
       "      <td>1</td>\n",
       "    </tr>\n",
       "    <tr>\n",
       "      <th>4</th>\n",
       "      <td>2</td>\n",
       "      <td>2</td>\n",
       "      <td>2</td>\n",
       "      <td>1</td>\n",
       "      <td>2</td>\n",
       "      <td>2</td>\n",
       "      <td>1</td>\n",
       "      <td>1</td>\n",
       "      <td>1</td>\n",
       "      <td>6</td>\n",
       "      <td>...</td>\n",
       "      <td>1</td>\n",
       "      <td>2</td>\n",
       "      <td>3</td>\n",
       "      <td>1</td>\n",
       "      <td>1</td>\n",
       "      <td>1</td>\n",
       "      <td>2</td>\n",
       "      <td>2</td>\n",
       "      <td>2</td>\n",
       "      <td>0</td>\n",
       "    </tr>\n",
       "  </tbody>\n",
       "</table>\n",
       "<p>5 rows × 22 columns</p>\n",
       "</div>"
      ],
      "text/plain": [
       "   CatBMI  HeartDis  PhysExer  GenHealth  CogDiff  Depression  PhysHlth  \\\n",
       "0       1         2         2          2        2           2         3   \n",
       "1       3         1         2          1        2           2         1   \n",
       "2       4         2         1          1        2           2         1   \n",
       "3       3         1         1          2        2           2         3   \n",
       "4       2         2         2          1        2           2         1   \n",
       "\n",
       "   WalkDiff  Gender  AgeRange  ...  Asthma  Arthritis  SmokerTrad  AlcDrinker  \\\n",
       "0         2       2         6  ...       2          1           3           1   \n",
       "1         2       2         6  ...       1          2           4           1   \n",
       "2         2       2         5  ...       1          2           4           2   \n",
       "3         1       1         6  ...       1          2           4           1   \n",
       "4         1       1         6  ...       1          2           3           1   \n",
       "\n",
       "   Race  LastMedChk  HighBP  HighChol  FruitAndVegCon  SupGrPreDiabetes  \n",
       "0     1           2       2         1               1                 0  \n",
       "1     2           1       1         2               2                 1  \n",
       "2     1           1       1         1               1                 1  \n",
       "3     4           1       1         1               1                 1  \n",
       "4     1           1       2         2               2                 0  \n",
       "\n",
       "[5 rows x 22 columns]"
      ]
     },
     "execution_count": 20,
     "metadata": {},
     "output_type": "execute_result"
    }
   ],
   "source": [
    "dfDiabetes.head()"
   ]
  },
  {
   "cell_type": "code",
   "execution_count": 21,
   "metadata": {},
   "outputs": [],
   "source": [
    "# Se obtienen los datasets de entrenamiento (train), validación (val) y pruebas (test)\n",
    "train_set, test_set = train_test_split(dfDiabetes, test_size=0.4, random_state=14, shuffle=True, stratify=dfDiabetes['SupGrPreDiabetes'])\n",
    "val_set, test_set = train_test_split(test_set, test_size=0.5, random_state=14, shuffle=True, stratify=test_set['SupGrPreDiabetes'])\n",
    "\n",
    "X_train = train_set.drop('SupGrPreDiabetes', axis=1)\n",
    "y_train = train_set['SupGrPreDiabetes'].copy()\n",
    "\n",
    "X_val = val_set.drop('SupGrPreDiabetes', axis=1)\n",
    "y_val = val_set['SupGrPreDiabetes'].copy()\n",
    "\n",
    "X_test = test_set.drop('SupGrPreDiabetes', axis=1)\n",
    "y_test = test_set['SupGrPreDiabetes'].copy()"
   ]
  },
  {
   "cell_type": "code",
   "execution_count": 22,
   "metadata": {},
   "outputs": [
    {
     "name": "stdout",
     "output_type": "stream",
     "text": [
      "Número de registros:  229655\n",
      "Número de dibéticos:  37793\n",
      "Número de no diabéticos:  191862\n"
     ]
    }
   ],
   "source": [
    "numClases = dfDiabetes['SupGrPreDiabetes'].value_counts()\n",
    "numDiabeticos = numClases[1]\n",
    "numNoDiabeticos = numClases[0]\n",
    "print(\"Número de registros: \", len(dfDiabetes)) \n",
    "print(\"Número de dibéticos: \", numDiabeticos)\n",
    "print(\"Número de no diabéticos: \", numNoDiabeticos)"
   ]
  },
  {
   "cell_type": "code",
   "execution_count": 23,
   "metadata": {},
   "outputs": [
    {
     "name": "stdout",
     "output_type": "stream",
     "text": [
      "Epoch 1/20\n",
      "270/270 [==============================] - 1s 3ms/step - loss: 0.3792 - acc: 0.8396 - val_loss: 0.3580 - val_acc: 0.8445\n",
      "Epoch 2/20\n",
      "270/270 [==============================] - 1s 2ms/step - loss: 0.3615 - acc: 0.8431 - val_loss: 0.3623 - val_acc: 0.8409\n",
      "Epoch 3/20\n",
      "270/270 [==============================] - 1s 2ms/step - loss: 0.3607 - acc: 0.8433 - val_loss: 0.3566 - val_acc: 0.8443\n",
      "Epoch 4/20\n",
      "270/270 [==============================] - 1s 2ms/step - loss: 0.3605 - acc: 0.8429 - val_loss: 0.3566 - val_acc: 0.8443\n",
      "Epoch 5/20\n",
      "270/270 [==============================] - 1s 2ms/step - loss: 0.3600 - acc: 0.8436 - val_loss: 0.3618 - val_acc: 0.8425\n",
      "Epoch 6/20\n",
      "270/270 [==============================] - 1s 2ms/step - loss: 0.3598 - acc: 0.8432 - val_loss: 0.3598 - val_acc: 0.8447\n",
      "Epoch 7/20\n",
      "270/270 [==============================] - 1s 3ms/step - loss: 0.3593 - acc: 0.8435 - val_loss: 0.3560 - val_acc: 0.8445\n",
      "Epoch 8/20\n",
      "270/270 [==============================] - 1s 2ms/step - loss: 0.3592 - acc: 0.8440 - val_loss: 0.3579 - val_acc: 0.8431\n",
      "Epoch 9/20\n",
      "270/270 [==============================] - 1s 2ms/step - loss: 0.3589 - acc: 0.8435 - val_loss: 0.3567 - val_acc: 0.8445\n",
      "Epoch 10/20\n",
      "270/270 [==============================] - 1s 2ms/step - loss: 0.3588 - acc: 0.8436 - val_loss: 0.3563 - val_acc: 0.8440\n",
      "Epoch 11/20\n",
      "270/270 [==============================] - 1s 2ms/step - loss: 0.3589 - acc: 0.8435 - val_loss: 0.3561 - val_acc: 0.8437\n",
      "Epoch 12/20\n",
      "270/270 [==============================] - 1s 2ms/step - loss: 0.3587 - acc: 0.8438 - val_loss: 0.3565 - val_acc: 0.8442\n",
      "Epoch 13/20\n",
      "270/270 [==============================] - 1s 2ms/step - loss: 0.3582 - acc: 0.8438 - val_loss: 0.3581 - val_acc: 0.8442\n",
      "Epoch 14/20\n",
      "270/270 [==============================] - 1s 2ms/step - loss: 0.3588 - acc: 0.8438 - val_loss: 0.3551 - val_acc: 0.8446\n",
      "Epoch 15/20\n",
      "270/270 [==============================] - 1s 2ms/step - loss: 0.3584 - acc: 0.8445 - val_loss: 0.3562 - val_acc: 0.8445\n",
      "Epoch 16/20\n",
      "270/270 [==============================] - 1s 2ms/step - loss: 0.3583 - acc: 0.8440 - val_loss: 0.3550 - val_acc: 0.8444\n",
      "Epoch 17/20\n",
      "270/270 [==============================] - 1s 2ms/step - loss: 0.3580 - acc: 0.8442 - val_loss: 0.3641 - val_acc: 0.8420\n",
      "Epoch 18/20\n",
      "270/270 [==============================] - 1s 2ms/step - loss: 0.3581 - acc: 0.8440 - val_loss: 0.3551 - val_acc: 0.8447\n",
      "Epoch 19/20\n",
      "270/270 [==============================] - 1s 2ms/step - loss: 0.3577 - acc: 0.8439 - val_loss: 0.3555 - val_acc: 0.8445\n",
      "Epoch 20/20\n",
      "270/270 [==============================] - 1s 3ms/step - loss: 0.3575 - acc: 0.8443 - val_loss: 0.3556 - val_acc: 0.8448\n",
      "Tiempo en generación del modelo: 13.13  sg.\n"
     ]
    }
   ],
   "source": [
    "# Obtenión del modelo\n",
    "start_time = time.time()\n",
    "model = models.Sequential()\n",
    "model.add(layers.Dense(128, activation='relu', input_shape=(X_train.shape[1],)))\n",
    "model.add(layers.Dense(64, activation='relu'))\n",
    "model.add(layers.Dense(32, activation='relu'))\n",
    "model.add(layers.Dense(16, activation='relu'))\n",
    "model.add(layers.Dense(1, activation='sigmoid'))\n",
    "\n",
    "model.compile(optimizer='adam',\n",
    "             loss='binary_crossentropy',\n",
    "             metrics=['acc'])\n",
    "\n",
    "# Entrenamos el algoritmo\n",
    "history = model.fit(X_train,\n",
    "                    y_train,\n",
    "                    epochs=20,\n",
    "                    batch_size=512,\n",
    "                    validation_data=(X_val, y_val))\n",
    "\n",
    "print(\"Tiempo en generación del modelo:\", round(time.time()-start_time,3), \" sg.\")"
   ]
  },
  {
   "cell_type": "code",
   "execution_count": 24,
   "metadata": {},
   "outputs": [
    {
     "name": "stdout",
     "output_type": "stream",
     "text": [
      "F1 score: 0.812\n"
     ]
    }
   ],
   "source": [
    "#Predecimos con el el conjunto de validación\n",
    "y_pred_proba = model.predict(X_val)\n",
    "y_pred = (y_pred_proba > 0.5).astype(int)\n",
    "print(\"F1 score: {:.3f}\".format(f1_score(y_val, y_pred, average='weighted')))"
   ]
  },
  {
   "cell_type": "code",
   "execution_count": 25,
   "metadata": {},
   "outputs": [
    {
     "name": "stdout",
     "output_type": "stream",
     "text": [
      "F1 score: 0.811\n"
     ]
    }
   ],
   "source": [
    "# Se comprueba con el dataset de prueba\n",
    "y_pred_proba = model.predict(X_test)\n",
    "y_pred = (y_pred_proba > 0.5).astype(int)\n",
    "print(\"F1 score: {:.3f}\".format(f1_score(y_test, y_pred, average='weighted')))"
   ]
  },
  {
   "cell_type": "code",
   "execution_count": 26,
   "metadata": {},
   "outputs": [
    {
     "name": "stdout",
     "output_type": "stream",
     "text": [
      "F1 score: 0.811\n",
      "Precisión (Precision): 0.814\n",
      "Exactitud (Accuracy): 0.844\n",
      "Especificidad (Specificity): 0.972\n",
      "AUC-ROC: 0.585\n"
     ]
    }
   ],
   "source": [
    "print(\"F1 score: {:.3f}\".format(f1_score(y_test, y_pred, average='weighted')))\n",
    "print(\"Precisión (Precision): {:.3f}\".format(precision_score(y_test, y_pred, average='weighted')))\n",
    "print(\"Exactitud (Accuracy): {:.3f}\".format(accuracy_score(y_test, y_pred)))\n",
    "print(\"Especificidad (Specificity): {:.3f}\".format(specificity_score(y_test, y_pred)))\n",
    "print(\"AUC-ROC: {:.3f}\".format(roc_auc_score(y_test, y_pred)))"
   ]
  },
  {
   "cell_type": "markdown",
   "metadata": {},
   "source": [
    "# SMOTE"
   ]
  },
  {
   "cell_type": "code",
   "execution_count": 27,
   "metadata": {},
   "outputs": [],
   "source": [
    "url = 'https://github.com/AndreaCampillo/TFM_PrediDia/raw/Datasets/2021DataSet_Diabeticos_NoDiabeticos_Depurado.csv'\n",
    "dfDiabetes_load = pd.read_csv(url, sep=';')"
   ]
  },
  {
   "cell_type": "code",
   "execution_count": 28,
   "metadata": {},
   "outputs": [
    {
     "name": "stdout",
     "output_type": "stream",
     "text": [
      "<class 'pandas.core.frame.DataFrame'>\n",
      "RangeIndex: 229655 entries, 0 to 229654\n",
      "Data columns (total 45 columns):\n",
      " #   Column              Non-Null Count   Dtype\n",
      "---  ------              --------------   -----\n",
      " 0   Year                229655 non-null  int64\n",
      " 1   CatBMI              229655 non-null  int64\n",
      " 2   Stroke              229655 non-null  int64\n",
      " 3   HeartDis            229655 non-null  int64\n",
      " 4   PhysExer            229655 non-null  int64\n",
      " 5   HealthIns           229655 non-null  int64\n",
      " 6   NoMedCost           229655 non-null  int64\n",
      " 7   GenHealth           229655 non-null  int64\n",
      " 8   CogDiff             229655 non-null  int64\n",
      " 9   Depression          229655 non-null  int64\n",
      " 10  MentalHlth          229655 non-null  int64\n",
      " 11  MentalState         229655 non-null  int64\n",
      " 12  PhysHlth            229655 non-null  int64\n",
      " 13  WalkDiff            229655 non-null  int64\n",
      " 14  Gender              229655 non-null  int64\n",
      " 15  AgeRange            229655 non-null  int64\n",
      " 16  EdLevel             229655 non-null  int64\n",
      " 17  AnnIncome           229655 non-null  int64\n",
      " 18  SocClass            229655 non-null  int64\n",
      " 19  UrologyDz           229655 non-null  int64\n",
      " 20  VisionDiff          229655 non-null  int64\n",
      " 21  Asthma              229655 non-null  int64\n",
      " 22  LungDiseases        229655 non-null  int64\n",
      " 23  Arthritis           229655 non-null  int64\n",
      " 24  SmokerTrad          229655 non-null  int64\n",
      " 25  ECigSmok            229655 non-null  int64\n",
      " 26  AlcDrinker          229655 non-null  int64\n",
      " 27  Race                229655 non-null  int64\n",
      " 28  MaritalSt           229655 non-null  int64\n",
      " 29  LastMedChk          229655 non-null  int64\n",
      " 30  Awareness           229655 non-null  int64\n",
      " 31  FootIrrita          229655 non-null  int64\n",
      " 32  FecFootIrrita       229655 non-null  int64\n",
      " 33  HighBP              229655 non-null  int64\n",
      " 34  HighChol            229655 non-null  int64\n",
      " 35  FruitCons           229655 non-null  int64\n",
      " 36  VegCons             229655 non-null  int64\n",
      " 37  FruitOrVegCon       229655 non-null  int64\n",
      " 38  FruitAndVegCon      229655 non-null  int64\n",
      " 39  MarijuanaCon        229655 non-null  int64\n",
      " 40  SleepHours          229655 non-null  int64\n",
      " 41  BrDiabetes          229655 non-null  int64\n",
      " 42  GrDiabetes          229655 non-null  int64\n",
      " 43  SupGrPreDiabetes    229655 non-null  int64\n",
      " 44  SupGrNoPreDiabetes  229655 non-null  int64\n",
      "dtypes: int64(45)\n",
      "memory usage: 78.8 MB\n"
     ]
    }
   ],
   "source": [
    "dfDiabetes_load.info()"
   ]
  },
  {
   "cell_type": "code",
   "execution_count": 29,
   "metadata": {},
   "outputs": [
    {
     "name": "stdout",
     "output_type": "stream",
     "text": [
      "Index(['Year', 'CatBMI', 'Stroke', 'HeartDis', 'PhysExer', 'HealthIns',\n",
      "       'NoMedCost', 'GenHealth', 'CogDiff', 'Depression', 'MentalHlth',\n",
      "       'MentalState', 'PhysHlth', 'WalkDiff', 'Gender', 'AgeRange', 'EdLevel',\n",
      "       'AnnIncome', 'SocClass', 'UrologyDz', 'VisionDiff', 'Asthma',\n",
      "       'LungDiseases', 'Arthritis', 'SmokerTrad', 'ECigSmok', 'AlcDrinker',\n",
      "       'Race', 'MaritalSt', 'LastMedChk', 'Awareness', 'FootIrrita',\n",
      "       'FecFootIrrita', 'HighBP', 'HighChol', 'FruitCons', 'VegCons',\n",
      "       'FruitOrVegCon', 'FruitAndVegCon', 'MarijuanaCon', 'SleepHours',\n",
      "       'BrDiabetes', 'GrDiabetes', 'SupGrPreDiabetes', 'SupGrNoPreDiabetes'],\n",
      "      dtype='object')\n"
     ]
    }
   ],
   "source": [
    "print(dfDiabetes_load.columns)"
   ]
  },
  {
   "cell_type": "code",
   "execution_count": 30,
   "metadata": {},
   "outputs": [],
   "source": [
    "# Incluye 25 características sin eliminar LungDiseases, VisionDiff, UrologyDZ,Stroke. Se comprobará el rendimiento con estás\n",
    "# últimas y se tomará una decisión.\n",
    "columns = ['CatBMI', 'Stroke', 'HeartDis', 'PhysExer', 'GenHealth', \n",
    "           'CogDiff', 'Depression', 'PhysHlth', 'WalkDiff','Gender', \n",
    "           'AgeRange', 'EdLevel', 'SocClass', 'UrologyDz','VisionDiff',\n",
    "           'Asthma', 'LungDiseases','Arthritis', 'SmokerTrad', 'AlcDrinker', \n",
    "           'Race', 'LastMedChk', 'HighBP','HighChol', 'FruitAndVegCon',\n",
    "           'SupGrPreDiabetes']\n",
    "dfDiabetes = dfDiabetes_load[columns].copy()"
   ]
  },
  {
   "cell_type": "code",
   "execution_count": 31,
   "metadata": {
    "scrolled": true
   },
   "outputs": [
    {
     "name": "stdout",
     "output_type": "stream",
     "text": [
      "<class 'pandas.core.frame.DataFrame'>\n",
      "RangeIndex: 229655 entries, 0 to 229654\n",
      "Data columns (total 26 columns):\n",
      " #   Column            Non-Null Count   Dtype\n",
      "---  ------            --------------   -----\n",
      " 0   CatBMI            229655 non-null  int64\n",
      " 1   Stroke            229655 non-null  int64\n",
      " 2   HeartDis          229655 non-null  int64\n",
      " 3   PhysExer          229655 non-null  int64\n",
      " 4   GenHealth         229655 non-null  int64\n",
      " 5   CogDiff           229655 non-null  int64\n",
      " 6   Depression        229655 non-null  int64\n",
      " 7   PhysHlth          229655 non-null  int64\n",
      " 8   WalkDiff          229655 non-null  int64\n",
      " 9   Gender            229655 non-null  int64\n",
      " 10  AgeRange          229655 non-null  int64\n",
      " 11  EdLevel           229655 non-null  int64\n",
      " 12  SocClass          229655 non-null  int64\n",
      " 13  UrologyDz         229655 non-null  int64\n",
      " 14  VisionDiff        229655 non-null  int64\n",
      " 15  Asthma            229655 non-null  int64\n",
      " 16  LungDiseases      229655 non-null  int64\n",
      " 17  Arthritis         229655 non-null  int64\n",
      " 18  SmokerTrad        229655 non-null  int64\n",
      " 19  AlcDrinker        229655 non-null  int64\n",
      " 20  Race              229655 non-null  int64\n",
      " 21  LastMedChk        229655 non-null  int64\n",
      " 22  HighBP            229655 non-null  int64\n",
      " 23  HighChol          229655 non-null  int64\n",
      " 24  FruitAndVegCon    229655 non-null  int64\n",
      " 25  SupGrPreDiabetes  229655 non-null  int64\n",
      "dtypes: int64(26)\n",
      "memory usage: 45.6 MB\n"
     ]
    }
   ],
   "source": [
    "dfDiabetes.info()"
   ]
  },
  {
   "cell_type": "code",
   "execution_count": 32,
   "metadata": {},
   "outputs": [
    {
     "data": {
      "text/plain": [
       "2    191862\n",
       "1     37793\n",
       "Name: SupGrPreDiabetes, dtype: int64"
      ]
     },
     "execution_count": 32,
     "metadata": {},
     "output_type": "execute_result"
    }
   ],
   "source": [
    "#Clases antes de la normalización\n",
    "dfDiabetes['SupGrPreDiabetes'].value_counts()"
   ]
  },
  {
   "cell_type": "code",
   "execution_count": 33,
   "metadata": {},
   "outputs": [],
   "source": [
    "dfDiabetes['SupGrPreDiabetes'] = dfDiabetes['SupGrPreDiabetes'].replace({2: 0, 1: 1})"
   ]
  },
  {
   "cell_type": "code",
   "execution_count": 34,
   "metadata": {},
   "outputs": [
    {
     "name": "stdout",
     "output_type": "stream",
     "text": [
      "Número de registros:  229655\n",
      "Número de dibéticos:  37793\n",
      "Número de no diabéticos:  191862\n"
     ]
    }
   ],
   "source": [
    "numClases = dfDiabetes['SupGrPreDiabetes'].value_counts()\n",
    "numDiabeticos = numClases[1]\n",
    "numNoDiabeticos = numClases[0]\n",
    "print(\"Número de registros: \", len(dfDiabetes)) \n",
    "print(\"Número de dibéticos: \", numDiabeticos)\n",
    "print(\"Número de no diabéticos: \", numNoDiabeticos)"
   ]
  },
  {
   "cell_type": "code",
   "execution_count": 35,
   "metadata": {},
   "outputs": [
    {
     "data": {
      "text/plain": [
       "0    191862\n",
       "1     37793\n",
       "Name: SupGrPreDiabetes, dtype: int64"
      ]
     },
     "execution_count": 35,
     "metadata": {},
     "output_type": "execute_result"
    }
   ],
   "source": [
    "#Clases despues de la normalización\n",
    "dfDiabetes['SupGrPreDiabetes'].value_counts()"
   ]
  },
  {
   "cell_type": "code",
   "execution_count": 36,
   "metadata": {},
   "outputs": [],
   "source": [
    "# Se obtienen los datasets de entrenamiento (train), validación (val) y pruebas (test)\n",
    "train_set, test_set = train_test_split(dfDiabetes, test_size=0.4, random_state=14, shuffle=True, stratify=dfDiabetes['SupGrPreDiabetes'])\n",
    "val_set, test_set = train_test_split(test_set, test_size=0.5, random_state=14, shuffle=True, stratify=test_set['SupGrPreDiabetes'])\n",
    "\n",
    "X_train = train_set.drop('SupGrPreDiabetes', axis=1)\n",
    "y_train = train_set['SupGrPreDiabetes'].copy()\n",
    "\n",
    "X_val = val_set.drop('SupGrPreDiabetes', axis=1)\n",
    "y_val = val_set['SupGrPreDiabetes'].copy()\n",
    "\n",
    "X_test = test_set.drop('SupGrPreDiabetes', axis=1)\n",
    "y_test = test_set['SupGrPreDiabetes'].copy()"
   ]
  },
  {
   "cell_type": "code",
   "execution_count": 37,
   "metadata": {
    "scrolled": true
   },
   "outputs": [
    {
     "data": {
      "text/plain": [
       "0    38372\n",
       "1     7559\n",
       "Name: SupGrPreDiabetes, dtype: int64"
      ]
     },
     "execution_count": 37,
     "metadata": {},
     "output_type": "execute_result"
    }
   ],
   "source": [
    "y_val.value_counts()"
   ]
  },
  {
   "cell_type": "code",
   "execution_count": 38,
   "metadata": {
    "scrolled": true
   },
   "outputs": [
    {
     "name": "stdout",
     "output_type": "stream",
     "text": [
      "Logintud del Training set: 137793\n",
      "Logintud del Validation set: 45931\n",
      "Logintud del Test set: 45931\n"
     ]
    }
   ],
   "source": [
    "print(\"Logintud del Training set:\", len(train_set))\n",
    "print(\"Logintud del Validation set:\", len(val_set))\n",
    "print(\"Logintud del Test set:\", len(test_set))"
   ]
  },
  {
   "cell_type": "code",
   "execution_count": 39,
   "metadata": {
    "scrolled": true
   },
   "outputs": [],
   "source": [
    "# Obtención de datos de entrenamiento con SMOTE para balanceamiento de los datos\n",
    "smote = SMOTE(sampling_strategy='auto', random_state=14)  \n",
    "X_train_smote, y_train_smote = smote.fit_resample(X_train, y_train)"
   ]
  },
  {
   "cell_type": "code",
   "execution_count": 40,
   "metadata": {},
   "outputs": [
    {
     "data": {
      "text/plain": [
       "1    115117\n",
       "0    115117\n",
       "Name: SupGrPreDiabetes, dtype: int64"
      ]
     },
     "execution_count": 40,
     "metadata": {},
     "output_type": "execute_result"
    }
   ],
   "source": [
    "y_train_smote.value_counts()"
   ]
  },
  {
   "cell_type": "code",
   "execution_count": 41,
   "metadata": {},
   "outputs": [
    {
     "name": "stdout",
     "output_type": "stream",
     "text": [
      "Epoch 1/20\n",
      "450/450 [==============================] - 1s 2ms/step - loss: 0.5254 - acc: 0.7390 - val_loss: 0.5118 - val_acc: 0.7305\n",
      "Epoch 2/20\n",
      "450/450 [==============================] - 1s 2ms/step - loss: 0.5128 - acc: 0.7461 - val_loss: 0.5254 - val_acc: 0.7181\n",
      "Epoch 3/20\n",
      "450/450 [==============================] - 1s 2ms/step - loss: 0.5078 - acc: 0.7486 - val_loss: 0.4970 - val_acc: 0.7371\n",
      "Epoch 4/20\n",
      "450/450 [==============================] - 1s 2ms/step - loss: 0.5036 - acc: 0.7517 - val_loss: 0.5616 - val_acc: 0.6960\n",
      "Epoch 5/20\n",
      "450/450 [==============================] - 1s 2ms/step - loss: 0.5019 - acc: 0.7536 - val_loss: 0.5212 - val_acc: 0.7240\n",
      "Epoch 6/20\n",
      "450/450 [==============================] - 1s 2ms/step - loss: 0.4984 - acc: 0.7555 - val_loss: 0.4649 - val_acc: 0.7622\n",
      "Epoch 7/20\n",
      "450/450 [==============================] - 1s 2ms/step - loss: 0.4968 - acc: 0.7569 - val_loss: 0.5373 - val_acc: 0.7101\n",
      "Epoch 8/20\n",
      "450/450 [==============================] - 1s 2ms/step - loss: 0.4956 - acc: 0.7569 - val_loss: 0.5041 - val_acc: 0.7365\n",
      "Epoch 9/20\n",
      "450/450 [==============================] - 1s 2ms/step - loss: 0.4946 - acc: 0.7577 - val_loss: 0.5467 - val_acc: 0.7079\n",
      "Epoch 10/20\n",
      "450/450 [==============================] - 1s 2ms/step - loss: 0.4933 - acc: 0.7587 - val_loss: 0.4855 - val_acc: 0.7478\n",
      "Epoch 11/20\n",
      "450/450 [==============================] - 1s 2ms/step - loss: 0.4920 - acc: 0.7588 - val_loss: 0.4783 - val_acc: 0.7520\n",
      "Epoch 12/20\n",
      "450/450 [==============================] - 1s 2ms/step - loss: 0.4912 - acc: 0.7603 - val_loss: 0.4962 - val_acc: 0.7384\n",
      "Epoch 13/20\n",
      "450/450 [==============================] - 1s 2ms/step - loss: 0.4907 - acc: 0.7599 - val_loss: 0.5657 - val_acc: 0.6952\n",
      "Epoch 14/20\n",
      "450/450 [==============================] - 1s 2ms/step - loss: 0.4896 - acc: 0.7600 - val_loss: 0.5405 - val_acc: 0.7092\n",
      "Epoch 15/20\n",
      "450/450 [==============================] - 1s 2ms/step - loss: 0.4895 - acc: 0.7611 - val_loss: 0.4831 - val_acc: 0.7514\n",
      "Epoch 16/20\n",
      "450/450 [==============================] - 1s 2ms/step - loss: 0.4891 - acc: 0.7607 - val_loss: 0.5312 - val_acc: 0.7169\n",
      "Epoch 17/20\n",
      "450/450 [==============================] - 1s 2ms/step - loss: 0.4871 - acc: 0.7622 - val_loss: 0.4953 - val_acc: 0.7426\n",
      "Epoch 18/20\n",
      "450/450 [==============================] - 1s 2ms/step - loss: 0.4865 - acc: 0.7630 - val_loss: 0.4838 - val_acc: 0.7495\n",
      "Epoch 19/20\n",
      "450/450 [==============================] - 1s 2ms/step - loss: 0.4859 - acc: 0.7625 - val_loss: 0.5488 - val_acc: 0.7050\n",
      "Epoch 20/20\n",
      "450/450 [==============================] - 1s 2ms/step - loss: 0.4849 - acc: 0.7637 - val_loss: 0.5213 - val_acc: 0.7240\n",
      "Tiempo en generación del modelo: 20.324  sg.\n"
     ]
    }
   ],
   "source": [
    "# Se obtiene el modelo\n",
    "start_time = time.time()\n",
    "model = models.Sequential()\n",
    "model.add(layers.Dense(128, activation='relu', input_shape=(X_train.shape[1],)))\n",
    "model.add(layers.Dense(64, activation='relu'))\n",
    "model.add(layers.Dense(32, activation='relu'))\n",
    "model.add(layers.Dense(16, activation='relu'))\n",
    "model.add(layers.Dense(1, activation='sigmoid'))\n",
    "\n",
    "model.compile(optimizer='adam',\n",
    "             loss='binary_crossentropy',\n",
    "             metrics=['acc'])\n",
    "\n",
    "# Entrenamos el algoritmo\n",
    "history = model.fit(X_train_smote,\n",
    "                    y_train_smote,\n",
    "                    epochs=20,\n",
    "                    batch_size=512,\n",
    "                    validation_data=(X_val, y_val))\n",
    "\n",
    "print(\"Tiempo en generación del modelo:\", round(time.time()-start_time,3), \" sg.\")"
   ]
  },
  {
   "cell_type": "code",
   "execution_count": 42,
   "metadata": {},
   "outputs": [
    {
     "name": "stdout",
     "output_type": "stream",
     "text": [
      "F1 score: 0.756\n"
     ]
    }
   ],
   "source": [
    "#Predecimos con el el conjunto de validación\n",
    "y_pred_proba = model.predict(X_val)\n",
    "y_pred = (y_pred_proba > 0.5).astype(int)\n",
    "print(\"F1 score: {:.3f}\".format(f1_score(y_val, y_pred, average='weighted')))"
   ]
  },
  {
   "cell_type": "code",
   "execution_count": 43,
   "metadata": {},
   "outputs": [],
   "source": [
    "#Predecimos con el el conjunto de validación\n",
    "y_pred_proba = model.predict(X_test)\n",
    "y_pred = (y_pred_proba > 0.5).astype(int)"
   ]
  },
  {
   "cell_type": "code",
   "execution_count": 44,
   "metadata": {},
   "outputs": [
    {
     "name": "stdout",
     "output_type": "stream",
     "text": [
      "F1 score: 0.751\n",
      "Precisión (Precision): 0.826\n",
      "Exactitud (Accuracy): 0.717\n",
      "Especificidad (Specificity): 0.721\n",
      "AUC-ROC: 0.710\n"
     ]
    }
   ],
   "source": [
    "print(\"F1 score: {:.3f}\".format(f1_score(y_test, y_pred, average='weighted')))\n",
    "print(\"Precisión (Precision): {:.3f}\".format(precision_score(y_test, y_pred, average='weighted')))\n",
    "print(\"Exactitud (Accuracy): {:.3f}\".format(accuracy_score(y_test, y_pred)))\n",
    "print(\"Especificidad (Specificity): {:.3f}\".format(specificity_score(y_test, y_pred)))\n",
    "print(\"AUC-ROC: {:.3f}\".format(roc_auc_score(y_test, y_pred)))"
   ]
  },
  {
   "cell_type": "code",
   "execution_count": 45,
   "metadata": {},
   "outputs": [],
   "source": [
    "# Se aplicac SMOTE con las 21 características que fueron óptimas\n",
    "# Se reproduce el proceso pero eliminando las caracteristcas las características LungDiseases, VisionDiff, UrologyDZ,Stroke\n",
    "columns = ['CatBMI','HeartDis','PhysExer','GenHealth','CogDiff',\n",
    "           'Depression', 'PhysHlth', 'WalkDiff','Gender','AgeRange',\n",
    "           'EdLevel', 'SocClass','Asthma', 'Arthritis', 'SmokerTrad',\n",
    "           'AlcDrinker','Race', 'LastMedChk', 'HighBP','HighChol', 'FruitAndVegCon',\n",
    "           'SupGrPreDiabetes']\n",
    "dfDiabetes = dfDiabetes_load[columns].copy()"
   ]
  },
  {
   "cell_type": "code",
   "execution_count": 46,
   "metadata": {
    "scrolled": true
   },
   "outputs": [
    {
     "name": "stdout",
     "output_type": "stream",
     "text": [
      "<class 'pandas.core.frame.DataFrame'>\n",
      "RangeIndex: 229655 entries, 0 to 229654\n",
      "Data columns (total 22 columns):\n",
      " #   Column            Non-Null Count   Dtype\n",
      "---  ------            --------------   -----\n",
      " 0   CatBMI            229655 non-null  int64\n",
      " 1   HeartDis          229655 non-null  int64\n",
      " 2   PhysExer          229655 non-null  int64\n",
      " 3   GenHealth         229655 non-null  int64\n",
      " 4   CogDiff           229655 non-null  int64\n",
      " 5   Depression        229655 non-null  int64\n",
      " 6   PhysHlth          229655 non-null  int64\n",
      " 7   WalkDiff          229655 non-null  int64\n",
      " 8   Gender            229655 non-null  int64\n",
      " 9   AgeRange          229655 non-null  int64\n",
      " 10  EdLevel           229655 non-null  int64\n",
      " 11  SocClass          229655 non-null  int64\n",
      " 12  Asthma            229655 non-null  int64\n",
      " 13  Arthritis         229655 non-null  int64\n",
      " 14  SmokerTrad        229655 non-null  int64\n",
      " 15  AlcDrinker        229655 non-null  int64\n",
      " 16  Race              229655 non-null  int64\n",
      " 17  LastMedChk        229655 non-null  int64\n",
      " 18  HighBP            229655 non-null  int64\n",
      " 19  HighChol          229655 non-null  int64\n",
      " 20  FruitAndVegCon    229655 non-null  int64\n",
      " 21  SupGrPreDiabetes  229655 non-null  int64\n",
      "dtypes: int64(22)\n",
      "memory usage: 38.5 MB\n"
     ]
    }
   ],
   "source": [
    "dfDiabetes.info()"
   ]
  },
  {
   "cell_type": "code",
   "execution_count": 47,
   "metadata": {},
   "outputs": [
    {
     "data": {
      "text/plain": [
       "2    191862\n",
       "1     37793\n",
       "Name: SupGrPreDiabetes, dtype: int64"
      ]
     },
     "execution_count": 47,
     "metadata": {},
     "output_type": "execute_result"
    }
   ],
   "source": [
    "#Clases antes de la normalización\n",
    "dfDiabetes['SupGrPreDiabetes'].value_counts()"
   ]
  },
  {
   "cell_type": "code",
   "execution_count": 48,
   "metadata": {},
   "outputs": [],
   "source": [
    "dfDiabetes['SupGrPreDiabetes'] = dfDiabetes['SupGrPreDiabetes'].replace({2: 0, 1: 1})"
   ]
  },
  {
   "cell_type": "code",
   "execution_count": 49,
   "metadata": {},
   "outputs": [
    {
     "name": "stdout",
     "output_type": "stream",
     "text": [
      "Número de registros:  229655\n",
      "Número de dibéticos:  37793\n",
      "Número de no diabéticos:  191862\n"
     ]
    }
   ],
   "source": [
    "numClases = dfDiabetes['SupGrPreDiabetes'].value_counts()\n",
    "numDiabeticos = numClases[1]\n",
    "numNoDiabeticos = numClases[0]\n",
    "print(\"Número de registros: \", len(dfDiabetes)) \n",
    "print(\"Número de dibéticos: \", numDiabeticos)\n",
    "print(\"Número de no diabéticos: \", numNoDiabeticos)"
   ]
  },
  {
   "cell_type": "code",
   "execution_count": 50,
   "metadata": {},
   "outputs": [
    {
     "data": {
      "text/plain": [
       "0    191862\n",
       "1     37793\n",
       "Name: SupGrPreDiabetes, dtype: int64"
      ]
     },
     "execution_count": 50,
     "metadata": {},
     "output_type": "execute_result"
    }
   ],
   "source": [
    "#Clases despues de la normalización\n",
    "dfDiabetes['SupGrPreDiabetes'].value_counts()"
   ]
  },
  {
   "cell_type": "code",
   "execution_count": 51,
   "metadata": {},
   "outputs": [],
   "source": [
    "# Se obtienen los datasets de entrenamiento (train), validación (val) y pruebas (test)\n",
    "train_set, test_set = train_test_split(dfDiabetes, test_size=0.4, random_state=14, shuffle=True, stratify=dfDiabetes['SupGrPreDiabetes'])\n",
    "val_set, test_set = train_test_split(test_set, test_size=0.5, random_state=14, shuffle=True, stratify=test_set['SupGrPreDiabetes'])\n",
    "\n",
    "X_train = train_set.drop('SupGrPreDiabetes', axis=1)\n",
    "y_train = train_set['SupGrPreDiabetes'].copy()\n",
    "\n",
    "X_val = val_set.drop('SupGrPreDiabetes', axis=1)\n",
    "y_val = val_set['SupGrPreDiabetes'].copy()\n",
    "\n",
    "X_test = test_set.drop('SupGrPreDiabetes', axis=1)\n",
    "y_test = test_set['SupGrPreDiabetes'].copy()"
   ]
  },
  {
   "cell_type": "code",
   "execution_count": 52,
   "metadata": {
    "scrolled": true
   },
   "outputs": [
    {
     "data": {
      "text/plain": [
       "0    38372\n",
       "1     7559\n",
       "Name: SupGrPreDiabetes, dtype: int64"
      ]
     },
     "execution_count": 52,
     "metadata": {},
     "output_type": "execute_result"
    }
   ],
   "source": [
    "y_val.value_counts()"
   ]
  },
  {
   "cell_type": "code",
   "execution_count": 53,
   "metadata": {
    "scrolled": true
   },
   "outputs": [
    {
     "name": "stdout",
     "output_type": "stream",
     "text": [
      "Logintud del Training set: 137793\n",
      "Logintud del Validation set: 45931\n",
      "Logintud del Test set: 45931\n"
     ]
    }
   ],
   "source": [
    "print(\"Logintud del Training set:\", len(train_set))\n",
    "print(\"Logintud del Validation set:\", len(val_set))\n",
    "print(\"Logintud del Test set:\", len(test_set))"
   ]
  },
  {
   "cell_type": "code",
   "execution_count": 54,
   "metadata": {
    "scrolled": true
   },
   "outputs": [],
   "source": [
    "# Obtención de datos de entrenamiento con SMOTE para balanceamiento de los datos\n",
    "smote = SMOTE(sampling_strategy='auto', random_state=14)  \n",
    "X_train_smote, y_train_smote = smote.fit_resample(X_train, y_train)"
   ]
  },
  {
   "cell_type": "code",
   "execution_count": 55,
   "metadata": {},
   "outputs": [
    {
     "data": {
      "text/plain": [
       "1    115117\n",
       "0    115117\n",
       "Name: SupGrPreDiabetes, dtype: int64"
      ]
     },
     "execution_count": 55,
     "metadata": {},
     "output_type": "execute_result"
    }
   ],
   "source": [
    "y_train_smote.value_counts()"
   ]
  },
  {
   "cell_type": "code",
   "execution_count": 56,
   "metadata": {},
   "outputs": [
    {
     "name": "stdout",
     "output_type": "stream",
     "text": [
      "Epoch 1/20\n",
      "450/450 [==============================] - 2s 2ms/step - loss: 0.5294 - acc: 0.7357 - val_loss: 0.4906 - val_acc: 0.7440\n",
      "Epoch 2/20\n",
      "450/450 [==============================] - 1s 2ms/step - loss: 0.5141 - acc: 0.7459 - val_loss: 0.5469 - val_acc: 0.7032\n",
      "Epoch 3/20\n",
      "450/450 [==============================] - 1s 2ms/step - loss: 0.5096 - acc: 0.7485 - val_loss: 0.6170 - val_acc: 0.6569\n",
      "Epoch 4/20\n",
      "450/450 [==============================] - 1s 2ms/step - loss: 0.5065 - acc: 0.7507 - val_loss: 0.5329 - val_acc: 0.7093\n",
      "Epoch 5/20\n",
      "450/450 [==============================] - 1s 2ms/step - loss: 0.5038 - acc: 0.7526 - val_loss: 0.5152 - val_acc: 0.7266\n",
      "Epoch 6/20\n",
      "450/450 [==============================] - 1s 2ms/step - loss: 0.5023 - acc: 0.7529 - val_loss: 0.4964 - val_acc: 0.7339\n",
      "Epoch 7/20\n",
      "450/450 [==============================] - 1s 2ms/step - loss: 0.5007 - acc: 0.7545 - val_loss: 0.4622 - val_acc: 0.7635\n",
      "Epoch 8/20\n",
      "450/450 [==============================] - 1s 2ms/step - loss: 0.4993 - acc: 0.7551 - val_loss: 0.5867 - val_acc: 0.6772\n",
      "Epoch 9/20\n",
      "450/450 [==============================] - 1s 2ms/step - loss: 0.4978 - acc: 0.7557 - val_loss: 0.5379 - val_acc: 0.7121\n",
      "Epoch 10/20\n",
      "450/450 [==============================] - 1s 2ms/step - loss: 0.4974 - acc: 0.7560 - val_loss: 0.4946 - val_acc: 0.7383\n",
      "Epoch 11/20\n",
      "450/450 [==============================] - 1s 2ms/step - loss: 0.4955 - acc: 0.7573 - val_loss: 0.5149 - val_acc: 0.7175\n",
      "Epoch 12/20\n",
      "450/450 [==============================] - 1s 2ms/step - loss: 0.4946 - acc: 0.7577 - val_loss: 0.5361 - val_acc: 0.7145\n",
      "Epoch 13/20\n",
      "450/450 [==============================] - 1s 2ms/step - loss: 0.4945 - acc: 0.7581 - val_loss: 0.5556 - val_acc: 0.7029\n",
      "Epoch 14/20\n",
      "450/450 [==============================] - 1s 2ms/step - loss: 0.4927 - acc: 0.7584 - val_loss: 0.5215 - val_acc: 0.7209\n",
      "Epoch 15/20\n",
      "450/450 [==============================] - 1s 2ms/step - loss: 0.4926 - acc: 0.7585 - val_loss: 0.5322 - val_acc: 0.7122\n",
      "Epoch 16/20\n",
      "450/450 [==============================] - 1s 2ms/step - loss: 0.4912 - acc: 0.7595 - val_loss: 0.5190 - val_acc: 0.7267\n",
      "Epoch 17/20\n",
      "450/450 [==============================] - 1s 2ms/step - loss: 0.4904 - acc: 0.7600 - val_loss: 0.4902 - val_acc: 0.7486\n",
      "Epoch 18/20\n",
      "450/450 [==============================] - 1s 2ms/step - loss: 0.4901 - acc: 0.7605 - val_loss: 0.5240 - val_acc: 0.7176\n",
      "Epoch 19/20\n",
      "450/450 [==============================] - 1s 2ms/step - loss: 0.4885 - acc: 0.7612 - val_loss: 0.4682 - val_acc: 0.7621\n",
      "Epoch 20/20\n",
      "450/450 [==============================] - 1s 2ms/step - loss: 0.4883 - acc: 0.7619 - val_loss: 0.5479 - val_acc: 0.7026\n",
      "Tiempo en generación del modelo: 20.738  sg.\n"
     ]
    }
   ],
   "source": [
    "# Obtención del modelo\n",
    "start_time = time.time()\n",
    "model = models.Sequential()\n",
    "model.add(layers.Dense(128, activation='relu', input_shape=(X_train.shape[1],)))\n",
    "model.add(layers.Dense(64, activation='relu'))\n",
    "model.add(layers.Dense(32, activation='relu'))\n",
    "model.add(layers.Dense(16, activation='relu'))\n",
    "model.add(layers.Dense(1, activation='sigmoid'))\n",
    "\n",
    "model.compile(optimizer='adam',\n",
    "             loss='binary_crossentropy',\n",
    "             metrics=['acc'])\n",
    "\n",
    "# Entrenamos el algoritmo\n",
    "history = model.fit(X_train_smote,\n",
    "                    y_train_smote,\n",
    "                    epochs=20,\n",
    "                    batch_size=512,\n",
    "                    validation_data=(X_val, y_val))\n",
    "\n",
    "print(\"Tiempo en generación del modelo:\", round(time.time()-start_time,3), \" sg.\")"
   ]
  },
  {
   "cell_type": "code",
   "execution_count": 57,
   "metadata": {},
   "outputs": [
    {
     "name": "stdout",
     "output_type": "stream",
     "text": [
      "F1 score: 0.739\n"
     ]
    }
   ],
   "source": [
    "#Predecimos con el el conjunto de validación\n",
    "y_pred_proba = model.predict(X_val)\n",
    "y_pred = (y_pred_proba > 0.5).astype(int)\n",
    "print(\"F1 score: {:.3f}\".format(f1_score(y_val, y_pred, average='weighted')))"
   ]
  },
  {
   "cell_type": "code",
   "execution_count": 58,
   "metadata": {},
   "outputs": [],
   "source": [
    "#Predecimos con el el conjunto de validación\n",
    "y_pred_proba = model.predict(X_test)\n",
    "y_pred = (y_pred_proba > 0.5).astype(int)"
   ]
  },
  {
   "cell_type": "code",
   "execution_count": 59,
   "metadata": {},
   "outputs": [
    {
     "name": "stdout",
     "output_type": "stream",
     "text": [
      "F1 score: 0.735\n",
      "Precisión (Precision): 0.828\n",
      "Exactitud (Accuracy): 0.698\n",
      "Especificidad (Specificity): 0.692\n",
      "AUC-ROC: 0.710\n"
     ]
    }
   ],
   "source": [
    "print(\"F1 score: {:.3f}\".format(f1_score(y_test, y_pred, average='weighted')))\n",
    "print(\"Precisión (Precision): {:.3f}\".format(precision_score(y_test, y_pred, average='weighted')))\n",
    "print(\"Exactitud (Accuracy): {:.3f}\".format(accuracy_score(y_test, y_pred)))\n",
    "print(\"Especificidad (Specificity): {:.3f}\".format(specificity_score(y_test, y_pred)))\n",
    "print(\"AUC-ROC: {:.3f}\".format(roc_auc_score(y_test, y_pred)))"
   ]
  },
  {
   "cell_type": "markdown",
   "metadata": {},
   "source": [
    "# Dataset 2021_22\n",
    "Se realiza el mismo test con los datos unificados de 2021 y 2022, por ese motivo se eliminan las caracteríticas HighBP, HighChol, FruitAndVegCon por no estar presentes en el dataset del 2022 "
   ]
  },
  {
   "cell_type": "code",
   "execution_count": 60,
   "metadata": {},
   "outputs": [],
   "source": [
    "url = 'https://github.com/AndreaCampillo/TFM_PrediDia/raw/Datasets/2021_22DataSet_Diabeticos_NoDiabeticos_Depurado.csv'\n",
    "dfDiabetes_load = pd.read_csv(url, sep=';')"
   ]
  },
  {
   "cell_type": "code",
   "execution_count": 61,
   "metadata": {},
   "outputs": [
    {
     "name": "stdout",
     "output_type": "stream",
     "text": [
      "<class 'pandas.core.frame.DataFrame'>\n",
      "RangeIndex: 503592 entries, 0 to 503591\n",
      "Data columns (total 45 columns):\n",
      " #   Column              Non-Null Count   Dtype\n",
      "---  ------              --------------   -----\n",
      " 0   Year                503592 non-null  int64\n",
      " 1   CatBMI              503592 non-null  int64\n",
      " 2   Stroke              503592 non-null  int64\n",
      " 3   HeartDis            503592 non-null  int64\n",
      " 4   PhysExer            503592 non-null  int64\n",
      " 5   HealthIns           503592 non-null  int64\n",
      " 6   NoMedCost           503592 non-null  int64\n",
      " 7   GenHealth           503592 non-null  int64\n",
      " 8   CogDiff             503592 non-null  int64\n",
      " 9   Depression          503592 non-null  int64\n",
      " 10  MentalHlth          503592 non-null  int64\n",
      " 11  MentalState         503592 non-null  int64\n",
      " 12  PhysHlth            503592 non-null  int64\n",
      " 13  WalkDiff            503592 non-null  int64\n",
      " 14  Gender              503592 non-null  int64\n",
      " 15  AgeRange            503592 non-null  int64\n",
      " 16  EdLevel             503592 non-null  int64\n",
      " 17  AnnIncome           503592 non-null  int64\n",
      " 18  SocClass            503592 non-null  int64\n",
      " 19  UrologyDz           503592 non-null  int64\n",
      " 20  VisionDiff          503592 non-null  int64\n",
      " 21  Asthma              503592 non-null  int64\n",
      " 22  LungDiseases        503592 non-null  int64\n",
      " 23  Arthritis           503592 non-null  int64\n",
      " 24  SmokerTrad          503592 non-null  int64\n",
      " 25  ECigSmok            503592 non-null  int64\n",
      " 26  AlcDrinker          503592 non-null  int64\n",
      " 27  Race                503592 non-null  int64\n",
      " 28  MaritalSt           503592 non-null  int64\n",
      " 29  LastMedChk          503592 non-null  int64\n",
      " 30  Awareness           503592 non-null  int64\n",
      " 31  FootIrrita          503592 non-null  int64\n",
      " 32  FecFootIrrita       503592 non-null  int64\n",
      " 33  HighBP              503592 non-null  int64\n",
      " 34  HighChol            503592 non-null  int64\n",
      " 35  FruitCons           503592 non-null  int64\n",
      " 36  VegCons             503592 non-null  int64\n",
      " 37  FruitOrVegCon       503592 non-null  int64\n",
      " 38  FruitAndVegCon      503592 non-null  int64\n",
      " 39  MarijuanaCon        503592 non-null  int64\n",
      " 40  SleepHours          503592 non-null  int64\n",
      " 41  BrDiabetes          503592 non-null  int64\n",
      " 42  GrDiabetes          503592 non-null  int64\n",
      " 43  SupGrPreDiabetes    503592 non-null  int64\n",
      " 44  SupGrNoPreDiabetes  503592 non-null  int64\n",
      "dtypes: int64(45)\n",
      "memory usage: 172.9 MB\n"
     ]
    }
   ],
   "source": [
    "dfDiabetes_load.info()"
   ]
  },
  {
   "cell_type": "code",
   "execution_count": 62,
   "metadata": {},
   "outputs": [
    {
     "name": "stdout",
     "output_type": "stream",
     "text": [
      "Index(['Year', 'CatBMI', 'Stroke', 'HeartDis', 'PhysExer', 'HealthIns',\n",
      "       'NoMedCost', 'GenHealth', 'CogDiff', 'Depression', 'MentalHlth',\n",
      "       'MentalState', 'PhysHlth', 'WalkDiff', 'Gender', 'AgeRange', 'EdLevel',\n",
      "       'AnnIncome', 'SocClass', 'UrologyDz', 'VisionDiff', 'Asthma',\n",
      "       'LungDiseases', 'Arthritis', 'SmokerTrad', 'ECigSmok', 'AlcDrinker',\n",
      "       'Race', 'MaritalSt', 'LastMedChk', 'Awareness', 'FootIrrita',\n",
      "       'FecFootIrrita', 'HighBP', 'HighChol', 'FruitCons', 'VegCons',\n",
      "       'FruitOrVegCon', 'FruitAndVegCon', 'MarijuanaCon', 'SleepHours',\n",
      "       'BrDiabetes', 'GrDiabetes', 'SupGrPreDiabetes', 'SupGrNoPreDiabetes'],\n",
      "      dtype='object')\n"
     ]
    }
   ],
   "source": [
    "print(dfDiabetes_load.columns)"
   ]
  },
  {
   "cell_type": "code",
   "execution_count": 63,
   "metadata": {},
   "outputs": [],
   "source": [
    "# Se reproduce el proceso con las características seleccionadas y comunes al 2021 y 2022\n",
    "columns = ['CatBMI','HeartDis','PhysExer','GenHealth','CogDiff',\n",
    "           'Depression', 'PhysHlth', 'WalkDiff','Gender','AgeRange',\n",
    "           'EdLevel', 'SocClass','Asthma', 'Arthritis', 'SmokerTrad',\n",
    "           'AlcDrinker','Race', 'LastMedChk','SupGrPreDiabetes']\n",
    "dfDiabetes = dfDiabetes_load[columns].copy()"
   ]
  },
  {
   "cell_type": "code",
   "execution_count": 64,
   "metadata": {
    "scrolled": true
   },
   "outputs": [
    {
     "name": "stdout",
     "output_type": "stream",
     "text": [
      "<class 'pandas.core.frame.DataFrame'>\n",
      "RangeIndex: 503592 entries, 0 to 503591\n",
      "Data columns (total 19 columns):\n",
      " #   Column            Non-Null Count   Dtype\n",
      "---  ------            --------------   -----\n",
      " 0   CatBMI            503592 non-null  int64\n",
      " 1   HeartDis          503592 non-null  int64\n",
      " 2   PhysExer          503592 non-null  int64\n",
      " 3   GenHealth         503592 non-null  int64\n",
      " 4   CogDiff           503592 non-null  int64\n",
      " 5   Depression        503592 non-null  int64\n",
      " 6   PhysHlth          503592 non-null  int64\n",
      " 7   WalkDiff          503592 non-null  int64\n",
      " 8   Gender            503592 non-null  int64\n",
      " 9   AgeRange          503592 non-null  int64\n",
      " 10  EdLevel           503592 non-null  int64\n",
      " 11  SocClass          503592 non-null  int64\n",
      " 12  Asthma            503592 non-null  int64\n",
      " 13  Arthritis         503592 non-null  int64\n",
      " 14  SmokerTrad        503592 non-null  int64\n",
      " 15  AlcDrinker        503592 non-null  int64\n",
      " 16  Race              503592 non-null  int64\n",
      " 17  LastMedChk        503592 non-null  int64\n",
      " 18  SupGrPreDiabetes  503592 non-null  int64\n",
      "dtypes: int64(19)\n",
      "memory usage: 73.0 MB\n"
     ]
    }
   ],
   "source": [
    "dfDiabetes.info()"
   ]
  },
  {
   "cell_type": "code",
   "execution_count": 65,
   "metadata": {},
   "outputs": [
    {
     "data": {
      "text/plain": [
       "2    422532\n",
       "1     81060\n",
       "Name: SupGrPreDiabetes, dtype: int64"
      ]
     },
     "execution_count": 65,
     "metadata": {},
     "output_type": "execute_result"
    }
   ],
   "source": [
    "#Clases antes de la normalización\n",
    "dfDiabetes['SupGrPreDiabetes'].value_counts()"
   ]
  },
  {
   "cell_type": "code",
   "execution_count": 66,
   "metadata": {},
   "outputs": [],
   "source": [
    "dfDiabetes['SupGrPreDiabetes'] = dfDiabetes['SupGrPreDiabetes'].replace({2: 0, 1: 1})"
   ]
  },
  {
   "cell_type": "code",
   "execution_count": 67,
   "metadata": {},
   "outputs": [
    {
     "data": {
      "text/plain": [
       "0    422532\n",
       "1     81060\n",
       "Name: SupGrPreDiabetes, dtype: int64"
      ]
     },
     "execution_count": 67,
     "metadata": {},
     "output_type": "execute_result"
    }
   ],
   "source": [
    "#Clases despues de la normalización\n",
    "dfDiabetes['SupGrPreDiabetes'].value_counts()"
   ]
  },
  {
   "cell_type": "code",
   "execution_count": 68,
   "metadata": {},
   "outputs": [],
   "source": [
    "# Se obtienen los datasets de entrenamiento (train), validación (val) y pruebas (test)\n",
    "train_set, test_set = train_test_split(dfDiabetes, test_size=0.4, random_state=14, shuffle=True, stratify=dfDiabetes['SupGrPreDiabetes'])\n",
    "val_set, test_set = train_test_split(test_set, test_size=0.5, random_state=14, shuffle=True, stratify=test_set['SupGrPreDiabetes'])\n",
    "\n",
    "X_train = train_set.drop('SupGrPreDiabetes', axis=1)\n",
    "y_train = train_set['SupGrPreDiabetes'].copy()\n",
    "\n",
    "X_val = val_set.drop('SupGrPreDiabetes', axis=1)\n",
    "y_val = val_set['SupGrPreDiabetes'].copy()\n",
    "\n",
    "X_test = test_set.drop('SupGrPreDiabetes', axis=1)\n",
    "y_test = test_set['SupGrPreDiabetes'].copy()"
   ]
  },
  {
   "cell_type": "code",
   "execution_count": 69,
   "metadata": {
    "scrolled": true
   },
   "outputs": [
    {
     "name": "stdout",
     "output_type": "stream",
     "text": [
      "Logintud del Training set: 302155\n",
      "Logintud del Validation set: 100718\n",
      "Logintud del Test set: 100719\n"
     ]
    }
   ],
   "source": [
    "print(\"Logintud del Training set:\", len(train_set))\n",
    "print(\"Logintud del Validation set:\", len(val_set))\n",
    "print(\"Logintud del Test set:\", len(test_set))"
   ]
  },
  {
   "cell_type": "code",
   "execution_count": 70,
   "metadata": {},
   "outputs": [
    {
     "name": "stdout",
     "output_type": "stream",
     "text": [
      "Epoch 1/20\n",
      "591/591 [==============================] - 2s 2ms/step - loss: 0.3731 - acc: 0.8388 - val_loss: 0.3687 - val_acc: 0.8419\n",
      "Epoch 2/20\n",
      "591/591 [==============================] - 1s 2ms/step - loss: 0.3622 - acc: 0.8432 - val_loss: 0.3638 - val_acc: 0.8436\n",
      "Epoch 3/20\n",
      "591/591 [==============================] - 1s 2ms/step - loss: 0.3619 - acc: 0.8434 - val_loss: 0.3630 - val_acc: 0.8434\n",
      "Epoch 4/20\n",
      "591/591 [==============================] - 2s 3ms/step - loss: 0.3613 - acc: 0.8437 - val_loss: 0.3628 - val_acc: 0.8428\n",
      "Epoch 5/20\n",
      "591/591 [==============================] - 1s 2ms/step - loss: 0.3608 - acc: 0.8438 - val_loss: 0.3630 - val_acc: 0.8436\n",
      "Epoch 6/20\n",
      "591/591 [==============================] - 1s 2ms/step - loss: 0.3607 - acc: 0.8437 - val_loss: 0.3653 - val_acc: 0.8434\n",
      "Epoch 7/20\n",
      "591/591 [==============================] - 1s 3ms/step - loss: 0.3606 - acc: 0.8440 - val_loss: 0.3667 - val_acc: 0.8432\n",
      "Epoch 8/20\n",
      "591/591 [==============================] - 1s 2ms/step - loss: 0.3601 - acc: 0.8439 - val_loss: 0.3622 - val_acc: 0.8437\n",
      "Epoch 9/20\n",
      "591/591 [==============================] - 1s 2ms/step - loss: 0.3600 - acc: 0.8438 - val_loss: 0.3630 - val_acc: 0.8437\n",
      "Epoch 10/20\n",
      "591/591 [==============================] - 1s 3ms/step - loss: 0.3601 - acc: 0.8439 - val_loss: 0.3623 - val_acc: 0.8433\n",
      "Epoch 11/20\n",
      "591/591 [==============================] - 1s 2ms/step - loss: 0.3597 - acc: 0.8442 - val_loss: 0.3623 - val_acc: 0.8439\n",
      "Epoch 12/20\n",
      "591/591 [==============================] - 1s 2ms/step - loss: 0.3599 - acc: 0.8439 - val_loss: 0.3651 - val_acc: 0.8423\n",
      "Epoch 13/20\n",
      "591/591 [==============================] - 1s 2ms/step - loss: 0.3596 - acc: 0.8441 - val_loss: 0.3620 - val_acc: 0.8436\n",
      "Epoch 14/20\n",
      "591/591 [==============================] - 1s 2ms/step - loss: 0.3596 - acc: 0.8443 - val_loss: 0.3626 - val_acc: 0.8440\n",
      "Epoch 15/20\n",
      "591/591 [==============================] - 1s 2ms/step - loss: 0.3593 - acc: 0.8444 - val_loss: 0.3621 - val_acc: 0.8432\n",
      "Epoch 16/20\n",
      "591/591 [==============================] - 2s 3ms/step - loss: 0.3591 - acc: 0.8443 - val_loss: 0.3639 - val_acc: 0.8437\n",
      "Epoch 17/20\n",
      "591/591 [==============================] - 1s 2ms/step - loss: 0.3592 - acc: 0.8441 - val_loss: 0.3621 - val_acc: 0.8437\n",
      "Epoch 18/20\n",
      "591/591 [==============================] - 1s 2ms/step - loss: 0.3591 - acc: 0.8441 - val_loss: 0.3631 - val_acc: 0.8432\n",
      "Epoch 19/20\n",
      "591/591 [==============================] - 1s 2ms/step - loss: 0.3589 - acc: 0.8443 - val_loss: 0.3622 - val_acc: 0.8435\n",
      "Epoch 20/20\n",
      "591/591 [==============================] - 1s 2ms/step - loss: 0.3587 - acc: 0.8443 - val_loss: 0.3635 - val_acc: 0.8436\n",
      "Tiempo en generación del modelo: 28.039  sg.\n"
     ]
    }
   ],
   "source": [
    "# Obtención del modelo\n",
    "start_time = time.time()\n",
    "model = models.Sequential()\n",
    "model.add(layers.Dense(128, activation='relu', input_shape=(X_train.shape[1],)))\n",
    "model.add(layers.Dense(64, activation='relu'))\n",
    "model.add(layers.Dense(32, activation='relu'))\n",
    "model.add(layers.Dense(16, activation='relu'))\n",
    "model.add(layers.Dense(1, activation='sigmoid'))\n",
    "\n",
    "model.compile(optimizer='adam',\n",
    "             loss='binary_crossentropy',\n",
    "             metrics=['acc'])\n",
    "\n",
    "# Entrenamos el algoritmo\n",
    "history = model.fit(X_train,\n",
    "                    y_train,\n",
    "                    epochs=20,\n",
    "                    batch_size=512,\n",
    "                    validation_data=(X_val, y_val))\n",
    "\n",
    "print(\"Tiempo en generación del modelo:\", round(time.time()-start_time,3), \" sg.\")"
   ]
  },
  {
   "cell_type": "code",
   "execution_count": 71,
   "metadata": {},
   "outputs": [
    {
     "name": "stdout",
     "output_type": "stream",
     "text": [
      "F1 score: 0.795\n"
     ]
    }
   ],
   "source": [
    "#Predecimos con el el conjunto de validación\n",
    "y_pred_proba = model.predict(X_val)\n",
    "y_pred = (y_pred_proba > 0.5).astype(int)\n",
    "print(\"F1 score: {:.3f}\".format(f1_score(y_val, y_pred, average='weighted')))"
   ]
  },
  {
   "cell_type": "code",
   "execution_count": 72,
   "metadata": {},
   "outputs": [],
   "source": [
    "#Predecimos con el el conjunto de validación\n",
    "y_pred_proba = model.predict(X_test)\n",
    "y_pred = (y_pred_proba > 0.5).astype(int)"
   ]
  },
  {
   "cell_type": "code",
   "execution_count": 73,
   "metadata": {},
   "outputs": [
    {
     "name": "stdout",
     "output_type": "stream",
     "text": [
      "F1 score: 0.797\n",
      "Precisión (Precision): 0.808\n",
      "Exactitud (Accuracy): 0.844\n",
      "Especificidad (Specificity): 0.984\n",
      "AUC-ROC: 0.548\n"
     ]
    }
   ],
   "source": [
    "print(\"F1 score: {:.3f}\".format(f1_score(y_test, y_pred, average='weighted')))\n",
    "print(\"Precisión (Precision): {:.3f}\".format(precision_score(y_test, y_pred, average='weighted')))\n",
    "print(\"Exactitud (Accuracy): {:.3f}\".format(accuracy_score(y_test, y_pred)))\n",
    "print(\"Especificidad (Specificity): {:.3f}\".format(specificity_score(y_test, y_pred)))\n",
    "print(\"AUC-ROC: {:.3f}\".format(roc_auc_score(y_test, y_pred)))"
   ]
  }
 ],
 "metadata": {
  "kernelspec": {
   "display_name": "Python 3",
   "language": "python",
   "name": "python3"
  },
  "language_info": {
   "codemirror_mode": {
    "name": "ipython",
    "version": 3
   },
   "file_extension": ".py",
   "mimetype": "text/x-python",
   "name": "python",
   "nbconvert_exporter": "python",
   "pygments_lexer": "ipython3",
   "version": "3.8.5"
  }
 },
 "nbformat": 4,
 "nbformat_minor": 4
}
